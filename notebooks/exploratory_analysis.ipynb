{
 "cells": [
  {
   "cell_type": "markdown",
   "metadata": {},
   "source": [
    "# DoorLoop CX Data - Exploratory Analysis\n",
    "\n",
    "This notebook performs exploratory data analysis on DoorLoop's customer and event data to uncover insights about customer health, retention, and churn risk.\n",
    "\n",
    "**Author**: CX Analyst\n",
    "**Date**: 2025\n",
    "**Purpose**: Interview Assignment - Senior CX Analyst Role"
   ]
  },
  {
   "cell_type": "code",
   "execution_count": null,
   "metadata": {},
   "outputs": [],
   "source": [
    "# Import libraries\n",
    "import sys\n",
    "sys.path.append('../src')\n",
    "\n",
    "import pandas as pd\n",
    "import numpy as np\n",
    "import matplotlib.pyplot as plt\n",
    "import seaborn as sns\n",
    "import plotly.express as px\n",
    "import plotly.graph_objects as go\n",
    "from datetime import datetime, timedelta\n",
    "\n",
    "# Custom modules\n",
    "from utils.db_connector import DataConnector\n",
    "from utils.data_processor import CXDataProcessor\n",
    "\n",
    "# Display settings\n",
    "pd.set_option('display.max_columns', None)\n",
    "pd.set_option('display.width', 1000)\n",
    "sns.set_style('whitegrid')\n",
    "plt.rcParams['figure.figsize'] = (12, 6)\n",
    "\n",
    "print(\"Libraries loaded successfully!\")"
   ]
  },
  {
   "cell_type": "markdown",
   "metadata": {},
   "source": [
    "## 1. Load Data"
   ]
  },
  {
   "cell_type": "code",
   "execution_count": null,
   "metadata": {},
   "outputs": [],
   "source": [
    "# Load data from Snowflake or local CSV\n",
    "with DataConnector() as db:\n",
    "    users_df = db.load_users()\n",
    "    events_df = db.load_events()\n",
    "\n",
    "print(f\"Users: {len(users_df):,} records\")\n",
    "print(f\"Events: {len(events_df):,} records\")\n",
    "\n",
    "# Display sample\n",
    "print(\"\\nUsers Sample:\")\n",
    "display(users_df.head())\n",
    "\n",
    "print(\"\\nEvents Sample:\")\n",
    "display(events_df.head())"
   ]
  },
  {
   "cell_type": "markdown",
   "metadata": {},
   "source": [
    "## 2. Data Quality Assessment"
   ]
  },
  {
   "cell_type": "code",
   "execution_count": null,
   "metadata": {},
   "outputs": [],
   "source": [
    "# Check for missing values\n",
    "print(\"=== Missing Values in Users ===\")\n",
    "print(users_df.isnull().sum())\n",
    "\n",
    "print(\"\\n=== Missing Values in Events ===\")\n",
    "print(events_df.isnull().sum())\n",
    "\n",
    "# Data types\n",
    "print(\"\\n=== Users Data Types ===\")\n",
    "print(users_df.dtypes)\n",
    "\n",
    "# Basic statistics\n",
    "print(\"\\n=== Users Statistics ===\")\n",
    "display(users_df.describe())"
   ]
  },
  {
   "cell_type": "markdown",
   "metadata": {},
   "source": [
    "## 3. User Base Overview"
   ]
  },
  {
   "cell_type": "code",
   "execution_count": null,
   "metadata": {},
   "outputs": [],
   "source": [
    "# Plan distribution\n",
    "fig = px.pie(users_df, names='plan_type', title='User Distribution by Plan Type')\n",
    "fig.show()\n",
    "\n",
    "# Active vs Inactive\n",
    "active_status = users_df['is_active'].value_counts()\n",
    "print(f\"\\nActive Users: {active_status.get(1, 0):,}\")\n",
    "print(f\"Inactive Users: {active_status.get(0, 0):,}\")\n",
    "print(f\"Churn Rate: {(active_status.get(0, 0) / len(users_df)) * 100:.2f}%\")"
   ]
  },
  {
   "cell_type": "markdown",
   "metadata": {},
   "source": [
    "## 4. Revenue Analysis"
   ]
  },
  {
   "cell_type": "code",
   "execution_count": null,
   "metadata": {},
   "outputs": [],
   "source": [
    "# ARR by plan type\n",
    "arr_by_plan = users_df.groupby('plan_type')['annual_revenue'].agg(['sum', 'mean', 'count'])\n",
    "print(\"=== ARR by Plan Type ===\")\n",
    "display(arr_by_plan)\n",
    "\n",
    "# Visualization\n",
    "fig = px.box(users_df, x='plan_type', y='annual_revenue', \n",
    "             title='ARR Distribution by Plan Type',\n",
    "             color='plan_type')\n",
    "fig.show()\n",
    "\n",
    "# Portfolio size vs ARR correlation\n",
    "correlation = users_df[['portfolio_size', 'annual_revenue']].corr()\n",
    "print(f\"\\nCorrelation between Portfolio Size and ARR: {correlation.iloc[0,1]:.3f}\")"
   ]
  },
  {
   "cell_type": "markdown",
   "metadata": {},
   "source": [
    "## 5. Event Analysis"
   ]
  },
  {
   "cell_type": "code",
   "execution_count": null,
   "metadata": {},
   "outputs": [],
   "source": [
    "# Event type distribution\n",
    "event_counts = events_df['event_type'].value_counts()\n",
    "print(\"=== Event Type Distribution ===\")\n",
    "display(event_counts)\n",
    "\n",
    "# Visualize\n",
    "fig = px.bar(x=event_counts.index, y=event_counts.values,\n",
    "             title='Event Type Distribution',\n",
    "             labels={'x': 'Event Type', 'y': 'Count'})\n",
    "fig.update_xaxis(tickangle=-45)\n",
    "fig.show()\n",
    "\n",
    "# Events over time\n",
    "events_df['event_date'] = pd.to_datetime(events_df['event_ts']).dt.date\n",
    "daily_events = events_df.groupby('event_date').size()\n",
    "\n",
    "fig = px.line(x=daily_events.index, y=daily_events.values,\n",
    "              title='Daily Event Volume',\n",
    "              labels={'x': 'Date', 'y': 'Number of Events'})\n",
    "fig.show()"
   ]
  },
  {
   "cell_type": "markdown",
   "metadata": {},
   "source": [
    "## 6. NPS Analysis"
   ]
  },
  {
   "cell_type": "code",
   "execution_count": null,
   "metadata": {},
   "outputs": [],
   "source": [
    "# NPS distribution\n",
    "fig = px.histogram(users_df, x='nps_score', nbins=30,\n",
    "                   title='NPS Score Distribution')\n",
    "fig.show()\n",
    "\n",
    "# NPS by plan type\n",
    "nps_by_plan = users_df.groupby('plan_type')['nps_score'].mean().sort_values(ascending=False)\n",
    "print(\"\\n=== Average NPS by Plan Type ===\")\n",
    "display(nps_by_plan)\n",
    "\n",
    "# Promoters, Passives, Detractors\n",
    "users_df['nps_category'] = pd.cut(users_df['nps_score'], \n",
    "                                   bins=[-101, 0, 50, 100],\n",
    "                                   labels=['Detractor', 'Passive', 'Promoter'])\n",
    "nps_segments = users_df['nps_category'].value_counts()\n",
    "print(\"\\n=== NPS Segments ===\")\n",
    "display(nps_segments)"
   ]
  },
  {
   "cell_type": "markdown",
   "metadata": {},
   "source": [
    "## 7. Support Ticket Analysis"
   ]
  },
  {
   "cell_type": "code",
   "execution_count": null,
   "metadata": {},
   "outputs": [],
   "source": [
    "# Support tickets distribution\n",
    "fig = px.histogram(users_df, x='support_tickets_last_90d',\n",
    "                   title='Support Tickets Distribution (Last 90 Days)')\n",
    "fig.show()\n",
    "\n",
    "# Support tickets vs NPS\n",
    "fig = px.scatter(users_df, x='support_tickets_last_90d', y='nps_score',\n",
    "                 color='plan_type', size='annual_revenue',\n",
    "                 title='Support Tickets vs NPS Score')\n",
    "fig.show()\n",
    "\n",
    "# High support burden accounts\n",
    "high_support = users_df[users_df['support_tickets_last_90d'] > 10]\n",
    "print(f\"\\nAccounts with >10 support tickets: {len(high_support)}\")\n",
    "print(f\"Average NPS of high-support accounts: {high_support['nps_score'].mean():.1f}\")"
   ]
  },
  {
   "cell_type": "markdown",
   "metadata": {},
   "source": [
    "## 8. Churn Analysis"
   ]
  },
  {
   "cell_type": "code",
   "execution_count": null,
   "metadata": {},
   "outputs": [],
   "source": [
    "# Churn by plan type\n",
    "churn_by_plan = users_df.groupby('plan_type').agg({\n",
    "    'is_active': [lambda x: (x==0).sum(), 'count']\n",
    "})\n",
    "churn_by_plan['churn_rate'] = (churn_by_plan[('is_active', '<lambda>')] / \n",
    "                                churn_by_plan[('is_active', 'count')]) * 100\n",
    "print(\"=== Churn Rate by Plan Type ===\")\n",
    "display(churn_by_plan)\n",
    "\n",
    "# Churned vs Active comparison\n",
    "comparison = users_df.groupby('is_active').agg({\n",
    "    'annual_revenue': 'mean',\n",
    "    'nps_score': 'mean',\n",
    "    'support_tickets_last_90d': 'mean',\n",
    "    'portfolio_size': 'mean'\n",
    "})\n",
    "comparison.index = ['Churned', 'Active']\n",
    "print(\"\\n=== Churned vs Active Comparison ===\")\n",
    "display(comparison)"
   ]
  },
  {
   "cell_type": "markdown",
   "metadata": {},
   "source": [
    "## 9. Build Comprehensive Metrics"
   ]
  },
  {
   "cell_type": "code",
   "execution_count": null,
   "metadata": {},
   "outputs": [],
   "source": [
    "# Process data using CXDataProcessor\n",
    "processor = CXDataProcessor(users_df, events_df)\n",
    "master_df = processor.build_master_table()\n",
    "\n",
    "print(\"Master metrics table created!\")\n",
    "print(f\"Shape: {master_df.shape}\")\n",
    "display(master_df.head())"
   ]
  },
  {
   "cell_type": "markdown",
   "metadata": {},
   "source": [
    "## 10. Key Insights & Recommendations"
   ]
  },
  {
   "cell_type": "code",
   "execution_count": null,
   "metadata": {},
   "outputs": [],
   "source": [
    "print(\"=== KEY CX INSIGHTS ===\")\n",
    "print(\"\\n1. HEALTH DISTRIBUTION\")\n",
    "health_dist = master_df['health_tier'].value_counts()\n",
    "display(health_dist)\n",
    "\n",
    "print(\"\\n2. AT-RISK ACCOUNTS\")\n",
    "at_risk = master_df[master_df['at_renewal_risk'] == 1]\n",
    "print(f\"Total at-risk accounts: {len(at_risk)}\")\n",
    "print(f\"ARR at risk: ${at_risk['annual_revenue'].sum():,.0f}\")\n",
    "\n",
    "print(\"\\n3. TOP CHURN DRIVERS\")\n",
    "print(\"- Low engagement (days since last activity)\")\n",
    "print(\"- High support ticket volume\")\n",
    "print(\"- Low NPS scores\")\n",
    "print(\"- Lack of core feature adoption\")\n",
    "\n",
    "print(\"\\n4. EXPANSION OPPORTUNITIES\")\n",
    "expansion = master_df[(master_df['health_tier'] == 'Green') & \n",
    "                      (master_df['plan_type'].isin(['starter', 'pro']))]\n",
    "print(f\"High-health lower-tier accounts: {len(expansion)}\")\n",
    "print(f\"Potential expansion ARR: ${expansion['annual_revenue'].sum():,.0f}\")"
   ]
  },
  {
   "cell_type": "markdown",
   "metadata": {},
   "source": [
    "## Summary\n",
    "\n",
    "This exploratory analysis reveals:\n",
    "\n",
    "1. **Health Status**: Distribution of customer health across Red/Yellow/Green tiers\n",
    "2. **Churn Risk**: Identified at-risk accounts for proactive intervention\n",
    "3. **Revenue Opportunity**: Expansion potential in healthy lower-tier accounts\n",
    "4. **Key Drivers**: Support burden, NPS, and engagement are primary health indicators\n",
    "\n",
    "Next steps: Build churn prediction model and create actionable playbooks."
   ]
  }
 ],
 "metadata": {
  "kernelspec": {
   "display_name": "Python 3",
   "language": "python",
   "name": "python3"
  },
  "language_info": {
   "codemirror_mode": {
    "name": "ipython",
    "version": 3
   },
   "file_extension": ".py",
   "mimetype": "text/x-python",
   "name": "python",
   "nbconvert_exporter": "python",
   "pygments_lexer": "ipython3",
   "version": "3.9.0"
  }
 },
 "nbformat": 4,
 "nbformat_minor": 4
}
