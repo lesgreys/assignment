{
 "cells": [
  {
   "cell_type": "markdown",
   "id": "cell-0",
   "metadata": {},
   "source": [
    "# DoorLoop CX Data - Customer Segmentation & Profile Analysis\n",
    "\n",
    "This notebook builds comprehensive customer profiles by joining user and event data, then segments customers across multiple dimensions.\n",
    "\n",
    "**Author**: CX Analyst\n",
    "**Date**: 2025\n",
    "**Purpose**: Customer Segmentation & Profile Building"
   ]
  },
  {
   "cell_type": "code",
   "execution_count": 414,
   "id": "cell-1",
   "metadata": {},
   "outputs": [
    {
     "name": "stdout",
     "output_type": "stream",
     "text": [
      "Libraries loaded successfully!\n"
     ]
    }
   ],
   "source": [
    "# Import libraries\n",
    "import sys\n",
    "sys.path.append('../src')\n",
    "\n",
    "import pandas as pd\n",
    "import numpy as np\n",
    "import matplotlib.pyplot as plt\n",
    "import seaborn as sns\n",
    "import plotly.express as px\n",
    "import plotly.graph_objects as go\n",
    "from datetime import datetime, timedelta\n",
    "\n",
    "# Custom modules\n",
    "from utils.db_connector import DataConnector\n",
    "from utils.data_processor import CXDataProcessor\n",
    "\n",
    "# Display settings\n",
    "pd.set_option('display.max_columns', None)\n",
    "pd.set_option('display.width', 1000)\n",
    "sns.set_style('whitegrid')\n",
    "plt.rcParams['figure.figsize'] = (12, 6)\n",
    "\n",
    "print(\"Libraries loaded successfully!\")"
   ]
  },
  {
   "cell_type": "markdown",
   "id": "cell-2",
   "metadata": {},
   "source": [
    "## 1. Load Data"
   ]
  },
  {
   "cell_type": "code",
   "execution_count": 415,
   "id": "cell-3",
   "metadata": {},
   "outputs": [
    {
     "name": "stdout",
     "output_type": "stream",
     "text": [
      "Users: 10,000 records\n",
      "Events: 228,731 records\n",
      "\n",
      "Users Sample:\n"
     ]
    },
    {
     "data": {
      "text/html": [
       "<div>\n",
       "<style scoped>\n",
       "    .dataframe tbody tr th:only-of-type {\n",
       "        vertical-align: middle;\n",
       "    }\n",
       "\n",
       "    .dataframe tbody tr th {\n",
       "        vertical-align: top;\n",
       "    }\n",
       "\n",
       "    .dataframe thead th {\n",
       "        text-align: right;\n",
       "    }\n",
       "</style>\n",
       "<table border=\"1\" class=\"dataframe\">\n",
       "  <thead>\n",
       "    <tr style=\"text-align: right;\">\n",
       "      <th></th>\n",
       "      <th>user_id</th>\n",
       "      <th>signup_date</th>\n",
       "      <th>plan_type</th>\n",
       "      <th>portfolio_size</th>\n",
       "      <th>annual_revenue</th>\n",
       "      <th>is_active</th>\n",
       "      <th>nps_score</th>\n",
       "      <th>support_tickets_last_90d</th>\n",
       "      <th>success_manager_assigned</th>\n",
       "      <th>csm_id</th>\n",
       "      <th>renewal_due_date</th>\n",
       "    </tr>\n",
       "  </thead>\n",
       "  <tbody>\n",
       "    <tr>\n",
       "      <th>0</th>\n",
       "      <td>1</td>\n",
       "      <td>2024-04-08</td>\n",
       "      <td>starter</td>\n",
       "      <td>1</td>\n",
       "      <td>143.89</td>\n",
       "      <td>True</td>\n",
       "      <td>6.0</td>\n",
       "      <td>0</td>\n",
       "      <td>0</td>\n",
       "      <td>NaN</td>\n",
       "      <td>2026-04-08</td>\n",
       "    </tr>\n",
       "    <tr>\n",
       "      <th>1</th>\n",
       "      <td>2</td>\n",
       "      <td>2025-03-22</td>\n",
       "      <td>starter</td>\n",
       "      <td>40</td>\n",
       "      <td>177.41</td>\n",
       "      <td>False</td>\n",
       "      <td>-53.0</td>\n",
       "      <td>3</td>\n",
       "      <td>1</td>\n",
       "      <td>CSM009</td>\n",
       "      <td>2025-09-12</td>\n",
       "    </tr>\n",
       "    <tr>\n",
       "      <th>2</th>\n",
       "      <td>3</td>\n",
       "      <td>2024-08-14</td>\n",
       "      <td>starter</td>\n",
       "      <td>10</td>\n",
       "      <td>336.76</td>\n",
       "      <td>True</td>\n",
       "      <td>37.0</td>\n",
       "      <td>0</td>\n",
       "      <td>0</td>\n",
       "      <td>NaN</td>\n",
       "      <td>2026-08-14</td>\n",
       "    </tr>\n",
       "    <tr>\n",
       "      <th>3</th>\n",
       "      <td>4</td>\n",
       "      <td>2024-02-09</td>\n",
       "      <td>starter</td>\n",
       "      <td>30</td>\n",
       "      <td>450.13</td>\n",
       "      <td>True</td>\n",
       "      <td>51.0</td>\n",
       "      <td>0</td>\n",
       "      <td>0</td>\n",
       "      <td>NaN</td>\n",
       "      <td>2026-02-09</td>\n",
       "    </tr>\n",
       "    <tr>\n",
       "      <th>4</th>\n",
       "      <td>5</td>\n",
       "      <td>2025-06-18</td>\n",
       "      <td>pro</td>\n",
       "      <td>80</td>\n",
       "      <td>2172.85</td>\n",
       "      <td>True</td>\n",
       "      <td>24.0</td>\n",
       "      <td>1</td>\n",
       "      <td>1</td>\n",
       "      <td>CSM006</td>\n",
       "      <td>2026-06-18</td>\n",
       "    </tr>\n",
       "  </tbody>\n",
       "</table>\n",
       "</div>"
      ],
      "text/plain": [
       "   user_id signup_date plan_type  portfolio_size  annual_revenue  is_active  nps_score  support_tickets_last_90d  success_manager_assigned  csm_id renewal_due_date\n",
       "0        1  2024-04-08   starter               1          143.89       True        6.0                         0                         0     NaN       2026-04-08\n",
       "1        2  2025-03-22   starter              40          177.41      False      -53.0                         3                         1  CSM009       2025-09-12\n",
       "2        3  2024-08-14   starter              10          336.76       True       37.0                         0                         0     NaN       2026-08-14\n",
       "3        4  2024-02-09   starter              30          450.13       True       51.0                         0                         0     NaN       2026-02-09\n",
       "4        5  2025-06-18       pro              80         2172.85       True       24.0                         1                         1  CSM006       2026-06-18"
      ]
     },
     "metadata": {},
     "output_type": "display_data"
    },
    {
     "name": "stdout",
     "output_type": "stream",
     "text": [
      "\n",
      "Events Sample:\n"
     ]
    },
    {
     "data": {
      "text/html": [
       "<div>\n",
       "<style scoped>\n",
       "    .dataframe tbody tr th:only-of-type {\n",
       "        vertical-align: middle;\n",
       "    }\n",
       "\n",
       "    .dataframe tbody tr th {\n",
       "        vertical-align: top;\n",
       "    }\n",
       "\n",
       "    .dataframe thead th {\n",
       "        text-align: right;\n",
       "    }\n",
       "</style>\n",
       "<table border=\"1\" class=\"dataframe\">\n",
       "  <thead>\n",
       "    <tr style=\"text-align: right;\">\n",
       "      <th></th>\n",
       "      <th>event_id</th>\n",
       "      <th>user_id</th>\n",
       "      <th>event_ts</th>\n",
       "      <th>event_type</th>\n",
       "      <th>event_value_num</th>\n",
       "      <th>event_value_txt</th>\n",
       "    </tr>\n",
       "  </thead>\n",
       "  <tbody>\n",
       "    <tr>\n",
       "      <th>0</th>\n",
       "      <td>1</td>\n",
       "      <td>1</td>\n",
       "      <td>2024-04-09</td>\n",
       "      <td>login</td>\n",
       "      <td>4.45</td>\n",
       "      <td>NaN</td>\n",
       "    </tr>\n",
       "    <tr>\n",
       "      <th>1</th>\n",
       "      <td>2</td>\n",
       "      <td>1</td>\n",
       "      <td>2024-05-10</td>\n",
       "      <td>login</td>\n",
       "      <td>15.59</td>\n",
       "      <td>NaN</td>\n",
       "    </tr>\n",
       "    <tr>\n",
       "      <th>2</th>\n",
       "      <td>3</td>\n",
       "      <td>1</td>\n",
       "      <td>2024-05-20</td>\n",
       "      <td>tenant_added</td>\n",
       "      <td>NaN</td>\n",
       "      <td>NaN</td>\n",
       "    </tr>\n",
       "    <tr>\n",
       "      <th>3</th>\n",
       "      <td>4</td>\n",
       "      <td>1</td>\n",
       "      <td>2024-05-29</td>\n",
       "      <td>login</td>\n",
       "      <td>34.86</td>\n",
       "      <td>NaN</td>\n",
       "    </tr>\n",
       "    <tr>\n",
       "      <th>4</th>\n",
       "      <td>5</td>\n",
       "      <td>1</td>\n",
       "      <td>2024-06-24</td>\n",
       "      <td>maintenance_request_created</td>\n",
       "      <td>NaN</td>\n",
       "      <td>electric</td>\n",
       "    </tr>\n",
       "  </tbody>\n",
       "</table>\n",
       "</div>"
      ],
      "text/plain": [
       "   event_id  user_id   event_ts                   event_type  event_value_num event_value_txt\n",
       "0         1        1 2024-04-09                        login             4.45             NaN\n",
       "1         2        1 2024-05-10                        login            15.59             NaN\n",
       "2         3        1 2024-05-20                 tenant_added              NaN             NaN\n",
       "3         4        1 2024-05-29                        login            34.86             NaN\n",
       "4         5        1 2024-06-24  maintenance_request_created              NaN        electric"
      ]
     },
     "metadata": {},
     "output_type": "display_data"
    }
   ],
   "source": [
    "# Load data from Snowflake or local CSV\n",
    "with DataConnector() as db:\n",
    "    users_df = db.load_users()\n",
    "    events_df = db.load_events()\n",
    "\n",
    "print(f\"Users: {len(users_df):,} records\")\n",
    "print(f\"Events: {len(events_df):,} records\")\n",
    "\n",
    "# Display sample\n",
    "print(\"\\nUsers Sample:\")\n",
    "display(users_df.head())\n",
    "\n",
    "print(\"\\nEvents Sample:\")\n",
    "display(events_df.head())"
   ]
  },
  {
   "cell_type": "markdown",
   "id": "r9uohkm12t",
   "metadata": {},
   "source": [
    "## 2. Create Joined Table"
   ]
  },
  {
   "cell_type": "code",
   "execution_count": 416,
   "id": "ajsba77owas",
   "metadata": {},
   "outputs": [
    {
     "name": "stdout",
     "output_type": "stream",
     "text": [
      "Joined table created: (10000, 27)\n",
      "Columns: 27\n",
      "\n",
      "Column names: ['user_id', 'signup_date', 'plan_type', 'portfolio_size', 'annual_revenue', 'is_active', 'nps_score', 'support_tickets_last_90d', 'success_manager_assigned', 'csm_id', 'renewal_due_date', 'first_event_date', 'last_event_date', 'total_events', 'event_type_breakdown', 'days_since_last_activity', 'feature_adopted_count', 'lease_signed_count', 'login_count', 'maintenance_request_created_count', 'nps_response_submitted_count', 'rent_payment_received_count', 'report_generated_count', 'subscription_cancelled_count', 'support_ticket_created_count', 'tenant_added_count', 'training_attended_count']\n"
     ]
    },
    {
     "data": {
      "text/html": [
       "<div>\n",
       "<style scoped>\n",
       "    .dataframe tbody tr th:only-of-type {\n",
       "        vertical-align: middle;\n",
       "    }\n",
       "\n",
       "    .dataframe tbody tr th {\n",
       "        vertical-align: top;\n",
       "    }\n",
       "\n",
       "    .dataframe thead th {\n",
       "        text-align: right;\n",
       "    }\n",
       "</style>\n",
       "<table border=\"1\" class=\"dataframe\">\n",
       "  <thead>\n",
       "    <tr style=\"text-align: right;\">\n",
       "      <th></th>\n",
       "      <th>user_id</th>\n",
       "      <th>signup_date</th>\n",
       "      <th>plan_type</th>\n",
       "      <th>portfolio_size</th>\n",
       "      <th>annual_revenue</th>\n",
       "      <th>is_active</th>\n",
       "      <th>nps_score</th>\n",
       "      <th>support_tickets_last_90d</th>\n",
       "      <th>success_manager_assigned</th>\n",
       "      <th>csm_id</th>\n",
       "      <th>renewal_due_date</th>\n",
       "      <th>first_event_date</th>\n",
       "      <th>last_event_date</th>\n",
       "      <th>total_events</th>\n",
       "      <th>event_type_breakdown</th>\n",
       "      <th>days_since_last_activity</th>\n",
       "      <th>feature_adopted_count</th>\n",
       "      <th>lease_signed_count</th>\n",
       "      <th>login_count</th>\n",
       "      <th>maintenance_request_created_count</th>\n",
       "      <th>nps_response_submitted_count</th>\n",
       "      <th>rent_payment_received_count</th>\n",
       "      <th>report_generated_count</th>\n",
       "      <th>subscription_cancelled_count</th>\n",
       "      <th>support_ticket_created_count</th>\n",
       "      <th>tenant_added_count</th>\n",
       "      <th>training_attended_count</th>\n",
       "    </tr>\n",
       "  </thead>\n",
       "  <tbody>\n",
       "    <tr>\n",
       "      <th>0</th>\n",
       "      <td>1</td>\n",
       "      <td>2024-04-08</td>\n",
       "      <td>starter</td>\n",
       "      <td>1</td>\n",
       "      <td>143.89</td>\n",
       "      <td>True</td>\n",
       "      <td>6.0</td>\n",
       "      <td>0</td>\n",
       "      <td>0</td>\n",
       "      <td>NaN</td>\n",
       "      <td>2026-04-08</td>\n",
       "      <td>2024-04-09</td>\n",
       "      <td>2026-03-19</td>\n",
       "      <td>16</td>\n",
       "      <td>{'login': 7, 'maintenance_request_created': 5,...</td>\n",
       "      <td>-139</td>\n",
       "      <td>0</td>\n",
       "      <td>0</td>\n",
       "      <td>7</td>\n",
       "      <td>5</td>\n",
       "      <td>1</td>\n",
       "      <td>0</td>\n",
       "      <td>1</td>\n",
       "      <td>0</td>\n",
       "      <td>0</td>\n",
       "      <td>2</td>\n",
       "      <td>0</td>\n",
       "    </tr>\n",
       "    <tr>\n",
       "      <th>1</th>\n",
       "      <td>2</td>\n",
       "      <td>2025-03-22</td>\n",
       "      <td>starter</td>\n",
       "      <td>40</td>\n",
       "      <td>177.41</td>\n",
       "      <td>False</td>\n",
       "      <td>-53.0</td>\n",
       "      <td>3</td>\n",
       "      <td>1</td>\n",
       "      <td>CSM009</td>\n",
       "      <td>2025-09-12</td>\n",
       "      <td>2025-03-23</td>\n",
       "      <td>2025-08-22</td>\n",
       "      <td>25</td>\n",
       "      <td>{'maintenance_request_created': 5, 'login': 4,...</td>\n",
       "      <td>70</td>\n",
       "      <td>0</td>\n",
       "      <td>2</td>\n",
       "      <td>4</td>\n",
       "      <td>5</td>\n",
       "      <td>1</td>\n",
       "      <td>0</td>\n",
       "      <td>4</td>\n",
       "      <td>1</td>\n",
       "      <td>3</td>\n",
       "      <td>4</td>\n",
       "      <td>1</td>\n",
       "    </tr>\n",
       "    <tr>\n",
       "      <th>2</th>\n",
       "      <td>3</td>\n",
       "      <td>2024-08-14</td>\n",
       "      <td>starter</td>\n",
       "      <td>10</td>\n",
       "      <td>336.76</td>\n",
       "      <td>True</td>\n",
       "      <td>37.0</td>\n",
       "      <td>0</td>\n",
       "      <td>0</td>\n",
       "      <td>NaN</td>\n",
       "      <td>2026-08-14</td>\n",
       "      <td>2024-08-15</td>\n",
       "      <td>2026-07-12</td>\n",
       "      <td>15</td>\n",
       "      <td>{'maintenance_request_created': 5, 'login': 3,...</td>\n",
       "      <td>-254</td>\n",
       "      <td>1</td>\n",
       "      <td>2</td>\n",
       "      <td>3</td>\n",
       "      <td>5</td>\n",
       "      <td>1</td>\n",
       "      <td>1</td>\n",
       "      <td>1</td>\n",
       "      <td>0</td>\n",
       "      <td>0</td>\n",
       "      <td>1</td>\n",
       "      <td>0</td>\n",
       "    </tr>\n",
       "    <tr>\n",
       "      <th>3</th>\n",
       "      <td>4</td>\n",
       "      <td>2024-02-09</td>\n",
       "      <td>starter</td>\n",
       "      <td>30</td>\n",
       "      <td>450.13</td>\n",
       "      <td>True</td>\n",
       "      <td>51.0</td>\n",
       "      <td>0</td>\n",
       "      <td>0</td>\n",
       "      <td>NaN</td>\n",
       "      <td>2026-02-09</td>\n",
       "      <td>2024-02-09</td>\n",
       "      <td>2026-01-11</td>\n",
       "      <td>21</td>\n",
       "      <td>{'login': 5, 'lease_signed': 4, 'report_genera...</td>\n",
       "      <td>-72</td>\n",
       "      <td>1</td>\n",
       "      <td>4</td>\n",
       "      <td>5</td>\n",
       "      <td>3</td>\n",
       "      <td>1</td>\n",
       "      <td>2</td>\n",
       "      <td>3</td>\n",
       "      <td>0</td>\n",
       "      <td>0</td>\n",
       "      <td>2</td>\n",
       "      <td>0</td>\n",
       "    </tr>\n",
       "    <tr>\n",
       "      <th>4</th>\n",
       "      <td>5</td>\n",
       "      <td>2025-06-18</td>\n",
       "      <td>pro</td>\n",
       "      <td>80</td>\n",
       "      <td>2172.85</td>\n",
       "      <td>True</td>\n",
       "      <td>24.0</td>\n",
       "      <td>1</td>\n",
       "      <td>1</td>\n",
       "      <td>CSM006</td>\n",
       "      <td>2026-06-18</td>\n",
       "      <td>2025-06-18</td>\n",
       "      <td>2026-05-28</td>\n",
       "      <td>29</td>\n",
       "      <td>{'report_generated': 8, 'lease_signed': 7, 'lo...</td>\n",
       "      <td>-209</td>\n",
       "      <td>0</td>\n",
       "      <td>7</td>\n",
       "      <td>5</td>\n",
       "      <td>1</td>\n",
       "      <td>1</td>\n",
       "      <td>0</td>\n",
       "      <td>8</td>\n",
       "      <td>0</td>\n",
       "      <td>1</td>\n",
       "      <td>5</td>\n",
       "      <td>1</td>\n",
       "    </tr>\n",
       "  </tbody>\n",
       "</table>\n",
       "</div>"
      ],
      "text/plain": [
       "   user_id signup_date plan_type  portfolio_size  annual_revenue  is_active  nps_score  support_tickets_last_90d  success_manager_assigned  csm_id renewal_due_date first_event_date last_event_date  total_events                               event_type_breakdown  days_since_last_activity  feature_adopted_count  lease_signed_count  login_count  maintenance_request_created_count  nps_response_submitted_count  rent_payment_received_count  report_generated_count  subscription_cancelled_count  support_ticket_created_count  tenant_added_count  training_attended_count\n",
       "0        1  2024-04-08   starter               1          143.89       True        6.0                         0                         0     NaN       2026-04-08       2024-04-09      2026-03-19            16  {'login': 7, 'maintenance_request_created': 5,...                      -139                      0                   0            7                                  5                             1                            0                       1                             0                             0                   2                        0\n",
       "1        2  2025-03-22   starter              40          177.41      False      -53.0                         3                         1  CSM009       2025-09-12       2025-03-23      2025-08-22            25  {'maintenance_request_created': 5, 'login': 4,...                        70                      0                   2            4                                  5                             1                            0                       4                             1                             3                   4                        1\n",
       "2        3  2024-08-14   starter              10          336.76       True       37.0                         0                         0     NaN       2026-08-14       2024-08-15      2026-07-12            15  {'maintenance_request_created': 5, 'login': 3,...                      -254                      1                   2            3                                  5                             1                            1                       1                             0                             0                   1                        0\n",
       "3        4  2024-02-09   starter              30          450.13       True       51.0                         0                         0     NaN       2026-02-09       2024-02-09      2026-01-11            21  {'login': 5, 'lease_signed': 4, 'report_genera...                       -72                      1                   4            5                                  3                             1                            2                       3                             0                             0                   2                        0\n",
       "4        5  2025-06-18       pro              80         2172.85       True       24.0                         1                         1  CSM006       2026-06-18       2025-06-18      2026-05-28            29  {'report_generated': 8, 'lease_signed': 7, 'lo...                      -209                      0                   7            5                                  1                             1                            0                       8                             0                             1                   5                        1"
      ]
     },
     "metadata": {},
     "output_type": "display_data"
    }
   ],
   "source": [
    "# Aggregate event-level metrics per user\n",
    "event_metrics = events_df.groupby('user_id').agg({\n",
    "    'event_ts': ['min', 'max', 'count'],\n",
    "    'event_type': lambda x: x.value_counts().to_dict()\n",
    "}).reset_index()\n",
    "\n",
    "# Flatten column names\n",
    "event_metrics.columns = ['user_id', 'first_event_date', 'last_event_date', 'total_events', 'event_type_breakdown']\n",
    "\n",
    "# Calculate days since last activity\n",
    "event_metrics['last_event_date'] = pd.to_datetime(event_metrics['last_event_date'])\n",
    "event_metrics['days_since_last_activity'] = (datetime.now() - event_metrics['last_event_date']).dt.days\n",
    "\n",
    "# Extract individual event type counts\n",
    "event_type_counts = events_df.groupby(['user_id', 'event_type']).size().unstack(fill_value=0).reset_index()\n",
    "event_type_counts.columns = ['user_id'] + [f'{col}_count' for col in event_type_counts.columns[1:]]\n",
    "\n",
    "# Merge event metrics\n",
    "event_metrics = event_metrics.merge(event_type_counts, on='user_id', how='left')\n",
    "\n",
    "# Join users with event metrics\n",
    "joined_df = users_df.merge(event_metrics, on='user_id', how='left')\n",
    "\n",
    "# Fill NAs for users with no events\n",
    "joined_df['total_events'] = joined_df['total_events'].fillna(0)\n",
    "joined_df['days_since_last_activity'] = joined_df['days_since_last_activity'].fillna(999)\n",
    "\n",
    "print(f\"Joined table created: {joined_df.shape}\")\n",
    "print(f\"Columns: {len(joined_df.columns)}\")\n",
    "print(f\"\\nColumn names: {list(joined_df.columns)}\")\n",
    "display(joined_df.head())"
   ]
  },
  {
   "cell_type": "code",
   "execution_count": 417,
   "id": "f88b62c6",
   "metadata": {},
   "outputs": [
    {
     "ename": "SyntaxError",
     "evalue": "invalid syntax (3131842840.py, line 1)",
     "output_type": "error",
     "traceback": [
      "\u001b[0;36m  Cell \u001b[0;32mIn[417], line 1\u001b[0;36m\u001b[0m\n\u001b[0;31m    joined_df.('joined_df.csv')\u001b[0m\n\u001b[0m              ^\u001b[0m\n\u001b[0;31mSyntaxError\u001b[0m\u001b[0;31m:\u001b[0m invalid syntax\n"
     ]
    }
   ],
   "source": [
    "joined_df.('joined_df.csv')"
   ]
  },
  {
   "cell_type": "markdown",
   "id": "jdci1c4fwlq",
   "metadata": {},
   "source": [
    "## 3. Portfolio Size Groups"
   ]
  },
  {
   "cell_type": "code",
   "execution_count": null,
   "id": "wlmr0kpco0l",
   "metadata": {},
   "outputs": [
    {
     "name": "stdout",
     "output_type": "stream",
     "text": [
      "=== Portfolio Size Distribution ===\n",
      "portfolio_group\n",
      "1 unit         913\n",
      "2-5 units     3355\n",
      "6-10 units     883\n",
      "10+ units     4849\n",
      "Name: count, dtype: int64\n",
      "\n",
      "Plan Type Distribution:\n",
      "plan_type\n",
      "starter    5207\n",
      "pro        3286\n",
      "premium    1507\n",
      "Name: count, dtype: int64\n"
     ]
    }
   ],
   "source": [
    "# Create portfolio size groups (4 ranges: 1, 2-5, 5-10, 10+)\n",
    "joined_df['portfolio_group'] = pd.cut(\n",
    "    joined_df['portfolio_size'],\n",
    "    bins=[0, 1, 5, 10, float('inf')],\n",
    "    labels=['1 unit', '2-5 units', '6-10 units', '10+ units'],\n",
    "    include_lowest=True\n",
    ")\n",
    "\n",
    "# Check portfolio distribution\n",
    "print(\"=== Portfolio Size Distribution ===\")\n",
    "print(joined_df['portfolio_group'].value_counts().sort_index())\n",
    "print(f\"\\nPlan Type Distribution:\")\n",
    "print(joined_df['plan_type'].value_counts())"
   ]
  },
  {
   "cell_type": "code",
   "execution_count": null,
   "id": "wnwsnwzil5",
   "metadata": {},
   "outputs": [
    {
     "name": "stdout",
     "output_type": "stream",
     "text": [
      "================================================================================\n",
      "PORTFOLIO SIZE DATA QUALITY CHECK\n",
      "================================================================================\n",
      "Total records: 10,000\n",
      "Null values: 0\n",
      "Values < 1: 199\n",
      "Values = 0: 199\n",
      "\n",
      "Portfolio size range: 0 to 100\n"
     ]
    }
   ],
   "source": [
    "# Check for null or <1 values in portfolio_size\n",
    "null_count = joined_df['portfolio_size'].isnull().sum()\n",
    "less_than_one = (joined_df['portfolio_size'] < 1).sum()\n",
    "zero_values = (joined_df['portfolio_size'] == 0).sum()\n",
    "\n",
    "print(\"=\"*80)\n",
    "print(\"PORTFOLIO SIZE DATA QUALITY CHECK\")\n",
    "print(\"=\"*80)\n",
    "print(f\"Total records: {len(joined_df):,}\")\n",
    "print(f\"Null values: {null_count:,}\")\n",
    "print(f\"Values < 1: {less_than_one:,}\")\n",
    "print(f\"Values = 0: {zero_values:,}\")\n",
    "print(f\"\\nPortfolio size range: {joined_df['portfolio_size'].min()} to {joined_df['portfolio_size'].max()}\")"
   ]
  },
  {
   "cell_type": "code",
   "execution_count": null,
   "id": "jo3t3zdd5wm",
   "metadata": {},
   "outputs": [
    {
     "name": "stdout",
     "output_type": "stream",
     "text": [
      "\n",
      "================================================================================\n",
      "Primary Segmentation: Portfolio Size → Plan Type\n",
      "================================================================================\n"
     ]
    }
   ],
   "source": [
    "# Portfolio Size → Plan Type is our primary segmentation\n",
    "# This view helps us understand customer behavior by scale first, then by plan tier\n",
    "print(f\"\\n{'='*80}\")\n",
    "print(f\"Primary Segmentation: Portfolio Size → Plan Type\")\n",
    "print(f\"{'='*80}\")"
   ]
  },
  {
   "cell_type": "markdown",
   "id": "z5vq5q1q81f",
   "metadata": {},
   "source": [
    "## 4. Segmentation: Portfolio Size → Plan Type"
   ]
  },
  {
   "cell_type": "code",
   "execution_count": null,
   "id": "kpaiz0o6pq9",
   "metadata": {},
   "outputs": [
    {
     "name": "stdout",
     "output_type": "stream",
     "text": [
      "\n",
      "================================================================================\n",
      "SEGMENTATION OVERVIEW: Portfolio Size → Plan Type\n",
      "================================================================================\n",
      "Total Users: 10,000\n",
      "\n",
      "1 unit → premium                           144 users (  1.4%)\n",
      "1 unit → pro                               299 users (  3.0%)\n",
      "1 unit → starter                           470 users (  4.7%)\n",
      "10+ units → premium                        724 users (  7.2%)\n",
      "10+ units → pro                          1,629 users ( 16.3%)\n",
      "10+ units → starter                      2,496 users ( 25.0%)\n",
      "2-5 units → premium                        509 users (  5.1%)\n",
      "2-5 units → pro                          1,080 users ( 10.8%)\n",
      "2-5 units → starter                      1,766 users ( 17.7%)\n",
      "6-10 units → premium                       130 users (  1.3%)\n",
      "6-10 units → pro                           278 users (  2.8%)\n",
      "6-10 units → starter                       475 users (  4.8%)\n",
      "\n",
      "================================================================================\n",
      "Total Segments: 12\n",
      "================================================================================\n"
     ]
    }
   ],
   "source": [
    "# Create segment identifier: Portfolio Group → Plan Type\n",
    "joined_df['segment_v2'] = joined_df['portfolio_group'].astype(str) + ' → ' + joined_df['plan_type'].astype(str)\n",
    "\n",
    "# Calculate total for percentage calculations\n",
    "total_users = len(joined_df)\n",
    "\n",
    "# List all segments with counts and percentages\n",
    "segments_v2_dict = {}\n",
    "\n",
    "print(f\"\\n{'='*80}\")\n",
    "print(f\"SEGMENTATION OVERVIEW: Portfolio Size → Plan Type\")\n",
    "print(f\"{'='*80}\")\n",
    "print(f\"Total Users: {total_users:,}\\n\")\n",
    "\n",
    "for segment_name in sorted(joined_df['segment_v2'].unique()):\n",
    "    segment_users = joined_df[joined_df['segment_v2'] == segment_name].copy()\n",
    "    segments_v2_dict[segment_name] = segment_users\n",
    "    \n",
    "    segment_count = len(segment_users)\n",
    "    segment_pct = (segment_count / total_users) * 100\n",
    "    \n",
    "    print(f\"{segment_name:40} {segment_count:5,} users ({segment_pct:5.1f}%)\")\n",
    "\n",
    "print(f\"\\n{'='*80}\")\n",
    "print(f\"Total Segments: {len(segments_v2_dict)}\")\n",
    "print(f\"{'='*80}\")"
   ]
  },
  {
   "cell_type": "markdown",
   "id": "wjga35n99b",
   "metadata": {},
   "source": [
    "## 5. Aggregate Statistics for All Segments"
   ]
  },
  {
   "cell_type": "code",
   "execution_count": null,
   "id": "1opd3cnmtvp",
   "metadata": {},
   "outputs": [
    {
     "name": "stdout",
     "output_type": "stream",
     "text": [
      "====================================================================================================\n",
      "SEGMENT STATISTICS: Portfolio Group → Plan Type\n",
      "====================================================================================================\n",
      "\n",
      "Event type columns included: 11\n",
      "Event types: feature_adopted, lease_signed, login, maintenance_request_created, nps_response_submitted, rent_payment_received, report_generated, subscription_cancelled, support_ticket_created, tenant_added, training_attended\n",
      "\n"
     ]
    },
    {
     "name": "stderr",
     "output_type": "stream",
     "text": [
      "/var/folders/dt/ygs29g2d69z6j_kp3w6648340000gn/T/ipykernel_86856/3296442609.py:23: FutureWarning:\n",
      "\n",
      "The default of observed=False is deprecated and will be changed to True in a future version of pandas. Pass observed=False to retain current behavior or observed=True to adopt the future default and silence this warning.\n",
      "\n"
     ]
    },
    {
     "data": {
      "text/html": [
       "<div>\n",
       "<style scoped>\n",
       "    .dataframe tbody tr th:only-of-type {\n",
       "        vertical-align: middle;\n",
       "    }\n",
       "\n",
       "    .dataframe tbody tr th {\n",
       "        vertical-align: top;\n",
       "    }\n",
       "\n",
       "    .dataframe thead th {\n",
       "        text-align: right;\n",
       "    }\n",
       "</style>\n",
       "<table border=\"1\" class=\"dataframe\">\n",
       "  <thead>\n",
       "    <tr style=\"text-align: right;\">\n",
       "      <th></th>\n",
       "      <th></th>\n",
       "      <th>customer_count</th>\n",
       "      <th>total_arr</th>\n",
       "      <th>avg_arr</th>\n",
       "      <th>median_arr</th>\n",
       "      <th>min_arr</th>\n",
       "      <th>max_arr</th>\n",
       "      <th>avg_portfolio</th>\n",
       "      <th>median_portfolio</th>\n",
       "      <th>min_portfolio</th>\n",
       "      <th>max_portfolio</th>\n",
       "      <th>avg_nps</th>\n",
       "      <th>median_nps</th>\n",
       "      <th>std_nps</th>\n",
       "      <th>total_tickets</th>\n",
       "      <th>avg_tickets</th>\n",
       "      <th>median_tickets</th>\n",
       "      <th>max_tickets</th>\n",
       "      <th>total_events_all</th>\n",
       "      <th>avg_events_per_user</th>\n",
       "      <th>median_events_per_user</th>\n",
       "      <th>avg_days_since_activity</th>\n",
       "      <th>median_days_since_activity</th>\n",
       "      <th>min_days_since_activity</th>\n",
       "      <th>max_days_since_activity</th>\n",
       "      <th>active_customers</th>\n",
       "      <th>active_rate_pct</th>\n",
       "      <th>feature_adopted_count_total</th>\n",
       "      <th>lease_signed_count_total</th>\n",
       "      <th>login_count_total</th>\n",
       "      <th>maintenance_request_created_count_total</th>\n",
       "      <th>nps_response_submitted_count_total</th>\n",
       "      <th>rent_payment_received_count_total</th>\n",
       "      <th>report_generated_count_total</th>\n",
       "      <th>subscription_cancelled_count_total</th>\n",
       "      <th>support_ticket_created_count_total</th>\n",
       "      <th>tenant_added_count_total</th>\n",
       "      <th>training_attended_count_total</th>\n",
       "    </tr>\n",
       "    <tr>\n",
       "      <th>portfolio_group</th>\n",
       "      <th>plan_type</th>\n",
       "      <th></th>\n",
       "      <th></th>\n",
       "      <th></th>\n",
       "      <th></th>\n",
       "      <th></th>\n",
       "      <th></th>\n",
       "      <th></th>\n",
       "      <th></th>\n",
       "      <th></th>\n",
       "      <th></th>\n",
       "      <th></th>\n",
       "      <th></th>\n",
       "      <th></th>\n",
       "      <th></th>\n",
       "      <th></th>\n",
       "      <th></th>\n",
       "      <th></th>\n",
       "      <th></th>\n",
       "      <th></th>\n",
       "      <th></th>\n",
       "      <th></th>\n",
       "      <th></th>\n",
       "      <th></th>\n",
       "      <th></th>\n",
       "      <th></th>\n",
       "      <th></th>\n",
       "      <th></th>\n",
       "      <th></th>\n",
       "      <th></th>\n",
       "      <th></th>\n",
       "      <th></th>\n",
       "      <th></th>\n",
       "      <th></th>\n",
       "      <th></th>\n",
       "      <th></th>\n",
       "      <th></th>\n",
       "      <th></th>\n",
       "    </tr>\n",
       "  </thead>\n",
       "  <tbody>\n",
       "    <tr>\n",
       "      <th rowspan=\"3\" valign=\"top\">1 unit</th>\n",
       "      <th>premium</th>\n",
       "      <td>144</td>\n",
       "      <td>1953914.30</td>\n",
       "      <td>13568.85</td>\n",
       "      <td>12852.09</td>\n",
       "      <td>3087.16</td>\n",
       "      <td>24109.40</td>\n",
       "      <td>0.83</td>\n",
       "      <td>1.0</td>\n",
       "      <td>0</td>\n",
       "      <td>1</td>\n",
       "      <td>23.86</td>\n",
       "      <td>30.5</td>\n",
       "      <td>32.68</td>\n",
       "      <td>212</td>\n",
       "      <td>1.47</td>\n",
       "      <td>0.0</td>\n",
       "      <td>8</td>\n",
       "      <td>3795</td>\n",
       "      <td>26.35</td>\n",
       "      <td>26.0</td>\n",
       "      <td>-59.70</td>\n",
       "      <td>-79.5</td>\n",
       "      <td>-303</td>\n",
       "      <td>508</td>\n",
       "      <td>121</td>\n",
       "      <td>84.03</td>\n",
       "      <td>73</td>\n",
       "      <td>259</td>\n",
       "      <td>795</td>\n",
       "      <td>576</td>\n",
       "      <td>132</td>\n",
       "      <td>137</td>\n",
       "      <td>1131</td>\n",
       "      <td>23</td>\n",
       "      <td>212</td>\n",
       "      <td>367</td>\n",
       "      <td>90</td>\n",
       "    </tr>\n",
       "    <tr>\n",
       "      <th>pro</th>\n",
       "      <td>299</td>\n",
       "      <td>547380.66</td>\n",
       "      <td>1830.70</td>\n",
       "      <td>1842.18</td>\n",
       "      <td>604.60</td>\n",
       "      <td>3012.25</td>\n",
       "      <td>0.79</td>\n",
       "      <td>1.0</td>\n",
       "      <td>0</td>\n",
       "      <td>1</td>\n",
       "      <td>19.61</td>\n",
       "      <td>24.0</td>\n",
       "      <td>34.07</td>\n",
       "      <td>241</td>\n",
       "      <td>0.81</td>\n",
       "      <td>0.0</td>\n",
       "      <td>8</td>\n",
       "      <td>6006</td>\n",
       "      <td>20.09</td>\n",
       "      <td>20.0</td>\n",
       "      <td>-27.63</td>\n",
       "      <td>-54.0</td>\n",
       "      <td>-321</td>\n",
       "      <td>607</td>\n",
       "      <td>232</td>\n",
       "      <td>77.59</td>\n",
       "      <td>137</td>\n",
       "      <td>488</td>\n",
       "      <td>1581</td>\n",
       "      <td>805</td>\n",
       "      <td>274</td>\n",
       "      <td>303</td>\n",
       "      <td>1283</td>\n",
       "      <td>67</td>\n",
       "      <td>241</td>\n",
       "      <td>707</td>\n",
       "      <td>120</td>\n",
       "    </tr>\n",
       "    <tr>\n",
       "      <th>starter</th>\n",
       "      <td>470</td>\n",
       "      <td>169239.03</td>\n",
       "      <td>360.08</td>\n",
       "      <td>356.54</td>\n",
       "      <td>120.93</td>\n",
       "      <td>601.94</td>\n",
       "      <td>0.76</td>\n",
       "      <td>1.0</td>\n",
       "      <td>0</td>\n",
       "      <td>1</td>\n",
       "      <td>17.61</td>\n",
       "      <td>19.0</td>\n",
       "      <td>34.29</td>\n",
       "      <td>327</td>\n",
       "      <td>0.70</td>\n",
       "      <td>0.0</td>\n",
       "      <td>8</td>\n",
       "      <td>7786</td>\n",
       "      <td>16.57</td>\n",
       "      <td>16.0</td>\n",
       "      <td>27.60</td>\n",
       "      <td>2.0</td>\n",
       "      <td>-318</td>\n",
       "      <td>660</td>\n",
       "      <td>296</td>\n",
       "      <td>62.98</td>\n",
       "      <td>162</td>\n",
       "      <td>674</td>\n",
       "      <td>2376</td>\n",
       "      <td>980</td>\n",
       "      <td>426</td>\n",
       "      <td>330</td>\n",
       "      <td>1295</td>\n",
       "      <td>174</td>\n",
       "      <td>327</td>\n",
       "      <td>967</td>\n",
       "      <td>75</td>\n",
       "    </tr>\n",
       "    <tr>\n",
       "      <th rowspan=\"3\" valign=\"top\">2-5 units</th>\n",
       "      <th>premium</th>\n",
       "      <td>509</td>\n",
       "      <td>6663474.96</td>\n",
       "      <td>13091.31</td>\n",
       "      <td>12475.51</td>\n",
       "      <td>3079.14</td>\n",
       "      <td>24261.66</td>\n",
       "      <td>3.57</td>\n",
       "      <td>4.0</td>\n",
       "      <td>2</td>\n",
       "      <td>5</td>\n",
       "      <td>22.14</td>\n",
       "      <td>26.0</td>\n",
       "      <td>33.12</td>\n",
       "      <td>945</td>\n",
       "      <td>1.86</td>\n",
       "      <td>1.0</td>\n",
       "      <td>11</td>\n",
       "      <td>14401</td>\n",
       "      <td>28.29</td>\n",
       "      <td>28.0</td>\n",
       "      <td>-40.66</td>\n",
       "      <td>-59.0</td>\n",
       "      <td>-316</td>\n",
       "      <td>558</td>\n",
       "      <td>391</td>\n",
       "      <td>76.82</td>\n",
       "      <td>235</td>\n",
       "      <td>1319</td>\n",
       "      <td>2400</td>\n",
       "      <td>2625</td>\n",
       "      <td>459</td>\n",
       "      <td>753</td>\n",
       "      <td>3525</td>\n",
       "      <td>118</td>\n",
       "      <td>945</td>\n",
       "      <td>1730</td>\n",
       "      <td>292</td>\n",
       "    </tr>\n",
       "    <tr>\n",
       "      <th>pro</th>\n",
       "      <td>1080</td>\n",
       "      <td>1970791.03</td>\n",
       "      <td>1824.81</td>\n",
       "      <td>1835.42</td>\n",
       "      <td>617.10</td>\n",
       "      <td>3071.75</td>\n",
       "      <td>3.47</td>\n",
       "      <td>3.0</td>\n",
       "      <td>2</td>\n",
       "      <td>5</td>\n",
       "      <td>19.59</td>\n",
       "      <td>22.0</td>\n",
       "      <td>33.17</td>\n",
       "      <td>1189</td>\n",
       "      <td>1.10</td>\n",
       "      <td>1.0</td>\n",
       "      <td>10</td>\n",
       "      <td>23049</td>\n",
       "      <td>21.34</td>\n",
       "      <td>21.0</td>\n",
       "      <td>-19.37</td>\n",
       "      <td>-47.0</td>\n",
       "      <td>-322</td>\n",
       "      <td>636</td>\n",
       "      <td>826</td>\n",
       "      <td>76.48</td>\n",
       "      <td>494</td>\n",
       "      <td>2463</td>\n",
       "      <td>5115</td>\n",
       "      <td>3570</td>\n",
       "      <td>961</td>\n",
       "      <td>1437</td>\n",
       "      <td>3532</td>\n",
       "      <td>254</td>\n",
       "      <td>1189</td>\n",
       "      <td>3558</td>\n",
       "      <td>476</td>\n",
       "    </tr>\n",
       "    <tr>\n",
       "      <th>starter</th>\n",
       "      <td>1766</td>\n",
       "      <td>649103.25</td>\n",
       "      <td>367.56</td>\n",
       "      <td>366.38</td>\n",
       "      <td>121.91</td>\n",
       "      <td>614.07</td>\n",
       "      <td>3.54</td>\n",
       "      <td>4.0</td>\n",
       "      <td>2</td>\n",
       "      <td>5</td>\n",
       "      <td>14.83</td>\n",
       "      <td>17.0</td>\n",
       "      <td>33.76</td>\n",
       "      <td>1524</td>\n",
       "      <td>0.86</td>\n",
       "      <td>0.0</td>\n",
       "      <td>8</td>\n",
       "      <td>31428</td>\n",
       "      <td>17.80</td>\n",
       "      <td>17.0</td>\n",
       "      <td>23.49</td>\n",
       "      <td>-13.0</td>\n",
       "      <td>-323</td>\n",
       "      <td>659</td>\n",
       "      <td>1151</td>\n",
       "      <td>65.18</td>\n",
       "      <td>712</td>\n",
       "      <td>3407</td>\n",
       "      <td>7345</td>\n",
       "      <td>5196</td>\n",
       "      <td>1602</td>\n",
       "      <td>1787</td>\n",
       "      <td>3721</td>\n",
       "      <td>615</td>\n",
       "      <td>1524</td>\n",
       "      <td>5193</td>\n",
       "      <td>326</td>\n",
       "    </tr>\n",
       "    <tr>\n",
       "      <th rowspan=\"3\" valign=\"top\">6-10 units</th>\n",
       "      <th>premium</th>\n",
       "      <td>130</td>\n",
       "      <td>1815271.61</td>\n",
       "      <td>13963.63</td>\n",
       "      <td>14306.48</td>\n",
       "      <td>3990.03</td>\n",
       "      <td>25085.85</td>\n",
       "      <td>10.00</td>\n",
       "      <td>10.0</td>\n",
       "      <td>10</td>\n",
       "      <td>10</td>\n",
       "      <td>20.36</td>\n",
       "      <td>24.5</td>\n",
       "      <td>33.07</td>\n",
       "      <td>269</td>\n",
       "      <td>2.07</td>\n",
       "      <td>1.0</td>\n",
       "      <td>9</td>\n",
       "      <td>3737</td>\n",
       "      <td>28.75</td>\n",
       "      <td>29.0</td>\n",
       "      <td>-64.95</td>\n",
       "      <td>-84.5</td>\n",
       "      <td>-318</td>\n",
       "      <td>560</td>\n",
       "      <td>98</td>\n",
       "      <td>75.38</td>\n",
       "      <td>55</td>\n",
       "      <td>332</td>\n",
       "      <td>600</td>\n",
       "      <td>698</td>\n",
       "      <td>110</td>\n",
       "      <td>199</td>\n",
       "      <td>915</td>\n",
       "      <td>32</td>\n",
       "      <td>269</td>\n",
       "      <td>448</td>\n",
       "      <td>79</td>\n",
       "    </tr>\n",
       "    <tr>\n",
       "      <th>pro</th>\n",
       "      <td>278</td>\n",
       "      <td>526271.26</td>\n",
       "      <td>1893.06</td>\n",
       "      <td>1897.80</td>\n",
       "      <td>631.68</td>\n",
       "      <td>3145.44</td>\n",
       "      <td>10.00</td>\n",
       "      <td>10.0</td>\n",
       "      <td>10</td>\n",
       "      <td>10</td>\n",
       "      <td>17.22</td>\n",
       "      <td>24.0</td>\n",
       "      <td>33.36</td>\n",
       "      <td>328</td>\n",
       "      <td>1.18</td>\n",
       "      <td>1.0</td>\n",
       "      <td>9</td>\n",
       "      <td>6066</td>\n",
       "      <td>21.82</td>\n",
       "      <td>22.0</td>\n",
       "      <td>-24.07</td>\n",
       "      <td>-55.5</td>\n",
       "      <td>-314</td>\n",
       "      <td>609</td>\n",
       "      <td>214</td>\n",
       "      <td>76.98</td>\n",
       "      <td>123</td>\n",
       "      <td>614</td>\n",
       "      <td>1328</td>\n",
       "      <td>959</td>\n",
       "      <td>249</td>\n",
       "      <td>397</td>\n",
       "      <td>949</td>\n",
       "      <td>64</td>\n",
       "      <td>328</td>\n",
       "      <td>932</td>\n",
       "      <td>123</td>\n",
       "    </tr>\n",
       "    <tr>\n",
       "      <th>starter</th>\n",
       "      <td>475</td>\n",
       "      <td>181316.09</td>\n",
       "      <td>381.72</td>\n",
       "      <td>382.74</td>\n",
       "      <td>130.73</td>\n",
       "      <td>628.41</td>\n",
       "      <td>10.00</td>\n",
       "      <td>10.0</td>\n",
       "      <td>10</td>\n",
       "      <td>10</td>\n",
       "      <td>17.66</td>\n",
       "      <td>19.0</td>\n",
       "      <td>34.35</td>\n",
       "      <td>430</td>\n",
       "      <td>0.91</td>\n",
       "      <td>0.0</td>\n",
       "      <td>10</td>\n",
       "      <td>8670</td>\n",
       "      <td>18.25</td>\n",
       "      <td>18.0</td>\n",
       "      <td>35.82</td>\n",
       "      <td>10.0</td>\n",
       "      <td>-322</td>\n",
       "      <td>644</td>\n",
       "      <td>306</td>\n",
       "      <td>64.42</td>\n",
       "      <td>174</td>\n",
       "      <td>1019</td>\n",
       "      <td>1981</td>\n",
       "      <td>1356</td>\n",
       "      <td>426</td>\n",
       "      <td>554</td>\n",
       "      <td>1007</td>\n",
       "      <td>169</td>\n",
       "      <td>430</td>\n",
       "      <td>1461</td>\n",
       "      <td>93</td>\n",
       "    </tr>\n",
       "    <tr>\n",
       "      <th rowspan=\"3\" valign=\"top\">10+ units</th>\n",
       "      <th>premium</th>\n",
       "      <td>724</td>\n",
       "      <td>11694116.47</td>\n",
       "      <td>16152.09</td>\n",
       "      <td>16245.53</td>\n",
       "      <td>3237.58</td>\n",
       "      <td>35808.17</td>\n",
       "      <td>39.82</td>\n",
       "      <td>30.0</td>\n",
       "      <td>15</td>\n",
       "      <td>100</td>\n",
       "      <td>20.60</td>\n",
       "      <td>23.0</td>\n",
       "      <td>33.42</td>\n",
       "      <td>1647</td>\n",
       "      <td>2.27</td>\n",
       "      <td>1.0</td>\n",
       "      <td>15</td>\n",
       "      <td>24330</td>\n",
       "      <td>33.60</td>\n",
       "      <td>33.0</td>\n",
       "      <td>-49.36</td>\n",
       "      <td>-51.0</td>\n",
       "      <td>-324</td>\n",
       "      <td>512</td>\n",
       "      <td>552</td>\n",
       "      <td>76.24</td>\n",
       "      <td>328</td>\n",
       "      <td>2260</td>\n",
       "      <td>3932</td>\n",
       "      <td>4456</td>\n",
       "      <td>641</td>\n",
       "      <td>1540</td>\n",
       "      <td>5902</td>\n",
       "      <td>172</td>\n",
       "      <td>1647</td>\n",
       "      <td>3034</td>\n",
       "      <td>418</td>\n",
       "    </tr>\n",
       "    <tr>\n",
       "      <th>pro</th>\n",
       "      <td>1629</td>\n",
       "      <td>3453300.99</td>\n",
       "      <td>2119.89</td>\n",
       "      <td>2072.65</td>\n",
       "      <td>646.25</td>\n",
       "      <td>4435.92</td>\n",
       "      <td>39.68</td>\n",
       "      <td>30.0</td>\n",
       "      <td>15</td>\n",
       "      <td>100</td>\n",
       "      <td>20.73</td>\n",
       "      <td>24.0</td>\n",
       "      <td>32.09</td>\n",
       "      <td>2304</td>\n",
       "      <td>1.41</td>\n",
       "      <td>1.0</td>\n",
       "      <td>10</td>\n",
       "      <td>43472</td>\n",
       "      <td>26.69</td>\n",
       "      <td>27.0</td>\n",
       "      <td>-39.82</td>\n",
       "      <td>-60.0</td>\n",
       "      <td>-323</td>\n",
       "      <td>652</td>\n",
       "      <td>1255</td>\n",
       "      <td>77.04</td>\n",
       "      <td>730</td>\n",
       "      <td>5227</td>\n",
       "      <td>8960</td>\n",
       "      <td>6780</td>\n",
       "      <td>1460</td>\n",
       "      <td>3499</td>\n",
       "      <td>6665</td>\n",
       "      <td>374</td>\n",
       "      <td>2304</td>\n",
       "      <td>6778</td>\n",
       "      <td>695</td>\n",
       "    </tr>\n",
       "    <tr>\n",
       "      <th>starter</th>\n",
       "      <td>2496</td>\n",
       "      <td>1068816.19</td>\n",
       "      <td>428.21</td>\n",
       "      <td>425.58</td>\n",
       "      <td>130.05</td>\n",
       "      <td>899.82</td>\n",
       "      <td>39.83</td>\n",
       "      <td>30.0</td>\n",
       "      <td>15</td>\n",
       "      <td>100</td>\n",
       "      <td>15.65</td>\n",
       "      <td>17.0</td>\n",
       "      <td>34.27</td>\n",
       "      <td>2925</td>\n",
       "      <td>1.17</td>\n",
       "      <td>1.0</td>\n",
       "      <td>11</td>\n",
       "      <td>55991</td>\n",
       "      <td>22.43</td>\n",
       "      <td>22.0</td>\n",
       "      <td>6.23</td>\n",
       "      <td>-11.0</td>\n",
       "      <td>-322</td>\n",
       "      <td>638</td>\n",
       "      <td>1599</td>\n",
       "      <td>64.06</td>\n",
       "      <td>951</td>\n",
       "      <td>6785</td>\n",
       "      <td>12344</td>\n",
       "      <td>9287</td>\n",
       "      <td>2248</td>\n",
       "      <td>4248</td>\n",
       "      <td>6554</td>\n",
       "      <td>897</td>\n",
       "      <td>2925</td>\n",
       "      <td>9311</td>\n",
       "      <td>441</td>\n",
       "    </tr>\n",
       "  </tbody>\n",
       "</table>\n",
       "</div>"
      ],
      "text/plain": [
       "                           customer_count    total_arr   avg_arr  median_arr  min_arr   max_arr  avg_portfolio  median_portfolio  min_portfolio  max_portfolio  avg_nps  median_nps  std_nps  total_tickets  avg_tickets  median_tickets  max_tickets  total_events_all  avg_events_per_user  median_events_per_user  avg_days_since_activity  median_days_since_activity  min_days_since_activity  max_days_since_activity  active_customers  active_rate_pct  feature_adopted_count_total  lease_signed_count_total  login_count_total  maintenance_request_created_count_total  nps_response_submitted_count_total  rent_payment_received_count_total  report_generated_count_total  subscription_cancelled_count_total  support_ticket_created_count_total  tenant_added_count_total  training_attended_count_total\n",
       "portfolio_group plan_type                                                                                                                                                                                                                                                                                                                                                                                                                                                                                                                                                                                                                                                                                                                                                                                              \n",
       "1 unit          premium               144   1953914.30  13568.85    12852.09  3087.16  24109.40           0.83               1.0              0              1    23.86        30.5    32.68            212         1.47             0.0            8              3795                26.35                    26.0                   -59.70                       -79.5                     -303                      508               121            84.03                           73                       259                795                                      576                                 132                                137                          1131                                  23                                 212                       367                             90\n",
       "                pro                   299    547380.66   1830.70     1842.18   604.60   3012.25           0.79               1.0              0              1    19.61        24.0    34.07            241         0.81             0.0            8              6006                20.09                    20.0                   -27.63                       -54.0                     -321                      607               232            77.59                          137                       488               1581                                      805                                 274                                303                          1283                                  67                                 241                       707                            120\n",
       "                starter               470    169239.03    360.08      356.54   120.93    601.94           0.76               1.0              0              1    17.61        19.0    34.29            327         0.70             0.0            8              7786                16.57                    16.0                    27.60                         2.0                     -318                      660               296            62.98                          162                       674               2376                                      980                                 426                                330                          1295                                 174                                 327                       967                             75\n",
       "2-5 units       premium               509   6663474.96  13091.31    12475.51  3079.14  24261.66           3.57               4.0              2              5    22.14        26.0    33.12            945         1.86             1.0           11             14401                28.29                    28.0                   -40.66                       -59.0                     -316                      558               391            76.82                          235                      1319               2400                                     2625                                 459                                753                          3525                                 118                                 945                      1730                            292\n",
       "                pro                  1080   1970791.03   1824.81     1835.42   617.10   3071.75           3.47               3.0              2              5    19.59        22.0    33.17           1189         1.10             1.0           10             23049                21.34                    21.0                   -19.37                       -47.0                     -322                      636               826            76.48                          494                      2463               5115                                     3570                                 961                               1437                          3532                                 254                                1189                      3558                            476\n",
       "                starter              1766    649103.25    367.56      366.38   121.91    614.07           3.54               4.0              2              5    14.83        17.0    33.76           1524         0.86             0.0            8             31428                17.80                    17.0                    23.49                       -13.0                     -323                      659              1151            65.18                          712                      3407               7345                                     5196                                1602                               1787                          3721                                 615                                1524                      5193                            326\n",
       "6-10 units      premium               130   1815271.61  13963.63    14306.48  3990.03  25085.85          10.00              10.0             10             10    20.36        24.5    33.07            269         2.07             1.0            9              3737                28.75                    29.0                   -64.95                       -84.5                     -318                      560                98            75.38                           55                       332                600                                      698                                 110                                199                           915                                  32                                 269                       448                             79\n",
       "                pro                   278    526271.26   1893.06     1897.80   631.68   3145.44          10.00              10.0             10             10    17.22        24.0    33.36            328         1.18             1.0            9              6066                21.82                    22.0                   -24.07                       -55.5                     -314                      609               214            76.98                          123                       614               1328                                      959                                 249                                397                           949                                  64                                 328                       932                            123\n",
       "                starter               475    181316.09    381.72      382.74   130.73    628.41          10.00              10.0             10             10    17.66        19.0    34.35            430         0.91             0.0           10              8670                18.25                    18.0                    35.82                        10.0                     -322                      644               306            64.42                          174                      1019               1981                                     1356                                 426                                554                          1007                                 169                                 430                      1461                             93\n",
       "10+ units       premium               724  11694116.47  16152.09    16245.53  3237.58  35808.17          39.82              30.0             15            100    20.60        23.0    33.42           1647         2.27             1.0           15             24330                33.60                    33.0                   -49.36                       -51.0                     -324                      512               552            76.24                          328                      2260               3932                                     4456                                 641                               1540                          5902                                 172                                1647                      3034                            418\n",
       "                pro                  1629   3453300.99   2119.89     2072.65   646.25   4435.92          39.68              30.0             15            100    20.73        24.0    32.09           2304         1.41             1.0           10             43472                26.69                    27.0                   -39.82                       -60.0                     -323                      652              1255            77.04                          730                      5227               8960                                     6780                                1460                               3499                          6665                                 374                                2304                      6778                            695\n",
       "                starter              2496   1068816.19    428.21      425.58   130.05    899.82          39.83              30.0             15            100    15.65        17.0    34.27           2925         1.17             1.0           11             55991                22.43                    22.0                     6.23                       -11.0                     -322                      638              1599            64.06                          951                      6785              12344                                     9287                                2248                               4248                          6554                                 897                                2925                      9311                            441"
      ]
     },
     "metadata": {},
     "output_type": "display_data"
    }
   ],
   "source": [
    "# Create comprehensive aggregate statistics for Portfolio Group → Plan Type segments\n",
    "\n",
    "# First, identify all event type count columns\n",
    "event_count_cols = [col for col in joined_df.columns if col.endswith('_count')]\n",
    "\n",
    "# Build aggregation dictionary\n",
    "agg_dict = {\n",
    "    'user_id': 'count',\n",
    "    'annual_revenue': ['sum', 'mean', 'median', 'min', 'max'],\n",
    "    'portfolio_size': ['mean', 'median', 'min', 'max'],\n",
    "    'nps_score': ['mean', 'median', 'std'],\n",
    "    'support_tickets_last_90d': ['sum', 'mean', 'median', 'max'],\n",
    "    'total_events': ['sum', 'mean', 'median'],\n",
    "    'days_since_last_activity': ['mean', 'median', 'min', 'max'],\n",
    "    'is_active': ['sum', lambda x: (x.sum() / len(x) * 100)]\n",
    "}\n",
    "\n",
    "# Add all event type count columns with sum aggregation\n",
    "for col in event_count_cols:\n",
    "    agg_dict[col] = 'sum'\n",
    "\n",
    "# Create segment statistics\n",
    "segment_stats = joined_df.groupby(['portfolio_group', 'plan_type']).agg(agg_dict).round(2)\n",
    "\n",
    "# Flatten multi-level columns\n",
    "segment_stats.columns = ['_'.join(col).strip() for col in segment_stats.columns.values]\n",
    "\n",
    "# Rename for clarity\n",
    "rename_dict = {\n",
    "    'user_id_count': 'customer_count',\n",
    "    'annual_revenue_sum': 'total_arr',\n",
    "    'annual_revenue_mean': 'avg_arr',\n",
    "    'annual_revenue_median': 'median_arr',\n",
    "    'annual_revenue_min': 'min_arr',\n",
    "    'annual_revenue_max': 'max_arr',\n",
    "    'portfolio_size_mean': 'avg_portfolio',\n",
    "    'portfolio_size_median': 'median_portfolio',\n",
    "    'portfolio_size_min': 'min_portfolio',\n",
    "    'portfolio_size_max': 'max_portfolio',\n",
    "    'nps_score_mean': 'avg_nps',\n",
    "    'nps_score_median': 'median_nps',\n",
    "    'nps_score_std': 'std_nps',\n",
    "    'support_tickets_last_90d_sum': 'total_tickets',\n",
    "    'support_tickets_last_90d_mean': 'avg_tickets',\n",
    "    'support_tickets_last_90d_median': 'median_tickets',\n",
    "    'support_tickets_last_90d_max': 'max_tickets',\n",
    "    'total_events_sum': 'total_events_all',\n",
    "    'total_events_mean': 'avg_events_per_user',\n",
    "    'total_events_median': 'median_events_per_user',\n",
    "    'days_since_last_activity_mean': 'avg_days_since_activity',\n",
    "    'days_since_last_activity_median': 'median_days_since_activity',\n",
    "    'days_since_last_activity_min': 'min_days_since_activity',\n",
    "    'days_since_last_activity_max': 'max_days_since_activity',\n",
    "    'is_active_sum': 'active_customers'\n",
    "}\n",
    "\n",
    "# Rename event count columns (remove _sum suffix added by groupby)\n",
    "for col in event_count_cols:\n",
    "    rename_dict[f'{col}_sum'] = f'{col}_total'\n",
    "\n",
    "segment_stats = segment_stats.rename(columns=rename_dict)\n",
    "\n",
    "# Rename the lambda column properly\n",
    "segment_stats.columns = [col.replace('is_active_<lambda_0>', 'active_rate_pct') if 'lambda' in col else col for col in segment_stats.columns]\n",
    "\n",
    "print(\"=\"*100)\n",
    "print(\"SEGMENT STATISTICS: Portfolio Group → Plan Type\")\n",
    "print(\"=\"*100)\n",
    "print(f\"\\nEvent type columns included: {len(event_count_cols)}\")\n",
    "print(f\"Event types: {', '.join([col.replace('_count', '') for col in event_count_cols])}\")\n",
    "print()\n",
    "display(segment_stats)\n",
    "\n",
    "# Save to variable for easy access\n",
    "segment_stats_summary = segment_stats.copy()"
   ]
  },
  {
   "cell_type": "code",
   "execution_count": null,
   "id": "s205n9plti8",
   "metadata": {},
   "outputs": [
    {
     "data": {
      "application/vnd.plotly.v1+json": {
       "config": {
        "plotlyServerURL": "https://plot.ly"
       },
       "data": [
        {
         "alignmentgroup": "True",
         "hovertemplate": "plan_type=premium<br>Portfolio Group=%{x}<br>Number of Customers=%{y}<extra></extra>",
         "legendgroup": "premium",
         "marker": {
          "color": "#636efa",
          "pattern": {
           "shape": ""
          }
         },
         "name": "premium",
         "offsetgroup": "premium",
         "orientation": "v",
         "showlegend": true,
         "textposition": "auto",
         "type": "bar",
         "x": [
          "1 unit",
          "2-5 units",
          "6-10 units",
          "10+ units"
         ],
         "xaxis": "x",
         "y": [
          144,
          509,
          130,
          724
         ],
         "yaxis": "y"
        },
        {
         "alignmentgroup": "True",
         "hovertemplate": "plan_type=pro<br>Portfolio Group=%{x}<br>Number of Customers=%{y}<extra></extra>",
         "legendgroup": "pro",
         "marker": {
          "color": "#EF553B",
          "pattern": {
           "shape": ""
          }
         },
         "name": "pro",
         "offsetgroup": "pro",
         "orientation": "v",
         "showlegend": true,
         "textposition": "auto",
         "type": "bar",
         "x": [
          "1 unit",
          "2-5 units",
          "6-10 units",
          "10+ units"
         ],
         "xaxis": "x",
         "y": [
          299,
          1080,
          278,
          1629
         ],
         "yaxis": "y"
        },
        {
         "alignmentgroup": "True",
         "hovertemplate": "plan_type=starter<br>Portfolio Group=%{x}<br>Number of Customers=%{y}<extra></extra>",
         "legendgroup": "starter",
         "marker": {
          "color": "#00cc96",
          "pattern": {
           "shape": ""
          }
         },
         "name": "starter",
         "offsetgroup": "starter",
         "orientation": "v",
         "showlegend": true,
         "textposition": "auto",
         "type": "bar",
         "x": [
          "1 unit",
          "2-5 units",
          "6-10 units",
          "10+ units"
         ],
         "xaxis": "x",
         "y": [
          470,
          1766,
          475,
          2496
         ],
         "yaxis": "y"
        }
       ],
       "layout": {
        "barmode": "group",
        "legend": {
         "title": {
          "text": "plan_type"
         },
         "tracegroupgap": 0
        },
        "template": {
         "data": {
          "bar": [
           {
            "error_x": {
             "color": "#2a3f5f"
            },
            "error_y": {
             "color": "#2a3f5f"
            },
            "marker": {
             "line": {
              "color": "#E5ECF6",
              "width": 0.5
             },
             "pattern": {
              "fillmode": "overlay",
              "size": 10,
              "solidity": 0.2
             }
            },
            "type": "bar"
           }
          ],
          "barpolar": [
           {
            "marker": {
             "line": {
              "color": "#E5ECF6",
              "width": 0.5
             },
             "pattern": {
              "fillmode": "overlay",
              "size": 10,
              "solidity": 0.2
             }
            },
            "type": "barpolar"
           }
          ],
          "carpet": [
           {
            "aaxis": {
             "endlinecolor": "#2a3f5f",
             "gridcolor": "white",
             "linecolor": "white",
             "minorgridcolor": "white",
             "startlinecolor": "#2a3f5f"
            },
            "baxis": {
             "endlinecolor": "#2a3f5f",
             "gridcolor": "white",
             "linecolor": "white",
             "minorgridcolor": "white",
             "startlinecolor": "#2a3f5f"
            },
            "type": "carpet"
           }
          ],
          "choropleth": [
           {
            "colorbar": {
             "outlinewidth": 0,
             "ticks": ""
            },
            "type": "choropleth"
           }
          ],
          "contour": [
           {
            "colorbar": {
             "outlinewidth": 0,
             "ticks": ""
            },
            "colorscale": [
             [
              0,
              "#0d0887"
             ],
             [
              0.1111111111111111,
              "#46039f"
             ],
             [
              0.2222222222222222,
              "#7201a8"
             ],
             [
              0.3333333333333333,
              "#9c179e"
             ],
             [
              0.4444444444444444,
              "#bd3786"
             ],
             [
              0.5555555555555556,
              "#d8576b"
             ],
             [
              0.6666666666666666,
              "#ed7953"
             ],
             [
              0.7777777777777778,
              "#fb9f3a"
             ],
             [
              0.8888888888888888,
              "#fdca26"
             ],
             [
              1,
              "#f0f921"
             ]
            ],
            "type": "contour"
           }
          ],
          "contourcarpet": [
           {
            "colorbar": {
             "outlinewidth": 0,
             "ticks": ""
            },
            "type": "contourcarpet"
           }
          ],
          "heatmap": [
           {
            "colorbar": {
             "outlinewidth": 0,
             "ticks": ""
            },
            "colorscale": [
             [
              0,
              "#0d0887"
             ],
             [
              0.1111111111111111,
              "#46039f"
             ],
             [
              0.2222222222222222,
              "#7201a8"
             ],
             [
              0.3333333333333333,
              "#9c179e"
             ],
             [
              0.4444444444444444,
              "#bd3786"
             ],
             [
              0.5555555555555556,
              "#d8576b"
             ],
             [
              0.6666666666666666,
              "#ed7953"
             ],
             [
              0.7777777777777778,
              "#fb9f3a"
             ],
             [
              0.8888888888888888,
              "#fdca26"
             ],
             [
              1,
              "#f0f921"
             ]
            ],
            "type": "heatmap"
           }
          ],
          "heatmapgl": [
           {
            "colorbar": {
             "outlinewidth": 0,
             "ticks": ""
            },
            "colorscale": [
             [
              0,
              "#0d0887"
             ],
             [
              0.1111111111111111,
              "#46039f"
             ],
             [
              0.2222222222222222,
              "#7201a8"
             ],
             [
              0.3333333333333333,
              "#9c179e"
             ],
             [
              0.4444444444444444,
              "#bd3786"
             ],
             [
              0.5555555555555556,
              "#d8576b"
             ],
             [
              0.6666666666666666,
              "#ed7953"
             ],
             [
              0.7777777777777778,
              "#fb9f3a"
             ],
             [
              0.8888888888888888,
              "#fdca26"
             ],
             [
              1,
              "#f0f921"
             ]
            ],
            "type": "heatmapgl"
           }
          ],
          "histogram": [
           {
            "marker": {
             "pattern": {
              "fillmode": "overlay",
              "size": 10,
              "solidity": 0.2
             }
            },
            "type": "histogram"
           }
          ],
          "histogram2d": [
           {
            "colorbar": {
             "outlinewidth": 0,
             "ticks": ""
            },
            "colorscale": [
             [
              0,
              "#0d0887"
             ],
             [
              0.1111111111111111,
              "#46039f"
             ],
             [
              0.2222222222222222,
              "#7201a8"
             ],
             [
              0.3333333333333333,
              "#9c179e"
             ],
             [
              0.4444444444444444,
              "#bd3786"
             ],
             [
              0.5555555555555556,
              "#d8576b"
             ],
             [
              0.6666666666666666,
              "#ed7953"
             ],
             [
              0.7777777777777778,
              "#fb9f3a"
             ],
             [
              0.8888888888888888,
              "#fdca26"
             ],
             [
              1,
              "#f0f921"
             ]
            ],
            "type": "histogram2d"
           }
          ],
          "histogram2dcontour": [
           {
            "colorbar": {
             "outlinewidth": 0,
             "ticks": ""
            },
            "colorscale": [
             [
              0,
              "#0d0887"
             ],
             [
              0.1111111111111111,
              "#46039f"
             ],
             [
              0.2222222222222222,
              "#7201a8"
             ],
             [
              0.3333333333333333,
              "#9c179e"
             ],
             [
              0.4444444444444444,
              "#bd3786"
             ],
             [
              0.5555555555555556,
              "#d8576b"
             ],
             [
              0.6666666666666666,
              "#ed7953"
             ],
             [
              0.7777777777777778,
              "#fb9f3a"
             ],
             [
              0.8888888888888888,
              "#fdca26"
             ],
             [
              1,
              "#f0f921"
             ]
            ],
            "type": "histogram2dcontour"
           }
          ],
          "mesh3d": [
           {
            "colorbar": {
             "outlinewidth": 0,
             "ticks": ""
            },
            "type": "mesh3d"
           }
          ],
          "parcoords": [
           {
            "line": {
             "colorbar": {
              "outlinewidth": 0,
              "ticks": ""
             }
            },
            "type": "parcoords"
           }
          ],
          "pie": [
           {
            "automargin": true,
            "type": "pie"
           }
          ],
          "scatter": [
           {
            "fillpattern": {
             "fillmode": "overlay",
             "size": 10,
             "solidity": 0.2
            },
            "type": "scatter"
           }
          ],
          "scatter3d": [
           {
            "line": {
             "colorbar": {
              "outlinewidth": 0,
              "ticks": ""
             }
            },
            "marker": {
             "colorbar": {
              "outlinewidth": 0,
              "ticks": ""
             }
            },
            "type": "scatter3d"
           }
          ],
          "scattercarpet": [
           {
            "marker": {
             "colorbar": {
              "outlinewidth": 0,
              "ticks": ""
             }
            },
            "type": "scattercarpet"
           }
          ],
          "scattergeo": [
           {
            "marker": {
             "colorbar": {
              "outlinewidth": 0,
              "ticks": ""
             }
            },
            "type": "scattergeo"
           }
          ],
          "scattergl": [
           {
            "marker": {
             "colorbar": {
              "outlinewidth": 0,
              "ticks": ""
             }
            },
            "type": "scattergl"
           }
          ],
          "scattermapbox": [
           {
            "marker": {
             "colorbar": {
              "outlinewidth": 0,
              "ticks": ""
             }
            },
            "type": "scattermapbox"
           }
          ],
          "scatterpolar": [
           {
            "marker": {
             "colorbar": {
              "outlinewidth": 0,
              "ticks": ""
             }
            },
            "type": "scatterpolar"
           }
          ],
          "scatterpolargl": [
           {
            "marker": {
             "colorbar": {
              "outlinewidth": 0,
              "ticks": ""
             }
            },
            "type": "scatterpolargl"
           }
          ],
          "scatterternary": [
           {
            "marker": {
             "colorbar": {
              "outlinewidth": 0,
              "ticks": ""
             }
            },
            "type": "scatterternary"
           }
          ],
          "surface": [
           {
            "colorbar": {
             "outlinewidth": 0,
             "ticks": ""
            },
            "colorscale": [
             [
              0,
              "#0d0887"
             ],
             [
              0.1111111111111111,
              "#46039f"
             ],
             [
              0.2222222222222222,
              "#7201a8"
             ],
             [
              0.3333333333333333,
              "#9c179e"
             ],
             [
              0.4444444444444444,
              "#bd3786"
             ],
             [
              0.5555555555555556,
              "#d8576b"
             ],
             [
              0.6666666666666666,
              "#ed7953"
             ],
             [
              0.7777777777777778,
              "#fb9f3a"
             ],
             [
              0.8888888888888888,
              "#fdca26"
             ],
             [
              1,
              "#f0f921"
             ]
            ],
            "type": "surface"
           }
          ],
          "table": [
           {
            "cells": {
             "fill": {
              "color": "#EBF0F8"
             },
             "line": {
              "color": "white"
             }
            },
            "header": {
             "fill": {
              "color": "#C8D4E3"
             },
             "line": {
              "color": "white"
             }
            },
            "type": "table"
           }
          ]
         },
         "layout": {
          "annotationdefaults": {
           "arrowcolor": "#2a3f5f",
           "arrowhead": 0,
           "arrowwidth": 1
          },
          "autotypenumbers": "strict",
          "coloraxis": {
           "colorbar": {
            "outlinewidth": 0,
            "ticks": ""
           }
          },
          "colorscale": {
           "diverging": [
            [
             0,
             "#8e0152"
            ],
            [
             0.1,
             "#c51b7d"
            ],
            [
             0.2,
             "#de77ae"
            ],
            [
             0.3,
             "#f1b6da"
            ],
            [
             0.4,
             "#fde0ef"
            ],
            [
             0.5,
             "#f7f7f7"
            ],
            [
             0.6,
             "#e6f5d0"
            ],
            [
             0.7,
             "#b8e186"
            ],
            [
             0.8,
             "#7fbc41"
            ],
            [
             0.9,
             "#4d9221"
            ],
            [
             1,
             "#276419"
            ]
           ],
           "sequential": [
            [
             0,
             "#0d0887"
            ],
            [
             0.1111111111111111,
             "#46039f"
            ],
            [
             0.2222222222222222,
             "#7201a8"
            ],
            [
             0.3333333333333333,
             "#9c179e"
            ],
            [
             0.4444444444444444,
             "#bd3786"
            ],
            [
             0.5555555555555556,
             "#d8576b"
            ],
            [
             0.6666666666666666,
             "#ed7953"
            ],
            [
             0.7777777777777778,
             "#fb9f3a"
            ],
            [
             0.8888888888888888,
             "#fdca26"
            ],
            [
             1,
             "#f0f921"
            ]
           ],
           "sequentialminus": [
            [
             0,
             "#0d0887"
            ],
            [
             0.1111111111111111,
             "#46039f"
            ],
            [
             0.2222222222222222,
             "#7201a8"
            ],
            [
             0.3333333333333333,
             "#9c179e"
            ],
            [
             0.4444444444444444,
             "#bd3786"
            ],
            [
             0.5555555555555556,
             "#d8576b"
            ],
            [
             0.6666666666666666,
             "#ed7953"
            ],
            [
             0.7777777777777778,
             "#fb9f3a"
            ],
            [
             0.8888888888888888,
             "#fdca26"
            ],
            [
             1,
             "#f0f921"
            ]
           ]
          },
          "colorway": [
           "#636efa",
           "#EF553B",
           "#00cc96",
           "#ab63fa",
           "#FFA15A",
           "#19d3f3",
           "#FF6692",
           "#B6E880",
           "#FF97FF",
           "#FECB52"
          ],
          "font": {
           "color": "#2a3f5f"
          },
          "geo": {
           "bgcolor": "white",
           "lakecolor": "white",
           "landcolor": "#E5ECF6",
           "showlakes": true,
           "showland": true,
           "subunitcolor": "white"
          },
          "hoverlabel": {
           "align": "left"
          },
          "hovermode": "closest",
          "mapbox": {
           "style": "light"
          },
          "paper_bgcolor": "white",
          "plot_bgcolor": "#E5ECF6",
          "polar": {
           "angularaxis": {
            "gridcolor": "white",
            "linecolor": "white",
            "ticks": ""
           },
           "bgcolor": "#E5ECF6",
           "radialaxis": {
            "gridcolor": "white",
            "linecolor": "white",
            "ticks": ""
           }
          },
          "scene": {
           "xaxis": {
            "backgroundcolor": "#E5ECF6",
            "gridcolor": "white",
            "gridwidth": 2,
            "linecolor": "white",
            "showbackground": true,
            "ticks": "",
            "zerolinecolor": "white"
           },
           "yaxis": {
            "backgroundcolor": "#E5ECF6",
            "gridcolor": "white",
            "gridwidth": 2,
            "linecolor": "white",
            "showbackground": true,
            "ticks": "",
            "zerolinecolor": "white"
           },
           "zaxis": {
            "backgroundcolor": "#E5ECF6",
            "gridcolor": "white",
            "gridwidth": 2,
            "linecolor": "white",
            "showbackground": true,
            "ticks": "",
            "zerolinecolor": "white"
           }
          },
          "shapedefaults": {
           "line": {
            "color": "#2a3f5f"
           }
          },
          "ternary": {
           "aaxis": {
            "gridcolor": "white",
            "linecolor": "white",
            "ticks": ""
           },
           "baxis": {
            "gridcolor": "white",
            "linecolor": "white",
            "ticks": ""
           },
           "bgcolor": "#E5ECF6",
           "caxis": {
            "gridcolor": "white",
            "linecolor": "white",
            "ticks": ""
           }
          },
          "title": {
           "x": 0.05
          },
          "xaxis": {
           "automargin": true,
           "gridcolor": "white",
           "linecolor": "white",
           "ticks": "",
           "title": {
            "standoff": 15
           },
           "zerolinecolor": "white",
           "zerolinewidth": 2
          },
          "yaxis": {
           "automargin": true,
           "gridcolor": "white",
           "linecolor": "white",
           "ticks": "",
           "title": {
            "standoff": 15
           },
           "zerolinecolor": "white",
           "zerolinewidth": 2
          }
         }
        },
        "title": {
         "text": "Customer Count by Portfolio Group and Plan Type"
        },
        "xaxis": {
         "anchor": "y",
         "domain": [
          0,
          1
         ],
         "title": {
          "text": "Portfolio Group"
         }
        },
        "yaxis": {
         "anchor": "x",
         "domain": [
          0,
          1
         ],
         "title": {
          "text": "Number of Customers"
         }
        }
       }
      }
     },
     "metadata": {},
     "output_type": "display_data"
    },
    {
     "data": {
      "application/vnd.plotly.v1+json": {
       "config": {
        "plotlyServerURL": "https://plot.ly"
       },
       "data": [
        {
         "alignmentgroup": "True",
         "hovertemplate": "plan_type=premium<br>Portfolio Group=%{x}<br>Total Annual Revenue ($)=%{y}<extra></extra>",
         "legendgroup": "premium",
         "marker": {
          "color": "#636efa",
          "pattern": {
           "shape": ""
          }
         },
         "name": "premium",
         "offsetgroup": "premium",
         "orientation": "v",
         "showlegend": true,
         "textposition": "auto",
         "type": "bar",
         "x": [
          "1 unit",
          "2-5 units",
          "6-10 units",
          "10+ units"
         ],
         "xaxis": "x",
         "y": [
          1953914.3,
          6663474.96,
          1815271.61,
          11694116.47
         ],
         "yaxis": "y"
        },
        {
         "alignmentgroup": "True",
         "hovertemplate": "plan_type=pro<br>Portfolio Group=%{x}<br>Total Annual Revenue ($)=%{y}<extra></extra>",
         "legendgroup": "pro",
         "marker": {
          "color": "#EF553B",
          "pattern": {
           "shape": ""
          }
         },
         "name": "pro",
         "offsetgroup": "pro",
         "orientation": "v",
         "showlegend": true,
         "textposition": "auto",
         "type": "bar",
         "x": [
          "1 unit",
          "2-5 units",
          "6-10 units",
          "10+ units"
         ],
         "xaxis": "x",
         "y": [
          547380.66,
          1970791.03,
          526271.26,
          3453300.99
         ],
         "yaxis": "y"
        },
        {
         "alignmentgroup": "True",
         "hovertemplate": "plan_type=starter<br>Portfolio Group=%{x}<br>Total Annual Revenue ($)=%{y}<extra></extra>",
         "legendgroup": "starter",
         "marker": {
          "color": "#00cc96",
          "pattern": {
           "shape": ""
          }
         },
         "name": "starter",
         "offsetgroup": "starter",
         "orientation": "v",
         "showlegend": true,
         "textposition": "auto",
         "type": "bar",
         "x": [
          "1 unit",
          "2-5 units",
          "6-10 units",
          "10+ units"
         ],
         "xaxis": "x",
         "y": [
          169239.03,
          649103.25,
          181316.09,
          1068816.19
         ],
         "yaxis": "y"
        }
       ],
       "layout": {
        "barmode": "group",
        "legend": {
         "title": {
          "text": "plan_type"
         },
         "tracegroupgap": 0
        },
        "template": {
         "data": {
          "bar": [
           {
            "error_x": {
             "color": "#2a3f5f"
            },
            "error_y": {
             "color": "#2a3f5f"
            },
            "marker": {
             "line": {
              "color": "#E5ECF6",
              "width": 0.5
             },
             "pattern": {
              "fillmode": "overlay",
              "size": 10,
              "solidity": 0.2
             }
            },
            "type": "bar"
           }
          ],
          "barpolar": [
           {
            "marker": {
             "line": {
              "color": "#E5ECF6",
              "width": 0.5
             },
             "pattern": {
              "fillmode": "overlay",
              "size": 10,
              "solidity": 0.2
             }
            },
            "type": "barpolar"
           }
          ],
          "carpet": [
           {
            "aaxis": {
             "endlinecolor": "#2a3f5f",
             "gridcolor": "white",
             "linecolor": "white",
             "minorgridcolor": "white",
             "startlinecolor": "#2a3f5f"
            },
            "baxis": {
             "endlinecolor": "#2a3f5f",
             "gridcolor": "white",
             "linecolor": "white",
             "minorgridcolor": "white",
             "startlinecolor": "#2a3f5f"
            },
            "type": "carpet"
           }
          ],
          "choropleth": [
           {
            "colorbar": {
             "outlinewidth": 0,
             "ticks": ""
            },
            "type": "choropleth"
           }
          ],
          "contour": [
           {
            "colorbar": {
             "outlinewidth": 0,
             "ticks": ""
            },
            "colorscale": [
             [
              0,
              "#0d0887"
             ],
             [
              0.1111111111111111,
              "#46039f"
             ],
             [
              0.2222222222222222,
              "#7201a8"
             ],
             [
              0.3333333333333333,
              "#9c179e"
             ],
             [
              0.4444444444444444,
              "#bd3786"
             ],
             [
              0.5555555555555556,
              "#d8576b"
             ],
             [
              0.6666666666666666,
              "#ed7953"
             ],
             [
              0.7777777777777778,
              "#fb9f3a"
             ],
             [
              0.8888888888888888,
              "#fdca26"
             ],
             [
              1,
              "#f0f921"
             ]
            ],
            "type": "contour"
           }
          ],
          "contourcarpet": [
           {
            "colorbar": {
             "outlinewidth": 0,
             "ticks": ""
            },
            "type": "contourcarpet"
           }
          ],
          "heatmap": [
           {
            "colorbar": {
             "outlinewidth": 0,
             "ticks": ""
            },
            "colorscale": [
             [
              0,
              "#0d0887"
             ],
             [
              0.1111111111111111,
              "#46039f"
             ],
             [
              0.2222222222222222,
              "#7201a8"
             ],
             [
              0.3333333333333333,
              "#9c179e"
             ],
             [
              0.4444444444444444,
              "#bd3786"
             ],
             [
              0.5555555555555556,
              "#d8576b"
             ],
             [
              0.6666666666666666,
              "#ed7953"
             ],
             [
              0.7777777777777778,
              "#fb9f3a"
             ],
             [
              0.8888888888888888,
              "#fdca26"
             ],
             [
              1,
              "#f0f921"
             ]
            ],
            "type": "heatmap"
           }
          ],
          "heatmapgl": [
           {
            "colorbar": {
             "outlinewidth": 0,
             "ticks": ""
            },
            "colorscale": [
             [
              0,
              "#0d0887"
             ],
             [
              0.1111111111111111,
              "#46039f"
             ],
             [
              0.2222222222222222,
              "#7201a8"
             ],
             [
              0.3333333333333333,
              "#9c179e"
             ],
             [
              0.4444444444444444,
              "#bd3786"
             ],
             [
              0.5555555555555556,
              "#d8576b"
             ],
             [
              0.6666666666666666,
              "#ed7953"
             ],
             [
              0.7777777777777778,
              "#fb9f3a"
             ],
             [
              0.8888888888888888,
              "#fdca26"
             ],
             [
              1,
              "#f0f921"
             ]
            ],
            "type": "heatmapgl"
           }
          ],
          "histogram": [
           {
            "marker": {
             "pattern": {
              "fillmode": "overlay",
              "size": 10,
              "solidity": 0.2
             }
            },
            "type": "histogram"
           }
          ],
          "histogram2d": [
           {
            "colorbar": {
             "outlinewidth": 0,
             "ticks": ""
            },
            "colorscale": [
             [
              0,
              "#0d0887"
             ],
             [
              0.1111111111111111,
              "#46039f"
             ],
             [
              0.2222222222222222,
              "#7201a8"
             ],
             [
              0.3333333333333333,
              "#9c179e"
             ],
             [
              0.4444444444444444,
              "#bd3786"
             ],
             [
              0.5555555555555556,
              "#d8576b"
             ],
             [
              0.6666666666666666,
              "#ed7953"
             ],
             [
              0.7777777777777778,
              "#fb9f3a"
             ],
             [
              0.8888888888888888,
              "#fdca26"
             ],
             [
              1,
              "#f0f921"
             ]
            ],
            "type": "histogram2d"
           }
          ],
          "histogram2dcontour": [
           {
            "colorbar": {
             "outlinewidth": 0,
             "ticks": ""
            },
            "colorscale": [
             [
              0,
              "#0d0887"
             ],
             [
              0.1111111111111111,
              "#46039f"
             ],
             [
              0.2222222222222222,
              "#7201a8"
             ],
             [
              0.3333333333333333,
              "#9c179e"
             ],
             [
              0.4444444444444444,
              "#bd3786"
             ],
             [
              0.5555555555555556,
              "#d8576b"
             ],
             [
              0.6666666666666666,
              "#ed7953"
             ],
             [
              0.7777777777777778,
              "#fb9f3a"
             ],
             [
              0.8888888888888888,
              "#fdca26"
             ],
             [
              1,
              "#f0f921"
             ]
            ],
            "type": "histogram2dcontour"
           }
          ],
          "mesh3d": [
           {
            "colorbar": {
             "outlinewidth": 0,
             "ticks": ""
            },
            "type": "mesh3d"
           }
          ],
          "parcoords": [
           {
            "line": {
             "colorbar": {
              "outlinewidth": 0,
              "ticks": ""
             }
            },
            "type": "parcoords"
           }
          ],
          "pie": [
           {
            "automargin": true,
            "type": "pie"
           }
          ],
          "scatter": [
           {
            "fillpattern": {
             "fillmode": "overlay",
             "size": 10,
             "solidity": 0.2
            },
            "type": "scatter"
           }
          ],
          "scatter3d": [
           {
            "line": {
             "colorbar": {
              "outlinewidth": 0,
              "ticks": ""
             }
            },
            "marker": {
             "colorbar": {
              "outlinewidth": 0,
              "ticks": ""
             }
            },
            "type": "scatter3d"
           }
          ],
          "scattercarpet": [
           {
            "marker": {
             "colorbar": {
              "outlinewidth": 0,
              "ticks": ""
             }
            },
            "type": "scattercarpet"
           }
          ],
          "scattergeo": [
           {
            "marker": {
             "colorbar": {
              "outlinewidth": 0,
              "ticks": ""
             }
            },
            "type": "scattergeo"
           }
          ],
          "scattergl": [
           {
            "marker": {
             "colorbar": {
              "outlinewidth": 0,
              "ticks": ""
             }
            },
            "type": "scattergl"
           }
          ],
          "scattermapbox": [
           {
            "marker": {
             "colorbar": {
              "outlinewidth": 0,
              "ticks": ""
             }
            },
            "type": "scattermapbox"
           }
          ],
          "scatterpolar": [
           {
            "marker": {
             "colorbar": {
              "outlinewidth": 0,
              "ticks": ""
             }
            },
            "type": "scatterpolar"
           }
          ],
          "scatterpolargl": [
           {
            "marker": {
             "colorbar": {
              "outlinewidth": 0,
              "ticks": ""
             }
            },
            "type": "scatterpolargl"
           }
          ],
          "scatterternary": [
           {
            "marker": {
             "colorbar": {
              "outlinewidth": 0,
              "ticks": ""
             }
            },
            "type": "scatterternary"
           }
          ],
          "surface": [
           {
            "colorbar": {
             "outlinewidth": 0,
             "ticks": ""
            },
            "colorscale": [
             [
              0,
              "#0d0887"
             ],
             [
              0.1111111111111111,
              "#46039f"
             ],
             [
              0.2222222222222222,
              "#7201a8"
             ],
             [
              0.3333333333333333,
              "#9c179e"
             ],
             [
              0.4444444444444444,
              "#bd3786"
             ],
             [
              0.5555555555555556,
              "#d8576b"
             ],
             [
              0.6666666666666666,
              "#ed7953"
             ],
             [
              0.7777777777777778,
              "#fb9f3a"
             ],
             [
              0.8888888888888888,
              "#fdca26"
             ],
             [
              1,
              "#f0f921"
             ]
            ],
            "type": "surface"
           }
          ],
          "table": [
           {
            "cells": {
             "fill": {
              "color": "#EBF0F8"
             },
             "line": {
              "color": "white"
             }
            },
            "header": {
             "fill": {
              "color": "#C8D4E3"
             },
             "line": {
              "color": "white"
             }
            },
            "type": "table"
           }
          ]
         },
         "layout": {
          "annotationdefaults": {
           "arrowcolor": "#2a3f5f",
           "arrowhead": 0,
           "arrowwidth": 1
          },
          "autotypenumbers": "strict",
          "coloraxis": {
           "colorbar": {
            "outlinewidth": 0,
            "ticks": ""
           }
          },
          "colorscale": {
           "diverging": [
            [
             0,
             "#8e0152"
            ],
            [
             0.1,
             "#c51b7d"
            ],
            [
             0.2,
             "#de77ae"
            ],
            [
             0.3,
             "#f1b6da"
            ],
            [
             0.4,
             "#fde0ef"
            ],
            [
             0.5,
             "#f7f7f7"
            ],
            [
             0.6,
             "#e6f5d0"
            ],
            [
             0.7,
             "#b8e186"
            ],
            [
             0.8,
             "#7fbc41"
            ],
            [
             0.9,
             "#4d9221"
            ],
            [
             1,
             "#276419"
            ]
           ],
           "sequential": [
            [
             0,
             "#0d0887"
            ],
            [
             0.1111111111111111,
             "#46039f"
            ],
            [
             0.2222222222222222,
             "#7201a8"
            ],
            [
             0.3333333333333333,
             "#9c179e"
            ],
            [
             0.4444444444444444,
             "#bd3786"
            ],
            [
             0.5555555555555556,
             "#d8576b"
            ],
            [
             0.6666666666666666,
             "#ed7953"
            ],
            [
             0.7777777777777778,
             "#fb9f3a"
            ],
            [
             0.8888888888888888,
             "#fdca26"
            ],
            [
             1,
             "#f0f921"
            ]
           ],
           "sequentialminus": [
            [
             0,
             "#0d0887"
            ],
            [
             0.1111111111111111,
             "#46039f"
            ],
            [
             0.2222222222222222,
             "#7201a8"
            ],
            [
             0.3333333333333333,
             "#9c179e"
            ],
            [
             0.4444444444444444,
             "#bd3786"
            ],
            [
             0.5555555555555556,
             "#d8576b"
            ],
            [
             0.6666666666666666,
             "#ed7953"
            ],
            [
             0.7777777777777778,
             "#fb9f3a"
            ],
            [
             0.8888888888888888,
             "#fdca26"
            ],
            [
             1,
             "#f0f921"
            ]
           ]
          },
          "colorway": [
           "#636efa",
           "#EF553B",
           "#00cc96",
           "#ab63fa",
           "#FFA15A",
           "#19d3f3",
           "#FF6692",
           "#B6E880",
           "#FF97FF",
           "#FECB52"
          ],
          "font": {
           "color": "#2a3f5f"
          },
          "geo": {
           "bgcolor": "white",
           "lakecolor": "white",
           "landcolor": "#E5ECF6",
           "showlakes": true,
           "showland": true,
           "subunitcolor": "white"
          },
          "hoverlabel": {
           "align": "left"
          },
          "hovermode": "closest",
          "mapbox": {
           "style": "light"
          },
          "paper_bgcolor": "white",
          "plot_bgcolor": "#E5ECF6",
          "polar": {
           "angularaxis": {
            "gridcolor": "white",
            "linecolor": "white",
            "ticks": ""
           },
           "bgcolor": "#E5ECF6",
           "radialaxis": {
            "gridcolor": "white",
            "linecolor": "white",
            "ticks": ""
           }
          },
          "scene": {
           "xaxis": {
            "backgroundcolor": "#E5ECF6",
            "gridcolor": "white",
            "gridwidth": 2,
            "linecolor": "white",
            "showbackground": true,
            "ticks": "",
            "zerolinecolor": "white"
           },
           "yaxis": {
            "backgroundcolor": "#E5ECF6",
            "gridcolor": "white",
            "gridwidth": 2,
            "linecolor": "white",
            "showbackground": true,
            "ticks": "",
            "zerolinecolor": "white"
           },
           "zaxis": {
            "backgroundcolor": "#E5ECF6",
            "gridcolor": "white",
            "gridwidth": 2,
            "linecolor": "white",
            "showbackground": true,
            "ticks": "",
            "zerolinecolor": "white"
           }
          },
          "shapedefaults": {
           "line": {
            "color": "#2a3f5f"
           }
          },
          "ternary": {
           "aaxis": {
            "gridcolor": "white",
            "linecolor": "white",
            "ticks": ""
           },
           "baxis": {
            "gridcolor": "white",
            "linecolor": "white",
            "ticks": ""
           },
           "bgcolor": "#E5ECF6",
           "caxis": {
            "gridcolor": "white",
            "linecolor": "white",
            "ticks": ""
           }
          },
          "title": {
           "x": 0.05
          },
          "xaxis": {
           "automargin": true,
           "gridcolor": "white",
           "linecolor": "white",
           "ticks": "",
           "title": {
            "standoff": 15
           },
           "zerolinecolor": "white",
           "zerolinewidth": 2
          },
          "yaxis": {
           "automargin": true,
           "gridcolor": "white",
           "linecolor": "white",
           "ticks": "",
           "title": {
            "standoff": 15
           },
           "zerolinecolor": "white",
           "zerolinewidth": 2
          }
         }
        },
        "title": {
         "text": "Total ARR by Portfolio Group and Plan Type"
        },
        "xaxis": {
         "anchor": "y",
         "domain": [
          0,
          1
         ],
         "title": {
          "text": "Portfolio Group"
         }
        },
        "yaxis": {
         "anchor": "x",
         "domain": [
          0,
          1
         ],
         "title": {
          "text": "Total Annual Revenue ($)"
         }
        }
       }
      }
     },
     "metadata": {},
     "output_type": "display_data"
    },
    {
     "data": {
      "application/vnd.plotly.v1+json": {
       "config": {
        "plotlyServerURL": "https://plot.ly"
       },
       "data": [
        {
         "alignmentgroup": "True",
         "hovertemplate": "plan_type=premium<br>Portfolio Group=%{x}<br>Average NPS Score=%{y}<extra></extra>",
         "legendgroup": "premium",
         "marker": {
          "color": "#636efa",
          "pattern": {
           "shape": ""
          }
         },
         "name": "premium",
         "offsetgroup": "premium",
         "orientation": "v",
         "showlegend": true,
         "textposition": "auto",
         "type": "bar",
         "x": [
          "1 unit",
          "2-5 units",
          "6-10 units",
          "10+ units"
         ],
         "xaxis": "x",
         "y": [
          23.86,
          22.14,
          20.36,
          20.6
         ],
         "yaxis": "y"
        },
        {
         "alignmentgroup": "True",
         "hovertemplate": "plan_type=pro<br>Portfolio Group=%{x}<br>Average NPS Score=%{y}<extra></extra>",
         "legendgroup": "pro",
         "marker": {
          "color": "#EF553B",
          "pattern": {
           "shape": ""
          }
         },
         "name": "pro",
         "offsetgroup": "pro",
         "orientation": "v",
         "showlegend": true,
         "textposition": "auto",
         "type": "bar",
         "x": [
          "1 unit",
          "2-5 units",
          "6-10 units",
          "10+ units"
         ],
         "xaxis": "x",
         "y": [
          19.61,
          19.59,
          17.22,
          20.73
         ],
         "yaxis": "y"
        },
        {
         "alignmentgroup": "True",
         "hovertemplate": "plan_type=starter<br>Portfolio Group=%{x}<br>Average NPS Score=%{y}<extra></extra>",
         "legendgroup": "starter",
         "marker": {
          "color": "#00cc96",
          "pattern": {
           "shape": ""
          }
         },
         "name": "starter",
         "offsetgroup": "starter",
         "orientation": "v",
         "showlegend": true,
         "textposition": "auto",
         "type": "bar",
         "x": [
          "1 unit",
          "2-5 units",
          "6-10 units",
          "10+ units"
         ],
         "xaxis": "x",
         "y": [
          17.61,
          14.83,
          17.66,
          15.65
         ],
         "yaxis": "y"
        }
       ],
       "layout": {
        "barmode": "group",
        "legend": {
         "title": {
          "text": "plan_type"
         },
         "tracegroupgap": 0
        },
        "template": {
         "data": {
          "bar": [
           {
            "error_x": {
             "color": "#2a3f5f"
            },
            "error_y": {
             "color": "#2a3f5f"
            },
            "marker": {
             "line": {
              "color": "#E5ECF6",
              "width": 0.5
             },
             "pattern": {
              "fillmode": "overlay",
              "size": 10,
              "solidity": 0.2
             }
            },
            "type": "bar"
           }
          ],
          "barpolar": [
           {
            "marker": {
             "line": {
              "color": "#E5ECF6",
              "width": 0.5
             },
             "pattern": {
              "fillmode": "overlay",
              "size": 10,
              "solidity": 0.2
             }
            },
            "type": "barpolar"
           }
          ],
          "carpet": [
           {
            "aaxis": {
             "endlinecolor": "#2a3f5f",
             "gridcolor": "white",
             "linecolor": "white",
             "minorgridcolor": "white",
             "startlinecolor": "#2a3f5f"
            },
            "baxis": {
             "endlinecolor": "#2a3f5f",
             "gridcolor": "white",
             "linecolor": "white",
             "minorgridcolor": "white",
             "startlinecolor": "#2a3f5f"
            },
            "type": "carpet"
           }
          ],
          "choropleth": [
           {
            "colorbar": {
             "outlinewidth": 0,
             "ticks": ""
            },
            "type": "choropleth"
           }
          ],
          "contour": [
           {
            "colorbar": {
             "outlinewidth": 0,
             "ticks": ""
            },
            "colorscale": [
             [
              0,
              "#0d0887"
             ],
             [
              0.1111111111111111,
              "#46039f"
             ],
             [
              0.2222222222222222,
              "#7201a8"
             ],
             [
              0.3333333333333333,
              "#9c179e"
             ],
             [
              0.4444444444444444,
              "#bd3786"
             ],
             [
              0.5555555555555556,
              "#d8576b"
             ],
             [
              0.6666666666666666,
              "#ed7953"
             ],
             [
              0.7777777777777778,
              "#fb9f3a"
             ],
             [
              0.8888888888888888,
              "#fdca26"
             ],
             [
              1,
              "#f0f921"
             ]
            ],
            "type": "contour"
           }
          ],
          "contourcarpet": [
           {
            "colorbar": {
             "outlinewidth": 0,
             "ticks": ""
            },
            "type": "contourcarpet"
           }
          ],
          "heatmap": [
           {
            "colorbar": {
             "outlinewidth": 0,
             "ticks": ""
            },
            "colorscale": [
             [
              0,
              "#0d0887"
             ],
             [
              0.1111111111111111,
              "#46039f"
             ],
             [
              0.2222222222222222,
              "#7201a8"
             ],
             [
              0.3333333333333333,
              "#9c179e"
             ],
             [
              0.4444444444444444,
              "#bd3786"
             ],
             [
              0.5555555555555556,
              "#d8576b"
             ],
             [
              0.6666666666666666,
              "#ed7953"
             ],
             [
              0.7777777777777778,
              "#fb9f3a"
             ],
             [
              0.8888888888888888,
              "#fdca26"
             ],
             [
              1,
              "#f0f921"
             ]
            ],
            "type": "heatmap"
           }
          ],
          "heatmapgl": [
           {
            "colorbar": {
             "outlinewidth": 0,
             "ticks": ""
            },
            "colorscale": [
             [
              0,
              "#0d0887"
             ],
             [
              0.1111111111111111,
              "#46039f"
             ],
             [
              0.2222222222222222,
              "#7201a8"
             ],
             [
              0.3333333333333333,
              "#9c179e"
             ],
             [
              0.4444444444444444,
              "#bd3786"
             ],
             [
              0.5555555555555556,
              "#d8576b"
             ],
             [
              0.6666666666666666,
              "#ed7953"
             ],
             [
              0.7777777777777778,
              "#fb9f3a"
             ],
             [
              0.8888888888888888,
              "#fdca26"
             ],
             [
              1,
              "#f0f921"
             ]
            ],
            "type": "heatmapgl"
           }
          ],
          "histogram": [
           {
            "marker": {
             "pattern": {
              "fillmode": "overlay",
              "size": 10,
              "solidity": 0.2
             }
            },
            "type": "histogram"
           }
          ],
          "histogram2d": [
           {
            "colorbar": {
             "outlinewidth": 0,
             "ticks": ""
            },
            "colorscale": [
             [
              0,
              "#0d0887"
             ],
             [
              0.1111111111111111,
              "#46039f"
             ],
             [
              0.2222222222222222,
              "#7201a8"
             ],
             [
              0.3333333333333333,
              "#9c179e"
             ],
             [
              0.4444444444444444,
              "#bd3786"
             ],
             [
              0.5555555555555556,
              "#d8576b"
             ],
             [
              0.6666666666666666,
              "#ed7953"
             ],
             [
              0.7777777777777778,
              "#fb9f3a"
             ],
             [
              0.8888888888888888,
              "#fdca26"
             ],
             [
              1,
              "#f0f921"
             ]
            ],
            "type": "histogram2d"
           }
          ],
          "histogram2dcontour": [
           {
            "colorbar": {
             "outlinewidth": 0,
             "ticks": ""
            },
            "colorscale": [
             [
              0,
              "#0d0887"
             ],
             [
              0.1111111111111111,
              "#46039f"
             ],
             [
              0.2222222222222222,
              "#7201a8"
             ],
             [
              0.3333333333333333,
              "#9c179e"
             ],
             [
              0.4444444444444444,
              "#bd3786"
             ],
             [
              0.5555555555555556,
              "#d8576b"
             ],
             [
              0.6666666666666666,
              "#ed7953"
             ],
             [
              0.7777777777777778,
              "#fb9f3a"
             ],
             [
              0.8888888888888888,
              "#fdca26"
             ],
             [
              1,
              "#f0f921"
             ]
            ],
            "type": "histogram2dcontour"
           }
          ],
          "mesh3d": [
           {
            "colorbar": {
             "outlinewidth": 0,
             "ticks": ""
            },
            "type": "mesh3d"
           }
          ],
          "parcoords": [
           {
            "line": {
             "colorbar": {
              "outlinewidth": 0,
              "ticks": ""
             }
            },
            "type": "parcoords"
           }
          ],
          "pie": [
           {
            "automargin": true,
            "type": "pie"
           }
          ],
          "scatter": [
           {
            "fillpattern": {
             "fillmode": "overlay",
             "size": 10,
             "solidity": 0.2
            },
            "type": "scatter"
           }
          ],
          "scatter3d": [
           {
            "line": {
             "colorbar": {
              "outlinewidth": 0,
              "ticks": ""
             }
            },
            "marker": {
             "colorbar": {
              "outlinewidth": 0,
              "ticks": ""
             }
            },
            "type": "scatter3d"
           }
          ],
          "scattercarpet": [
           {
            "marker": {
             "colorbar": {
              "outlinewidth": 0,
              "ticks": ""
             }
            },
            "type": "scattercarpet"
           }
          ],
          "scattergeo": [
           {
            "marker": {
             "colorbar": {
              "outlinewidth": 0,
              "ticks": ""
             }
            },
            "type": "scattergeo"
           }
          ],
          "scattergl": [
           {
            "marker": {
             "colorbar": {
              "outlinewidth": 0,
              "ticks": ""
             }
            },
            "type": "scattergl"
           }
          ],
          "scattermapbox": [
           {
            "marker": {
             "colorbar": {
              "outlinewidth": 0,
              "ticks": ""
             }
            },
            "type": "scattermapbox"
           }
          ],
          "scatterpolar": [
           {
            "marker": {
             "colorbar": {
              "outlinewidth": 0,
              "ticks": ""
             }
            },
            "type": "scatterpolar"
           }
          ],
          "scatterpolargl": [
           {
            "marker": {
             "colorbar": {
              "outlinewidth": 0,
              "ticks": ""
             }
            },
            "type": "scatterpolargl"
           }
          ],
          "scatterternary": [
           {
            "marker": {
             "colorbar": {
              "outlinewidth": 0,
              "ticks": ""
             }
            },
            "type": "scatterternary"
           }
          ],
          "surface": [
           {
            "colorbar": {
             "outlinewidth": 0,
             "ticks": ""
            },
            "colorscale": [
             [
              0,
              "#0d0887"
             ],
             [
              0.1111111111111111,
              "#46039f"
             ],
             [
              0.2222222222222222,
              "#7201a8"
             ],
             [
              0.3333333333333333,
              "#9c179e"
             ],
             [
              0.4444444444444444,
              "#bd3786"
             ],
             [
              0.5555555555555556,
              "#d8576b"
             ],
             [
              0.6666666666666666,
              "#ed7953"
             ],
             [
              0.7777777777777778,
              "#fb9f3a"
             ],
             [
              0.8888888888888888,
              "#fdca26"
             ],
             [
              1,
              "#f0f921"
             ]
            ],
            "type": "surface"
           }
          ],
          "table": [
           {
            "cells": {
             "fill": {
              "color": "#EBF0F8"
             },
             "line": {
              "color": "white"
             }
            },
            "header": {
             "fill": {
              "color": "#C8D4E3"
             },
             "line": {
              "color": "white"
             }
            },
            "type": "table"
           }
          ]
         },
         "layout": {
          "annotationdefaults": {
           "arrowcolor": "#2a3f5f",
           "arrowhead": 0,
           "arrowwidth": 1
          },
          "autotypenumbers": "strict",
          "coloraxis": {
           "colorbar": {
            "outlinewidth": 0,
            "ticks": ""
           }
          },
          "colorscale": {
           "diverging": [
            [
             0,
             "#8e0152"
            ],
            [
             0.1,
             "#c51b7d"
            ],
            [
             0.2,
             "#de77ae"
            ],
            [
             0.3,
             "#f1b6da"
            ],
            [
             0.4,
             "#fde0ef"
            ],
            [
             0.5,
             "#f7f7f7"
            ],
            [
             0.6,
             "#e6f5d0"
            ],
            [
             0.7,
             "#b8e186"
            ],
            [
             0.8,
             "#7fbc41"
            ],
            [
             0.9,
             "#4d9221"
            ],
            [
             1,
             "#276419"
            ]
           ],
           "sequential": [
            [
             0,
             "#0d0887"
            ],
            [
             0.1111111111111111,
             "#46039f"
            ],
            [
             0.2222222222222222,
             "#7201a8"
            ],
            [
             0.3333333333333333,
             "#9c179e"
            ],
            [
             0.4444444444444444,
             "#bd3786"
            ],
            [
             0.5555555555555556,
             "#d8576b"
            ],
            [
             0.6666666666666666,
             "#ed7953"
            ],
            [
             0.7777777777777778,
             "#fb9f3a"
            ],
            [
             0.8888888888888888,
             "#fdca26"
            ],
            [
             1,
             "#f0f921"
            ]
           ],
           "sequentialminus": [
            [
             0,
             "#0d0887"
            ],
            [
             0.1111111111111111,
             "#46039f"
            ],
            [
             0.2222222222222222,
             "#7201a8"
            ],
            [
             0.3333333333333333,
             "#9c179e"
            ],
            [
             0.4444444444444444,
             "#bd3786"
            ],
            [
             0.5555555555555556,
             "#d8576b"
            ],
            [
             0.6666666666666666,
             "#ed7953"
            ],
            [
             0.7777777777777778,
             "#fb9f3a"
            ],
            [
             0.8888888888888888,
             "#fdca26"
            ],
            [
             1,
             "#f0f921"
            ]
           ]
          },
          "colorway": [
           "#636efa",
           "#EF553B",
           "#00cc96",
           "#ab63fa",
           "#FFA15A",
           "#19d3f3",
           "#FF6692",
           "#B6E880",
           "#FF97FF",
           "#FECB52"
          ],
          "font": {
           "color": "#2a3f5f"
          },
          "geo": {
           "bgcolor": "white",
           "lakecolor": "white",
           "landcolor": "#E5ECF6",
           "showlakes": true,
           "showland": true,
           "subunitcolor": "white"
          },
          "hoverlabel": {
           "align": "left"
          },
          "hovermode": "closest",
          "mapbox": {
           "style": "light"
          },
          "paper_bgcolor": "white",
          "plot_bgcolor": "#E5ECF6",
          "polar": {
           "angularaxis": {
            "gridcolor": "white",
            "linecolor": "white",
            "ticks": ""
           },
           "bgcolor": "#E5ECF6",
           "radialaxis": {
            "gridcolor": "white",
            "linecolor": "white",
            "ticks": ""
           }
          },
          "scene": {
           "xaxis": {
            "backgroundcolor": "#E5ECF6",
            "gridcolor": "white",
            "gridwidth": 2,
            "linecolor": "white",
            "showbackground": true,
            "ticks": "",
            "zerolinecolor": "white"
           },
           "yaxis": {
            "backgroundcolor": "#E5ECF6",
            "gridcolor": "white",
            "gridwidth": 2,
            "linecolor": "white",
            "showbackground": true,
            "ticks": "",
            "zerolinecolor": "white"
           },
           "zaxis": {
            "backgroundcolor": "#E5ECF6",
            "gridcolor": "white",
            "gridwidth": 2,
            "linecolor": "white",
            "showbackground": true,
            "ticks": "",
            "zerolinecolor": "white"
           }
          },
          "shapedefaults": {
           "line": {
            "color": "#2a3f5f"
           }
          },
          "ternary": {
           "aaxis": {
            "gridcolor": "white",
            "linecolor": "white",
            "ticks": ""
           },
           "baxis": {
            "gridcolor": "white",
            "linecolor": "white",
            "ticks": ""
           },
           "bgcolor": "#E5ECF6",
           "caxis": {
            "gridcolor": "white",
            "linecolor": "white",
            "ticks": ""
           }
          },
          "title": {
           "x": 0.05
          },
          "xaxis": {
           "automargin": true,
           "gridcolor": "white",
           "linecolor": "white",
           "ticks": "",
           "title": {
            "standoff": 15
           },
           "zerolinecolor": "white",
           "zerolinewidth": 2
          },
          "yaxis": {
           "automargin": true,
           "gridcolor": "white",
           "linecolor": "white",
           "ticks": "",
           "title": {
            "standoff": 15
           },
           "zerolinecolor": "white",
           "zerolinewidth": 2
          }
         }
        },
        "title": {
         "text": "Average NPS by Portfolio Group and Plan Type"
        },
        "xaxis": {
         "anchor": "y",
         "domain": [
          0,
          1
         ],
         "title": {
          "text": "Portfolio Group"
         }
        },
        "yaxis": {
         "anchor": "x",
         "domain": [
          0,
          1
         ],
         "title": {
          "text": "Average NPS Score"
         }
        }
       }
      }
     },
     "metadata": {},
     "output_type": "display_data"
    },
    {
     "data": {
      "application/vnd.plotly.v1+json": {
       "config": {
        "plotlyServerURL": "https://plot.ly"
       },
       "data": [
        {
         "alignmentgroup": "True",
         "hovertemplate": "plan_type=premium<br>Portfolio Group=%{x}<br>Active Rate (%)=%{y}<extra></extra>",
         "legendgroup": "premium",
         "marker": {
          "color": "#636efa",
          "pattern": {
           "shape": ""
          }
         },
         "name": "premium",
         "offsetgroup": "premium",
         "orientation": "v",
         "showlegend": true,
         "textposition": "auto",
         "type": "bar",
         "x": [
          "1 unit",
          "2-5 units",
          "6-10 units",
          "10+ units"
         ],
         "xaxis": "x",
         "y": [
          84.03,
          76.82,
          75.38,
          76.24
         ],
         "yaxis": "y"
        },
        {
         "alignmentgroup": "True",
         "hovertemplate": "plan_type=pro<br>Portfolio Group=%{x}<br>Active Rate (%)=%{y}<extra></extra>",
         "legendgroup": "pro",
         "marker": {
          "color": "#EF553B",
          "pattern": {
           "shape": ""
          }
         },
         "name": "pro",
         "offsetgroup": "pro",
         "orientation": "v",
         "showlegend": true,
         "textposition": "auto",
         "type": "bar",
         "x": [
          "1 unit",
          "2-5 units",
          "6-10 units",
          "10+ units"
         ],
         "xaxis": "x",
         "y": [
          77.59,
          76.48,
          76.98,
          77.04
         ],
         "yaxis": "y"
        },
        {
         "alignmentgroup": "True",
         "hovertemplate": "plan_type=starter<br>Portfolio Group=%{x}<br>Active Rate (%)=%{y}<extra></extra>",
         "legendgroup": "starter",
         "marker": {
          "color": "#00cc96",
          "pattern": {
           "shape": ""
          }
         },
         "name": "starter",
         "offsetgroup": "starter",
         "orientation": "v",
         "showlegend": true,
         "textposition": "auto",
         "type": "bar",
         "x": [
          "1 unit",
          "2-5 units",
          "6-10 units",
          "10+ units"
         ],
         "xaxis": "x",
         "y": [
          62.98,
          65.18,
          64.42,
          64.06
         ],
         "yaxis": "y"
        }
       ],
       "layout": {
        "barmode": "group",
        "legend": {
         "title": {
          "text": "plan_type"
         },
         "tracegroupgap": 0
        },
        "template": {
         "data": {
          "bar": [
           {
            "error_x": {
             "color": "#2a3f5f"
            },
            "error_y": {
             "color": "#2a3f5f"
            },
            "marker": {
             "line": {
              "color": "#E5ECF6",
              "width": 0.5
             },
             "pattern": {
              "fillmode": "overlay",
              "size": 10,
              "solidity": 0.2
             }
            },
            "type": "bar"
           }
          ],
          "barpolar": [
           {
            "marker": {
             "line": {
              "color": "#E5ECF6",
              "width": 0.5
             },
             "pattern": {
              "fillmode": "overlay",
              "size": 10,
              "solidity": 0.2
             }
            },
            "type": "barpolar"
           }
          ],
          "carpet": [
           {
            "aaxis": {
             "endlinecolor": "#2a3f5f",
             "gridcolor": "white",
             "linecolor": "white",
             "minorgridcolor": "white",
             "startlinecolor": "#2a3f5f"
            },
            "baxis": {
             "endlinecolor": "#2a3f5f",
             "gridcolor": "white",
             "linecolor": "white",
             "minorgridcolor": "white",
             "startlinecolor": "#2a3f5f"
            },
            "type": "carpet"
           }
          ],
          "choropleth": [
           {
            "colorbar": {
             "outlinewidth": 0,
             "ticks": ""
            },
            "type": "choropleth"
           }
          ],
          "contour": [
           {
            "colorbar": {
             "outlinewidth": 0,
             "ticks": ""
            },
            "colorscale": [
             [
              0,
              "#0d0887"
             ],
             [
              0.1111111111111111,
              "#46039f"
             ],
             [
              0.2222222222222222,
              "#7201a8"
             ],
             [
              0.3333333333333333,
              "#9c179e"
             ],
             [
              0.4444444444444444,
              "#bd3786"
             ],
             [
              0.5555555555555556,
              "#d8576b"
             ],
             [
              0.6666666666666666,
              "#ed7953"
             ],
             [
              0.7777777777777778,
              "#fb9f3a"
             ],
             [
              0.8888888888888888,
              "#fdca26"
             ],
             [
              1,
              "#f0f921"
             ]
            ],
            "type": "contour"
           }
          ],
          "contourcarpet": [
           {
            "colorbar": {
             "outlinewidth": 0,
             "ticks": ""
            },
            "type": "contourcarpet"
           }
          ],
          "heatmap": [
           {
            "colorbar": {
             "outlinewidth": 0,
             "ticks": ""
            },
            "colorscale": [
             [
              0,
              "#0d0887"
             ],
             [
              0.1111111111111111,
              "#46039f"
             ],
             [
              0.2222222222222222,
              "#7201a8"
             ],
             [
              0.3333333333333333,
              "#9c179e"
             ],
             [
              0.4444444444444444,
              "#bd3786"
             ],
             [
              0.5555555555555556,
              "#d8576b"
             ],
             [
              0.6666666666666666,
              "#ed7953"
             ],
             [
              0.7777777777777778,
              "#fb9f3a"
             ],
             [
              0.8888888888888888,
              "#fdca26"
             ],
             [
              1,
              "#f0f921"
             ]
            ],
            "type": "heatmap"
           }
          ],
          "heatmapgl": [
           {
            "colorbar": {
             "outlinewidth": 0,
             "ticks": ""
            },
            "colorscale": [
             [
              0,
              "#0d0887"
             ],
             [
              0.1111111111111111,
              "#46039f"
             ],
             [
              0.2222222222222222,
              "#7201a8"
             ],
             [
              0.3333333333333333,
              "#9c179e"
             ],
             [
              0.4444444444444444,
              "#bd3786"
             ],
             [
              0.5555555555555556,
              "#d8576b"
             ],
             [
              0.6666666666666666,
              "#ed7953"
             ],
             [
              0.7777777777777778,
              "#fb9f3a"
             ],
             [
              0.8888888888888888,
              "#fdca26"
             ],
             [
              1,
              "#f0f921"
             ]
            ],
            "type": "heatmapgl"
           }
          ],
          "histogram": [
           {
            "marker": {
             "pattern": {
              "fillmode": "overlay",
              "size": 10,
              "solidity": 0.2
             }
            },
            "type": "histogram"
           }
          ],
          "histogram2d": [
           {
            "colorbar": {
             "outlinewidth": 0,
             "ticks": ""
            },
            "colorscale": [
             [
              0,
              "#0d0887"
             ],
             [
              0.1111111111111111,
              "#46039f"
             ],
             [
              0.2222222222222222,
              "#7201a8"
             ],
             [
              0.3333333333333333,
              "#9c179e"
             ],
             [
              0.4444444444444444,
              "#bd3786"
             ],
             [
              0.5555555555555556,
              "#d8576b"
             ],
             [
              0.6666666666666666,
              "#ed7953"
             ],
             [
              0.7777777777777778,
              "#fb9f3a"
             ],
             [
              0.8888888888888888,
              "#fdca26"
             ],
             [
              1,
              "#f0f921"
             ]
            ],
            "type": "histogram2d"
           }
          ],
          "histogram2dcontour": [
           {
            "colorbar": {
             "outlinewidth": 0,
             "ticks": ""
            },
            "colorscale": [
             [
              0,
              "#0d0887"
             ],
             [
              0.1111111111111111,
              "#46039f"
             ],
             [
              0.2222222222222222,
              "#7201a8"
             ],
             [
              0.3333333333333333,
              "#9c179e"
             ],
             [
              0.4444444444444444,
              "#bd3786"
             ],
             [
              0.5555555555555556,
              "#d8576b"
             ],
             [
              0.6666666666666666,
              "#ed7953"
             ],
             [
              0.7777777777777778,
              "#fb9f3a"
             ],
             [
              0.8888888888888888,
              "#fdca26"
             ],
             [
              1,
              "#f0f921"
             ]
            ],
            "type": "histogram2dcontour"
           }
          ],
          "mesh3d": [
           {
            "colorbar": {
             "outlinewidth": 0,
             "ticks": ""
            },
            "type": "mesh3d"
           }
          ],
          "parcoords": [
           {
            "line": {
             "colorbar": {
              "outlinewidth": 0,
              "ticks": ""
             }
            },
            "type": "parcoords"
           }
          ],
          "pie": [
           {
            "automargin": true,
            "type": "pie"
           }
          ],
          "scatter": [
           {
            "fillpattern": {
             "fillmode": "overlay",
             "size": 10,
             "solidity": 0.2
            },
            "type": "scatter"
           }
          ],
          "scatter3d": [
           {
            "line": {
             "colorbar": {
              "outlinewidth": 0,
              "ticks": ""
             }
            },
            "marker": {
             "colorbar": {
              "outlinewidth": 0,
              "ticks": ""
             }
            },
            "type": "scatter3d"
           }
          ],
          "scattercarpet": [
           {
            "marker": {
             "colorbar": {
              "outlinewidth": 0,
              "ticks": ""
             }
            },
            "type": "scattercarpet"
           }
          ],
          "scattergeo": [
           {
            "marker": {
             "colorbar": {
              "outlinewidth": 0,
              "ticks": ""
             }
            },
            "type": "scattergeo"
           }
          ],
          "scattergl": [
           {
            "marker": {
             "colorbar": {
              "outlinewidth": 0,
              "ticks": ""
             }
            },
            "type": "scattergl"
           }
          ],
          "scattermapbox": [
           {
            "marker": {
             "colorbar": {
              "outlinewidth": 0,
              "ticks": ""
             }
            },
            "type": "scattermapbox"
           }
          ],
          "scatterpolar": [
           {
            "marker": {
             "colorbar": {
              "outlinewidth": 0,
              "ticks": ""
             }
            },
            "type": "scatterpolar"
           }
          ],
          "scatterpolargl": [
           {
            "marker": {
             "colorbar": {
              "outlinewidth": 0,
              "ticks": ""
             }
            },
            "type": "scatterpolargl"
           }
          ],
          "scatterternary": [
           {
            "marker": {
             "colorbar": {
              "outlinewidth": 0,
              "ticks": ""
             }
            },
            "type": "scatterternary"
           }
          ],
          "surface": [
           {
            "colorbar": {
             "outlinewidth": 0,
             "ticks": ""
            },
            "colorscale": [
             [
              0,
              "#0d0887"
             ],
             [
              0.1111111111111111,
              "#46039f"
             ],
             [
              0.2222222222222222,
              "#7201a8"
             ],
             [
              0.3333333333333333,
              "#9c179e"
             ],
             [
              0.4444444444444444,
              "#bd3786"
             ],
             [
              0.5555555555555556,
              "#d8576b"
             ],
             [
              0.6666666666666666,
              "#ed7953"
             ],
             [
              0.7777777777777778,
              "#fb9f3a"
             ],
             [
              0.8888888888888888,
              "#fdca26"
             ],
             [
              1,
              "#f0f921"
             ]
            ],
            "type": "surface"
           }
          ],
          "table": [
           {
            "cells": {
             "fill": {
              "color": "#EBF0F8"
             },
             "line": {
              "color": "white"
             }
            },
            "header": {
             "fill": {
              "color": "#C8D4E3"
             },
             "line": {
              "color": "white"
             }
            },
            "type": "table"
           }
          ]
         },
         "layout": {
          "annotationdefaults": {
           "arrowcolor": "#2a3f5f",
           "arrowhead": 0,
           "arrowwidth": 1
          },
          "autotypenumbers": "strict",
          "coloraxis": {
           "colorbar": {
            "outlinewidth": 0,
            "ticks": ""
           }
          },
          "colorscale": {
           "diverging": [
            [
             0,
             "#8e0152"
            ],
            [
             0.1,
             "#c51b7d"
            ],
            [
             0.2,
             "#de77ae"
            ],
            [
             0.3,
             "#f1b6da"
            ],
            [
             0.4,
             "#fde0ef"
            ],
            [
             0.5,
             "#f7f7f7"
            ],
            [
             0.6,
             "#e6f5d0"
            ],
            [
             0.7,
             "#b8e186"
            ],
            [
             0.8,
             "#7fbc41"
            ],
            [
             0.9,
             "#4d9221"
            ],
            [
             1,
             "#276419"
            ]
           ],
           "sequential": [
            [
             0,
             "#0d0887"
            ],
            [
             0.1111111111111111,
             "#46039f"
            ],
            [
             0.2222222222222222,
             "#7201a8"
            ],
            [
             0.3333333333333333,
             "#9c179e"
            ],
            [
             0.4444444444444444,
             "#bd3786"
            ],
            [
             0.5555555555555556,
             "#d8576b"
            ],
            [
             0.6666666666666666,
             "#ed7953"
            ],
            [
             0.7777777777777778,
             "#fb9f3a"
            ],
            [
             0.8888888888888888,
             "#fdca26"
            ],
            [
             1,
             "#f0f921"
            ]
           ],
           "sequentialminus": [
            [
             0,
             "#0d0887"
            ],
            [
             0.1111111111111111,
             "#46039f"
            ],
            [
             0.2222222222222222,
             "#7201a8"
            ],
            [
             0.3333333333333333,
             "#9c179e"
            ],
            [
             0.4444444444444444,
             "#bd3786"
            ],
            [
             0.5555555555555556,
             "#d8576b"
            ],
            [
             0.6666666666666666,
             "#ed7953"
            ],
            [
             0.7777777777777778,
             "#fb9f3a"
            ],
            [
             0.8888888888888888,
             "#fdca26"
            ],
            [
             1,
             "#f0f921"
            ]
           ]
          },
          "colorway": [
           "#636efa",
           "#EF553B",
           "#00cc96",
           "#ab63fa",
           "#FFA15A",
           "#19d3f3",
           "#FF6692",
           "#B6E880",
           "#FF97FF",
           "#FECB52"
          ],
          "font": {
           "color": "#2a3f5f"
          },
          "geo": {
           "bgcolor": "white",
           "lakecolor": "white",
           "landcolor": "#E5ECF6",
           "showlakes": true,
           "showland": true,
           "subunitcolor": "white"
          },
          "hoverlabel": {
           "align": "left"
          },
          "hovermode": "closest",
          "mapbox": {
           "style": "light"
          },
          "paper_bgcolor": "white",
          "plot_bgcolor": "#E5ECF6",
          "polar": {
           "angularaxis": {
            "gridcolor": "white",
            "linecolor": "white",
            "ticks": ""
           },
           "bgcolor": "#E5ECF6",
           "radialaxis": {
            "gridcolor": "white",
            "linecolor": "white",
            "ticks": ""
           }
          },
          "scene": {
           "xaxis": {
            "backgroundcolor": "#E5ECF6",
            "gridcolor": "white",
            "gridwidth": 2,
            "linecolor": "white",
            "showbackground": true,
            "ticks": "",
            "zerolinecolor": "white"
           },
           "yaxis": {
            "backgroundcolor": "#E5ECF6",
            "gridcolor": "white",
            "gridwidth": 2,
            "linecolor": "white",
            "showbackground": true,
            "ticks": "",
            "zerolinecolor": "white"
           },
           "zaxis": {
            "backgroundcolor": "#E5ECF6",
            "gridcolor": "white",
            "gridwidth": 2,
            "linecolor": "white",
            "showbackground": true,
            "ticks": "",
            "zerolinecolor": "white"
           }
          },
          "shapedefaults": {
           "line": {
            "color": "#2a3f5f"
           }
          },
          "ternary": {
           "aaxis": {
            "gridcolor": "white",
            "linecolor": "white",
            "ticks": ""
           },
           "baxis": {
            "gridcolor": "white",
            "linecolor": "white",
            "ticks": ""
           },
           "bgcolor": "#E5ECF6",
           "caxis": {
            "gridcolor": "white",
            "linecolor": "white",
            "ticks": ""
           }
          },
          "title": {
           "x": 0.05
          },
          "xaxis": {
           "automargin": true,
           "gridcolor": "white",
           "linecolor": "white",
           "ticks": "",
           "title": {
            "standoff": 15
           },
           "zerolinecolor": "white",
           "zerolinewidth": 2
          },
          "yaxis": {
           "automargin": true,
           "gridcolor": "white",
           "linecolor": "white",
           "ticks": "",
           "title": {
            "standoff": 15
           },
           "zerolinecolor": "white",
           "zerolinewidth": 2
          }
         }
        },
        "title": {
         "text": "Active Rate (%) by Portfolio Group and Plan Type"
        },
        "xaxis": {
         "anchor": "y",
         "domain": [
          0,
          1
         ],
         "title": {
          "text": "Portfolio Group"
         }
        },
        "yaxis": {
         "anchor": "x",
         "domain": [
          0,
          1
         ],
         "title": {
          "text": "Active Rate (%)"
         }
        }
       }
      }
     },
     "metadata": {},
     "output_type": "display_data"
    }
   ],
   "source": [
    "# Create visualizations of key segment metrics\n",
    "\n",
    "# 1. Customer Count by Segment\n",
    "fig = px.bar(segment_stats.reset_index(), \n",
    "             x='portfolio_group', \n",
    "             y='customer_count',\n",
    "             color='plan_type',\n",
    "             title='Customer Count by Portfolio Group and Plan Type',\n",
    "             barmode='group',\n",
    "             labels={'customer_count': 'Number of Customers', 'portfolio_group': 'Portfolio Group'})\n",
    "fig.show()\n",
    "\n",
    "# 2. Total ARR by Segment\n",
    "fig = px.bar(segment_stats.reset_index(), \n",
    "             x='portfolio_group', \n",
    "             y='total_arr',\n",
    "             color='plan_type',\n",
    "             title='Total ARR by Portfolio Group and Plan Type',\n",
    "             barmode='group',\n",
    "             labels={'total_arr': 'Total Annual Revenue ($)', 'portfolio_group': 'Portfolio Group'})\n",
    "fig.show()\n",
    "\n",
    "# 3. Average NPS by Segment\n",
    "fig = px.bar(segment_stats.reset_index(), \n",
    "             x='portfolio_group', \n",
    "             y='avg_nps',\n",
    "             color='plan_type',\n",
    "             title='Average NPS by Portfolio Group and Plan Type',\n",
    "             barmode='group',\n",
    "             labels={'avg_nps': 'Average NPS Score', 'portfolio_group': 'Portfolio Group'})\n",
    "fig.show()\n",
    "\n",
    "# 4. Active Rate by Segment\n",
    "fig = px.bar(segment_stats.reset_index(), \n",
    "             x='portfolio_group', \n",
    "             y='active_rate_pct',\n",
    "             color='plan_type',\n",
    "             title='Active Rate (%) by Portfolio Group and Plan Type',\n",
    "             barmode='group',\n",
    "             labels={'active_rate_pct': 'Active Rate (%)', 'portfolio_group': 'Portfolio Group'})\n",
    "fig.show()"
   ]
  },
  {
   "cell_type": "markdown",
   "id": "xnfemh6ljv",
   "metadata": {},
   "source": [
    "## 6. User Flow Analysis: Sankey Diagram"
   ]
  },
  {
   "cell_type": "code",
   "execution_count": null,
   "id": "ejzj8q6qbdc",
   "metadata": {},
   "outputs": [
    {
     "name": "stdout",
     "output_type": "stream",
     "text": [
      "================================================================================\n",
      "EVENT DISTRIBUTION ANALYSIS\n",
      "================================================================================\n",
      "Total events stats:\n",
      "count    10000.000000\n",
      "mean        22.873100\n",
      "std          6.617279\n",
      "min          5.000000\n",
      "25%         18.000000\n",
      "50%         22.000000\n",
      "75%         27.000000\n",
      "max         51.000000\n",
      "Name: total_events, dtype: float64\n",
      "\n",
      "Average events per user: 22.9\n",
      "Median events per user: 22.0\n",
      "\n",
      "================================================================================\n",
      "ENGAGEMENT LEVEL DISTRIBUTION\n",
      "================================================================================\n",
      "engagement_level\n",
      "Low (<15 events)         1329\n",
      "Medium (15-30 events)    7334\n",
      "High (30+ events)        1337\n",
      "Name: count, dtype: int64\n",
      "\n",
      "Active Status Distribution:\n",
      "Series([], Name: count, dtype: int64)\n",
      "\n",
      "================================================================================\n",
      "VALIDATION: Average events per engagement level\n",
      "================================================================================\n"
     ]
    },
    {
     "name": "stderr",
     "output_type": "stream",
     "text": [
      "/var/folders/dt/ygs29g2d69z6j_kp3w6648340000gn/T/ipykernel_86856/2738385316.py:33: FutureWarning:\n",
      "\n",
      "The default of observed=False is deprecated and will be changed to True in a future version of pandas. Pass observed=False to retain current behavior or observed=True to adopt the future default and silence this warning.\n",
      "\n"
     ]
    },
    {
     "data": {
      "text/html": [
       "<div>\n",
       "<style scoped>\n",
       "    .dataframe tbody tr th:only-of-type {\n",
       "        vertical-align: middle;\n",
       "    }\n",
       "\n",
       "    .dataframe tbody tr th {\n",
       "        vertical-align: top;\n",
       "    }\n",
       "\n",
       "    .dataframe thead th {\n",
       "        text-align: right;\n",
       "    }\n",
       "</style>\n",
       "<table border=\"1\" class=\"dataframe\">\n",
       "  <thead>\n",
       "    <tr style=\"text-align: right;\">\n",
       "      <th></th>\n",
       "      <th>count</th>\n",
       "      <th>mean</th>\n",
       "      <th>min</th>\n",
       "      <th>max</th>\n",
       "    </tr>\n",
       "    <tr>\n",
       "      <th>engagement_level</th>\n",
       "      <th></th>\n",
       "      <th></th>\n",
       "      <th></th>\n",
       "      <th></th>\n",
       "    </tr>\n",
       "  </thead>\n",
       "  <tbody>\n",
       "    <tr>\n",
       "      <th>Low (&lt;15 events)</th>\n",
       "      <td>1329</td>\n",
       "      <td>13.9</td>\n",
       "      <td>5</td>\n",
       "      <td>15</td>\n",
       "    </tr>\n",
       "    <tr>\n",
       "      <th>Medium (15-30 events)</th>\n",
       "      <td>7334</td>\n",
       "      <td>22.3</td>\n",
       "      <td>16</td>\n",
       "      <td>30</td>\n",
       "    </tr>\n",
       "    <tr>\n",
       "      <th>High (30+ events)</th>\n",
       "      <td>1337</td>\n",
       "      <td>34.8</td>\n",
       "      <td>31</td>\n",
       "      <td>51</td>\n",
       "    </tr>\n",
       "  </tbody>\n",
       "</table>\n",
       "</div>"
      ],
      "text/plain": [
       "                       count  mean  min  max\n",
       "engagement_level                            \n",
       "Low (<15 events)        1329  13.9    5   15\n",
       "Medium (15-30 events)   7334  22.3   16   30\n",
       "High (30+ events)       1337  34.8   31   51"
      ]
     },
     "metadata": {},
     "output_type": "display_data"
    }
   ],
   "source": [
    "# First, check the distribution of total_events to inform engagement tiers\n",
    "print(\"=\"*80)\n",
    "print(\"EVENT DISTRIBUTION ANALYSIS\")\n",
    "print(\"=\"*80)\n",
    "print(f\"Total events stats:\")\n",
    "print(joined_df['total_events'].describe())\n",
    "print(f\"\\nAverage events per user: {joined_df['total_events'].mean():.1f}\")\n",
    "print(f\"Median events per user: {joined_df['total_events'].median():.1f}\")\n",
    "\n",
    "# Create engagement tiers based on more granular ranges\n",
    "# Using <15 = Low, 15-30 = Medium, 30+ = High\n",
    "joined_df['engagement_level'] = pd.cut(\n",
    "    joined_df['total_events'],\n",
    "    bins=[-1, 15, 30, float('inf')],\n",
    "    labels=['Low (<15 events)', 'Medium (15-30 events)', 'High (30+ events)']\n",
    ")\n",
    "\n",
    "# Create active status label\n",
    "joined_df['active_status'] = joined_df['is_active'].map({1: 'Active', 0: 'Inactive'})\n",
    "\n",
    "# Check distribution\n",
    "print(\"\\n\" + \"=\"*80)\n",
    "print(\"ENGAGEMENT LEVEL DISTRIBUTION\")\n",
    "print(\"=\"*80)\n",
    "print(joined_df['engagement_level'].value_counts().sort_index())\n",
    "print(f\"\\nActive Status Distribution:\")\n",
    "print(joined_df['active_status'].value_counts())\n",
    "\n",
    "# Show average events per engagement level to validate ranges\n",
    "print(\"\\n\" + \"=\"*80)\n",
    "print(\"VALIDATION: Average events per engagement level\")\n",
    "print(\"=\"*80)\n",
    "engagement_validation = joined_df.groupby('engagement_level')['total_events'].agg(['count', 'mean', 'min', 'max']).round(1)\n",
    "display(engagement_validation)"
   ]
  },
  {
   "cell_type": "code",
   "execution_count": null,
   "id": "nh8rfihk1l",
   "metadata": {},
   "outputs": [
    {
     "name": "stdout",
     "output_type": "stream",
     "text": [
      "DEBUG: Checking columns before groupby...\n",
      "  portfolio_group exists: True\n",
      "  engagement_level exists: True\n",
      "  active_status exists: True\n",
      "  plan_type exists: True\n",
      "  portfolio_group null count: 0\n",
      "  portfolio_group unique values: ['1 unit', '10+ units', '6-10 units', '2-5 units']\n",
      "Categories (4, object): ['1 unit' < '2-5 units' < '6-10 units' < '10+ units']\n",
      "  engagement_level null count: 0\n",
      "  engagement_level unique values: ['Medium (15-30 events)', 'Low (<15 events)', 'High (30+ events)']\n",
      "Categories (3, object): ['Low (<15 events)' < 'Medium (15-30 events)' < 'High (30+ events)']\n",
      "  active_status null count: 0\n",
      "  active_status unique values: ['Active' 'Inactive']\n",
      "  Rows after dropping NaN: 10000 (from 10000)\n",
      "================================================================================\n",
      "FLOW DATA SUMMARY\n",
      "================================================================================\n",
      "Total flow paths: 62\n",
      "Total users: 10,000\n",
      "Total ARR: $30,692,996\n",
      "\n",
      "Top 10 paths by customer count:\n"
     ]
    },
    {
     "data": {
      "text/html": [
       "<div>\n",
       "<style scoped>\n",
       "    .dataframe tbody tr th:only-of-type {\n",
       "        vertical-align: middle;\n",
       "    }\n",
       "\n",
       "    .dataframe tbody tr th {\n",
       "        vertical-align: top;\n",
       "    }\n",
       "\n",
       "    .dataframe thead th {\n",
       "        text-align: right;\n",
       "    }\n",
       "</style>\n",
       "<table border=\"1\" class=\"dataframe\">\n",
       "  <thead>\n",
       "    <tr style=\"text-align: right;\">\n",
       "      <th></th>\n",
       "      <th>portfolio_group</th>\n",
       "      <th>plan_type</th>\n",
       "      <th>engagement_level</th>\n",
       "      <th>active_status</th>\n",
       "      <th>count</th>\n",
       "      <th>percentage</th>\n",
       "      <th>total_arr</th>\n",
       "    </tr>\n",
       "  </thead>\n",
       "  <tbody>\n",
       "    <tr>\n",
       "      <th>29</th>\n",
       "      <td>10+ units</td>\n",
       "      <td>starter</td>\n",
       "      <td>Medium (15-30 events)</td>\n",
       "      <td>Active</td>\n",
       "      <td>1370</td>\n",
       "      <td>13.70</td>\n",
       "      <td>587061.18</td>\n",
       "    </tr>\n",
       "    <tr>\n",
       "      <th>23</th>\n",
       "      <td>10+ units</td>\n",
       "      <td>pro</td>\n",
       "      <td>Medium (15-30 events)</td>\n",
       "      <td>Active</td>\n",
       "      <td>942</td>\n",
       "      <td>9.42</td>\n",
       "      <td>1976751.06</td>\n",
       "    </tr>\n",
       "    <tr>\n",
       "      <th>45</th>\n",
       "      <td>2-5 units</td>\n",
       "      <td>starter</td>\n",
       "      <td>Medium (15-30 events)</td>\n",
       "      <td>Active</td>\n",
       "      <td>793</td>\n",
       "      <td>7.93</td>\n",
       "      <td>293856.11</td>\n",
       "    </tr>\n",
       "    <tr>\n",
       "      <th>39</th>\n",
       "      <td>2-5 units</td>\n",
       "      <td>pro</td>\n",
       "      <td>Medium (15-30 events)</td>\n",
       "      <td>Active</td>\n",
       "      <td>732</td>\n",
       "      <td>7.32</td>\n",
       "      <td>1331559.50</td>\n",
       "    </tr>\n",
       "    <tr>\n",
       "      <th>30</th>\n",
       "      <td>10+ units</td>\n",
       "      <td>starter</td>\n",
       "      <td>Medium (15-30 events)</td>\n",
       "      <td>Inactive</td>\n",
       "      <td>728</td>\n",
       "      <td>7.28</td>\n",
       "      <td>314551.58</td>\n",
       "    </tr>\n",
       "    <tr>\n",
       "      <th>46</th>\n",
       "      <td>2-5 units</td>\n",
       "      <td>starter</td>\n",
       "      <td>Medium (15-30 events)</td>\n",
       "      <td>Inactive</td>\n",
       "      <td>409</td>\n",
       "      <td>4.09</td>\n",
       "      <td>150418.31</td>\n",
       "    </tr>\n",
       "    <tr>\n",
       "      <th>15</th>\n",
       "      <td>10+ units</td>\n",
       "      <td>premium</td>\n",
       "      <td>High (30+ events)</td>\n",
       "      <td>Active</td>\n",
       "      <td>397</td>\n",
       "      <td>3.97</td>\n",
       "      <td>6408801.53</td>\n",
       "    </tr>\n",
       "    <tr>\n",
       "      <th>43</th>\n",
       "      <td>2-5 units</td>\n",
       "      <td>starter</td>\n",
       "      <td>Low (&lt;15 events)</td>\n",
       "      <td>Active</td>\n",
       "      <td>353</td>\n",
       "      <td>3.53</td>\n",
       "      <td>130498.79</td>\n",
       "    </tr>\n",
       "    <tr>\n",
       "      <th>19</th>\n",
       "      <td>10+ units</td>\n",
       "      <td>pro</td>\n",
       "      <td>High (30+ events)</td>\n",
       "      <td>Active</td>\n",
       "      <td>296</td>\n",
       "      <td>2.96</td>\n",
       "      <td>640872.40</td>\n",
       "    </tr>\n",
       "    <tr>\n",
       "      <th>24</th>\n",
       "      <td>10+ units</td>\n",
       "      <td>pro</td>\n",
       "      <td>Medium (15-30 events)</td>\n",
       "      <td>Inactive</td>\n",
       "      <td>275</td>\n",
       "      <td>2.75</td>\n",
       "      <td>575630.39</td>\n",
       "    </tr>\n",
       "  </tbody>\n",
       "</table>\n",
       "</div>"
      ],
      "text/plain": [
       "   portfolio_group plan_type       engagement_level active_status  count  percentage   total_arr\n",
       "29       10+ units   starter  Medium (15-30 events)        Active   1370       13.70   587061.18\n",
       "23       10+ units       pro  Medium (15-30 events)        Active    942        9.42  1976751.06\n",
       "45       2-5 units   starter  Medium (15-30 events)        Active    793        7.93   293856.11\n",
       "39       2-5 units       pro  Medium (15-30 events)        Active    732        7.32  1331559.50\n",
       "30       10+ units   starter  Medium (15-30 events)      Inactive    728        7.28   314551.58\n",
       "46       2-5 units   starter  Medium (15-30 events)      Inactive    409        4.09   150418.31\n",
       "15       10+ units   premium      High (30+ events)        Active    397        3.97  6408801.53\n",
       "43       2-5 units   starter       Low (<15 events)        Active    353        3.53   130498.79\n",
       "19       10+ units       pro      High (30+ events)        Active    296        2.96   640872.40\n",
       "24       10+ units       pro  Medium (15-30 events)      Inactive    275        2.75   575630.39"
      ]
     },
     "metadata": {},
     "output_type": "display_data"
    }
   ],
   "source": [
    "# Build Sankey flow data\n",
    "# Flow: Portfolio Size → Plan Type → Engagement Level → Active Status\n",
    "\n",
    "# Ensure required columns exist before grouping (always recreate to ensure consistency)\n",
    "joined_df['portfolio_group'] = pd.cut(\n",
    "    joined_df['portfolio_size'],\n",
    "    bins=[0, 1, 5, 10, float('inf')],\n",
    "    labels=['1 unit', '2-5 units', '6-10 units', '10+ units'],\n",
    "    include_lowest=True\n",
    ")\n",
    "\n",
    "joined_df['engagement_level'] = pd.cut(\n",
    "    joined_df['total_events'],\n",
    "    bins=[-1, 15, 30, float('inf')],\n",
    "    labels=['Low (<15 events)', 'Medium (15-30 events)', 'High (30+ events)']\n",
    ")\n",
    "\n",
    "joined_df['active_status'] = joined_df['is_active'].map({True: 'Active', False: 'Inactive', 1: 'Active', 0: 'Inactive'})\n",
    "joined_df['active_status'] = joined_df['active_status'].fillna('Unknown')\n",
    "\n",
    "# Debug: Check column status\n",
    "print(\"DEBUG: Checking columns before groupby...\")\n",
    "print(f\"  portfolio_group exists: {'portfolio_group' in joined_df.columns}\")\n",
    "print(f\"  engagement_level exists: {'engagement_level' in joined_df.columns}\")\n",
    "print(f\"  active_status exists: {'active_status' in joined_df.columns}\")\n",
    "print(f\"  plan_type exists: {'plan_type' in joined_df.columns}\")\n",
    "\n",
    "if 'portfolio_group' in joined_df.columns:\n",
    "    print(f\"  portfolio_group null count: {joined_df['portfolio_group'].isnull().sum()}\")\n",
    "    print(f\"  portfolio_group unique values: {joined_df['portfolio_group'].unique()}\")\n",
    "    \n",
    "if 'engagement_level' in joined_df.columns:\n",
    "    print(f\"  engagement_level null count: {joined_df['engagement_level'].isnull().sum()}\")\n",
    "    print(f\"  engagement_level unique values: {joined_df['engagement_level'].unique()}\")\n",
    "    \n",
    "if 'active_status' in joined_df.columns:\n",
    "    print(f\"  active_status null count: {joined_df['active_status'].isnull().sum()}\")\n",
    "    print(f\"  active_status unique values: {joined_df['active_status'].unique()}\")\n",
    "\n",
    "# Filter out rows with NaN in grouping columns and convert categoricals to strings for groupby\n",
    "df_for_groupby = joined_df.dropna(subset=['portfolio_group', 'plan_type', 'engagement_level', 'active_status']).copy()\n",
    "\n",
    "# Convert categorical columns to strings to avoid groupby issues\n",
    "for col in ['portfolio_group', 'engagement_level', 'active_status']:\n",
    "    if col in df_for_groupby.columns:\n",
    "        df_for_groupby[col] = df_for_groupby[col].astype(str)\n",
    "\n",
    "print(f\"  Rows after dropping NaN: {len(df_for_groupby)} (from {len(joined_df)})\")\n",
    "\n",
    "# Create flow aggregations\n",
    "flow_data = df_for_groupby.groupby([\n",
    "    'portfolio_group', \n",
    "    'plan_type', \n",
    "    'engagement_level', \n",
    "    'active_status'\n",
    "], observed=True).agg({\n",
    "    'user_id': 'count',\n",
    "    'annual_revenue': 'sum'\n",
    "}).reset_index()\n",
    "\n",
    "flow_data.columns = ['portfolio_group', 'plan_type', 'engagement_level', 'active_status', 'count', 'total_arr']\n",
    "\n",
    "# Calculate percentages\n",
    "total_users = flow_data['count'].sum()\n",
    "# Calculate percentages safely\n",
    "if len(flow_data) > 0:\n",
    "    total_users = flow_data['count'].sum()\n",
    "    if total_users > 0:\n",
    "        flow_data['percentage'] = (flow_data['count'] / total_users * 100).round(2)\n",
    "    else:\n",
    "        flow_data['percentage'] = 0\n",
    "else:\n",
    "    flow_data['percentage'] = 0\n",
    "\n",
    "print(\"=\"*80)\n",
    "print(\"FLOW DATA SUMMARY\")\n",
    "print(\"=\"*80)\n",
    "print(f\"Total flow paths: {len(flow_data)}\")\n",
    "print(f\"Total users: {total_users:,}\")\n",
    "print(f\"Total ARR: ${flow_data['total_arr'].sum():,.0f}\")\n",
    "print(f\"\\nTop 10 paths by customer count:\")\n",
    "display(flow_data.nlargest(10, 'count')[['portfolio_group', 'plan_type', 'engagement_level', 'active_status', 'count', 'percentage', 'total_arr']])"
   ]
  },
  {
   "cell_type": "code",
   "execution_count": null,
   "id": "q89zugtwiz",
   "metadata": {},
   "outputs": [
    {
     "data": {
      "application/vnd.plotly.v1+json": {
       "config": {
        "plotlyServerURL": "https://plot.ly"
       },
       "data": [
        {
         "link": {
          "label": [
           "144 users, $1,953,914 ARR",
           "299 users, $547,381 ARR",
           "470 users, $169,239 ARR",
           "724 users, $11,694,116 ARR",
           "1629 users, $3,453,301 ARR",
           "2496 users, $1,068,816 ARR",
           "509 users, $6,663,475 ARR",
           "1080 users, $1,970,791 ARR",
           "1766 users, $649,103 ARR",
           "130 users, $1,815,272 ARR",
           "278 users, $526,271 ARR",
           "475 users, $181,316 ARR",
           "552 users, $11,532,931 ARR",
           "345 users, $5,132,241 ARR",
           "107 users, $446,460 ARR",
           "503 users, $5,015,144 ARR",
           "759 users, $1,507,683 ARR",
           "2527 users, $4,990,061 ARR",
           "1855 users, $735,960 ARR",
           "3352 users, $1,332,515 ARR",
           "283 users, $6,078,432 ARR",
           "269 users, $5,454,500 ARR",
           "314 users, $2,739,597 ARR",
           "504 users, $291,536 ARR",
           "2141 users, $4,344,751 ARR",
           "491 users, $977,689 ARR",
           "823 users, $516,093 ARR",
           "4672 users, $5,275,254 ARR",
           "249 users, $2,445,159 ARR",
           "2 users, $22,329 ARR",
           "252 users, $2,547,656 ARR",
           "285 users, $3,065,953 ARR, 0 tickets",
           "187 users, $1,896,563 ARR, 187 tickets",
           "8 users, $108,643 ARR, 97 tickets",
           "475 users, $3,871,770 ARR, 1412 tickets",
           "382 users, $3,297,949 ARR, 2454 tickets",
           "972 users, $595,361 ARR, 0 tickets",
           "286 users, $161,784 ARR, 286 tickets",
           "71 users, $72,813 ARR, 160 tickets",
           "3638 users, $9,078,365 ARR, 0 tickets",
           "1764 users, $3,962,506 ARR, 1764 tickets",
           "1636 users, $3,878,177 ARR, 4358 tickets",
           "296 users, $703,112 ARR, 1623 tickets",
           "3428 users, $9,712,692 ARR, 0 tickets",
           "1467 users, $3,026,987 ARR, 0 tickets",
           "1583 users, $4,568,336 ARR, 1583 tickets",
           "654 users, $1,452,517 ARR, 654 tickets",
           "5 users, $80,959 ARR, 61 tickets",
           "3 users, $27,683 ARR, 36 tickets",
           "1525 users, $5,858,310 ARR, 4153 tickets",
           "657 users, $1,964,451 ARR, 1777 tickets",
           "500 users, $3,096,815 ARR, 3035 tickets",
           "178 users, $904,246 ARR, 1042 tickets"
          ],
          "source": [
           0,
           0,
           0,
           1,
           1,
           1,
           2,
           2,
           2,
           3,
           3,
           3,
           4,
           4,
           4,
           4,
           5,
           5,
           6,
           6,
           7,
           7,
           8,
           8,
           8,
           9,
           9,
           9,
           10,
           10,
           10,
           11,
           11,
           11,
           11,
           11,
           12,
           12,
           12,
           13,
           13,
           13,
           13,
           14,
           14,
           15,
           15,
           16,
           16,
           17,
           17,
           18,
           18
          ],
          "target": [
           4,
           5,
           6,
           4,
           5,
           6,
           4,
           5,
           6,
           4,
           5,
           6,
           7,
           8,
           9,
           10,
           8,
           9,
           8,
           9,
           11,
           13,
           11,
           12,
           13,
           11,
           12,
           13,
           11,
           12,
           13,
           14,
           15,
           16,
           17,
           18,
           14,
           15,
           17,
           14,
           15,
           17,
           18,
           19,
           20,
           19,
           20,
           19,
           20,
           19,
           20,
           19,
           20
          ],
          "value": [
           144,
           299,
           470,
           724,
           1629,
           2496,
           509,
           1080,
           1766,
           130,
           278,
           475,
           552,
           345,
           107,
           503,
           759,
           2527,
           1855,
           3352,
           283,
           269,
           314,
           504,
           2141,
           491,
           823,
           4672,
           249,
           2,
           252,
           285,
           187,
           8,
           475,
           382,
           972,
           286,
           71,
           3638,
           1764,
           1636,
           296,
           3428,
           1467,
           1583,
           654,
           5,
           3,
           1525,
           657,
           500,
           178
          ]
         },
         "node": {
          "color": [
           "lightblue",
           "lightblue",
           "lightblue",
           "lightblue",
           "lightgreen",
           "lightgreen",
           "lightgreen",
           "gold",
           "gold",
           "gold",
           "gold",
           "lightyellow",
           "lightyellow",
           "lightyellow",
           "orange",
           "orange",
           "orange",
           "orange",
           "orange",
           "lightseagreen",
           "lightcoral"
          ],
          "label": [
           "1 unit",
           "10+ units",
           "2-5 units",
           "6-10 units",
           "premium",
           "pro",
           "starter",
           "High ARR ($15k+)",
           "Inactive (No ARR)",
           "Low ARR (<$5k)",
           "Mid ARR ($5k-$15k)",
           "High (30+ events)",
           "Low (<15 events)",
           "Medium (15-30 events)",
           "0 tickets",
           "1 ticket",
           "11+ tickets",
           "2-4 tickets",
           "5-10 tickets",
           "Active",
           "Inactive"
          ],
          "line": {
           "color": "black",
           "width": 0.5
          },
          "pad": 15,
          "thickness": 20
         },
         "type": "sankey"
        }
       ],
       "layout": {
        "font": {
         "size": 10
        },
        "height": 900,
        "template": {
         "data": {
          "bar": [
           {
            "error_x": {
             "color": "#2a3f5f"
            },
            "error_y": {
             "color": "#2a3f5f"
            },
            "marker": {
             "line": {
              "color": "#E5ECF6",
              "width": 0.5
             },
             "pattern": {
              "fillmode": "overlay",
              "size": 10,
              "solidity": 0.2
             }
            },
            "type": "bar"
           }
          ],
          "barpolar": [
           {
            "marker": {
             "line": {
              "color": "#E5ECF6",
              "width": 0.5
             },
             "pattern": {
              "fillmode": "overlay",
              "size": 10,
              "solidity": 0.2
             }
            },
            "type": "barpolar"
           }
          ],
          "carpet": [
           {
            "aaxis": {
             "endlinecolor": "#2a3f5f",
             "gridcolor": "white",
             "linecolor": "white",
             "minorgridcolor": "white",
             "startlinecolor": "#2a3f5f"
            },
            "baxis": {
             "endlinecolor": "#2a3f5f",
             "gridcolor": "white",
             "linecolor": "white",
             "minorgridcolor": "white",
             "startlinecolor": "#2a3f5f"
            },
            "type": "carpet"
           }
          ],
          "choropleth": [
           {
            "colorbar": {
             "outlinewidth": 0,
             "ticks": ""
            },
            "type": "choropleth"
           }
          ],
          "contour": [
           {
            "colorbar": {
             "outlinewidth": 0,
             "ticks": ""
            },
            "colorscale": [
             [
              0,
              "#0d0887"
             ],
             [
              0.1111111111111111,
              "#46039f"
             ],
             [
              0.2222222222222222,
              "#7201a8"
             ],
             [
              0.3333333333333333,
              "#9c179e"
             ],
             [
              0.4444444444444444,
              "#bd3786"
             ],
             [
              0.5555555555555556,
              "#d8576b"
             ],
             [
              0.6666666666666666,
              "#ed7953"
             ],
             [
              0.7777777777777778,
              "#fb9f3a"
             ],
             [
              0.8888888888888888,
              "#fdca26"
             ],
             [
              1,
              "#f0f921"
             ]
            ],
            "type": "contour"
           }
          ],
          "contourcarpet": [
           {
            "colorbar": {
             "outlinewidth": 0,
             "ticks": ""
            },
            "type": "contourcarpet"
           }
          ],
          "heatmap": [
           {
            "colorbar": {
             "outlinewidth": 0,
             "ticks": ""
            },
            "colorscale": [
             [
              0,
              "#0d0887"
             ],
             [
              0.1111111111111111,
              "#46039f"
             ],
             [
              0.2222222222222222,
              "#7201a8"
             ],
             [
              0.3333333333333333,
              "#9c179e"
             ],
             [
              0.4444444444444444,
              "#bd3786"
             ],
             [
              0.5555555555555556,
              "#d8576b"
             ],
             [
              0.6666666666666666,
              "#ed7953"
             ],
             [
              0.7777777777777778,
              "#fb9f3a"
             ],
             [
              0.8888888888888888,
              "#fdca26"
             ],
             [
              1,
              "#f0f921"
             ]
            ],
            "type": "heatmap"
           }
          ],
          "heatmapgl": [
           {
            "colorbar": {
             "outlinewidth": 0,
             "ticks": ""
            },
            "colorscale": [
             [
              0,
              "#0d0887"
             ],
             [
              0.1111111111111111,
              "#46039f"
             ],
             [
              0.2222222222222222,
              "#7201a8"
             ],
             [
              0.3333333333333333,
              "#9c179e"
             ],
             [
              0.4444444444444444,
              "#bd3786"
             ],
             [
              0.5555555555555556,
              "#d8576b"
             ],
             [
              0.6666666666666666,
              "#ed7953"
             ],
             [
              0.7777777777777778,
              "#fb9f3a"
             ],
             [
              0.8888888888888888,
              "#fdca26"
             ],
             [
              1,
              "#f0f921"
             ]
            ],
            "type": "heatmapgl"
           }
          ],
          "histogram": [
           {
            "marker": {
             "pattern": {
              "fillmode": "overlay",
              "size": 10,
              "solidity": 0.2
             }
            },
            "type": "histogram"
           }
          ],
          "histogram2d": [
           {
            "colorbar": {
             "outlinewidth": 0,
             "ticks": ""
            },
            "colorscale": [
             [
              0,
              "#0d0887"
             ],
             [
              0.1111111111111111,
              "#46039f"
             ],
             [
              0.2222222222222222,
              "#7201a8"
             ],
             [
              0.3333333333333333,
              "#9c179e"
             ],
             [
              0.4444444444444444,
              "#bd3786"
             ],
             [
              0.5555555555555556,
              "#d8576b"
             ],
             [
              0.6666666666666666,
              "#ed7953"
             ],
             [
              0.7777777777777778,
              "#fb9f3a"
             ],
             [
              0.8888888888888888,
              "#fdca26"
             ],
             [
              1,
              "#f0f921"
             ]
            ],
            "type": "histogram2d"
           }
          ],
          "histogram2dcontour": [
           {
            "colorbar": {
             "outlinewidth": 0,
             "ticks": ""
            },
            "colorscale": [
             [
              0,
              "#0d0887"
             ],
             [
              0.1111111111111111,
              "#46039f"
             ],
             [
              0.2222222222222222,
              "#7201a8"
             ],
             [
              0.3333333333333333,
              "#9c179e"
             ],
             [
              0.4444444444444444,
              "#bd3786"
             ],
             [
              0.5555555555555556,
              "#d8576b"
             ],
             [
              0.6666666666666666,
              "#ed7953"
             ],
             [
              0.7777777777777778,
              "#fb9f3a"
             ],
             [
              0.8888888888888888,
              "#fdca26"
             ],
             [
              1,
              "#f0f921"
             ]
            ],
            "type": "histogram2dcontour"
           }
          ],
          "mesh3d": [
           {
            "colorbar": {
             "outlinewidth": 0,
             "ticks": ""
            },
            "type": "mesh3d"
           }
          ],
          "parcoords": [
           {
            "line": {
             "colorbar": {
              "outlinewidth": 0,
              "ticks": ""
             }
            },
            "type": "parcoords"
           }
          ],
          "pie": [
           {
            "automargin": true,
            "type": "pie"
           }
          ],
          "scatter": [
           {
            "fillpattern": {
             "fillmode": "overlay",
             "size": 10,
             "solidity": 0.2
            },
            "type": "scatter"
           }
          ],
          "scatter3d": [
           {
            "line": {
             "colorbar": {
              "outlinewidth": 0,
              "ticks": ""
             }
            },
            "marker": {
             "colorbar": {
              "outlinewidth": 0,
              "ticks": ""
             }
            },
            "type": "scatter3d"
           }
          ],
          "scattercarpet": [
           {
            "marker": {
             "colorbar": {
              "outlinewidth": 0,
              "ticks": ""
             }
            },
            "type": "scattercarpet"
           }
          ],
          "scattergeo": [
           {
            "marker": {
             "colorbar": {
              "outlinewidth": 0,
              "ticks": ""
             }
            },
            "type": "scattergeo"
           }
          ],
          "scattergl": [
           {
            "marker": {
             "colorbar": {
              "outlinewidth": 0,
              "ticks": ""
             }
            },
            "type": "scattergl"
           }
          ],
          "scattermapbox": [
           {
            "marker": {
             "colorbar": {
              "outlinewidth": 0,
              "ticks": ""
             }
            },
            "type": "scattermapbox"
           }
          ],
          "scatterpolar": [
           {
            "marker": {
             "colorbar": {
              "outlinewidth": 0,
              "ticks": ""
             }
            },
            "type": "scatterpolar"
           }
          ],
          "scatterpolargl": [
           {
            "marker": {
             "colorbar": {
              "outlinewidth": 0,
              "ticks": ""
             }
            },
            "type": "scatterpolargl"
           }
          ],
          "scatterternary": [
           {
            "marker": {
             "colorbar": {
              "outlinewidth": 0,
              "ticks": ""
             }
            },
            "type": "scatterternary"
           }
          ],
          "surface": [
           {
            "colorbar": {
             "outlinewidth": 0,
             "ticks": ""
            },
            "colorscale": [
             [
              0,
              "#0d0887"
             ],
             [
              0.1111111111111111,
              "#46039f"
             ],
             [
              0.2222222222222222,
              "#7201a8"
             ],
             [
              0.3333333333333333,
              "#9c179e"
             ],
             [
              0.4444444444444444,
              "#bd3786"
             ],
             [
              0.5555555555555556,
              "#d8576b"
             ],
             [
              0.6666666666666666,
              "#ed7953"
             ],
             [
              0.7777777777777778,
              "#fb9f3a"
             ],
             [
              0.8888888888888888,
              "#fdca26"
             ],
             [
              1,
              "#f0f921"
             ]
            ],
            "type": "surface"
           }
          ],
          "table": [
           {
            "cells": {
             "fill": {
              "color": "#EBF0F8"
             },
             "line": {
              "color": "white"
             }
            },
            "header": {
             "fill": {
              "color": "#C8D4E3"
             },
             "line": {
              "color": "white"
             }
            },
            "type": "table"
           }
          ]
         },
         "layout": {
          "annotationdefaults": {
           "arrowcolor": "#2a3f5f",
           "arrowhead": 0,
           "arrowwidth": 1
          },
          "autotypenumbers": "strict",
          "coloraxis": {
           "colorbar": {
            "outlinewidth": 0,
            "ticks": ""
           }
          },
          "colorscale": {
           "diverging": [
            [
             0,
             "#8e0152"
            ],
            [
             0.1,
             "#c51b7d"
            ],
            [
             0.2,
             "#de77ae"
            ],
            [
             0.3,
             "#f1b6da"
            ],
            [
             0.4,
             "#fde0ef"
            ],
            [
             0.5,
             "#f7f7f7"
            ],
            [
             0.6,
             "#e6f5d0"
            ],
            [
             0.7,
             "#b8e186"
            ],
            [
             0.8,
             "#7fbc41"
            ],
            [
             0.9,
             "#4d9221"
            ],
            [
             1,
             "#276419"
            ]
           ],
           "sequential": [
            [
             0,
             "#0d0887"
            ],
            [
             0.1111111111111111,
             "#46039f"
            ],
            [
             0.2222222222222222,
             "#7201a8"
            ],
            [
             0.3333333333333333,
             "#9c179e"
            ],
            [
             0.4444444444444444,
             "#bd3786"
            ],
            [
             0.5555555555555556,
             "#d8576b"
            ],
            [
             0.6666666666666666,
             "#ed7953"
            ],
            [
             0.7777777777777778,
             "#fb9f3a"
            ],
            [
             0.8888888888888888,
             "#fdca26"
            ],
            [
             1,
             "#f0f921"
            ]
           ],
           "sequentialminus": [
            [
             0,
             "#0d0887"
            ],
            [
             0.1111111111111111,
             "#46039f"
            ],
            [
             0.2222222222222222,
             "#7201a8"
            ],
            [
             0.3333333333333333,
             "#9c179e"
            ],
            [
             0.4444444444444444,
             "#bd3786"
            ],
            [
             0.5555555555555556,
             "#d8576b"
            ],
            [
             0.6666666666666666,
             "#ed7953"
            ],
            [
             0.7777777777777778,
             "#fb9f3a"
            ],
            [
             0.8888888888888888,
             "#fdca26"
            ],
            [
             1,
             "#f0f921"
            ]
           ]
          },
          "colorway": [
           "#636efa",
           "#EF553B",
           "#00cc96",
           "#ab63fa",
           "#FFA15A",
           "#19d3f3",
           "#FF6692",
           "#B6E880",
           "#FF97FF",
           "#FECB52"
          ],
          "font": {
           "color": "#2a3f5f"
          },
          "geo": {
           "bgcolor": "white",
           "lakecolor": "white",
           "landcolor": "#E5ECF6",
           "showlakes": true,
           "showland": true,
           "subunitcolor": "white"
          },
          "hoverlabel": {
           "align": "left"
          },
          "hovermode": "closest",
          "mapbox": {
           "style": "light"
          },
          "paper_bgcolor": "white",
          "plot_bgcolor": "#E5ECF6",
          "polar": {
           "angularaxis": {
            "gridcolor": "white",
            "linecolor": "white",
            "ticks": ""
           },
           "bgcolor": "#E5ECF6",
           "radialaxis": {
            "gridcolor": "white",
            "linecolor": "white",
            "ticks": ""
           }
          },
          "scene": {
           "xaxis": {
            "backgroundcolor": "#E5ECF6",
            "gridcolor": "white",
            "gridwidth": 2,
            "linecolor": "white",
            "showbackground": true,
            "ticks": "",
            "zerolinecolor": "white"
           },
           "yaxis": {
            "backgroundcolor": "#E5ECF6",
            "gridcolor": "white",
            "gridwidth": 2,
            "linecolor": "white",
            "showbackground": true,
            "ticks": "",
            "zerolinecolor": "white"
           },
           "zaxis": {
            "backgroundcolor": "#E5ECF6",
            "gridcolor": "white",
            "gridwidth": 2,
            "linecolor": "white",
            "showbackground": true,
            "ticks": "",
            "zerolinecolor": "white"
           }
          },
          "shapedefaults": {
           "line": {
            "color": "#2a3f5f"
           }
          },
          "ternary": {
           "aaxis": {
            "gridcolor": "white",
            "linecolor": "white",
            "ticks": ""
           },
           "baxis": {
            "gridcolor": "white",
            "linecolor": "white",
            "ticks": ""
           },
           "bgcolor": "#E5ECF6",
           "caxis": {
            "gridcolor": "white",
            "linecolor": "white",
            "ticks": ""
           }
          },
          "title": {
           "x": 0.05
          },
          "xaxis": {
           "automargin": true,
           "gridcolor": "white",
           "linecolor": "white",
           "ticks": "",
           "title": {
            "standoff": 15
           },
           "zerolinecolor": "white",
           "zerolinewidth": 2
          },
          "yaxis": {
           "automargin": true,
           "gridcolor": "white",
           "linecolor": "white",
           "ticks": "",
           "title": {
            "standoff": 15
           },
           "zerolinecolor": "white",
           "zerolinewidth": 2
          }
         }
        },
        "title": {
         "text": "User Flow: Portfolio Size → Plan Type → ARR Group → Engagement (Events) → Ticket Range → Active Status"
        }
       }
      }
     },
     "metadata": {},
     "output_type": "display_data"
    },
    {
     "name": "stdout",
     "output_type": "stream",
     "text": [
      "\n",
      "================================================================================\n",
      "COMBINED SANKEY DIAGRAM LEGEND\n",
      "================================================================================\n",
      "Flow shows how customers progress through:\n",
      "  1. Portfolio Size (blue)\n",
      "  2. Plan Type (green)\n",
      "  3. ARR Group (gold)\n",
      "  4. Engagement Level / Events (yellow)\n",
      "  5. Ticket Range (orange)\n",
      "  6. Active Status (teal=Active, coral=Inactive)\n",
      "\n",
      "Hover over flows to see customer count, total ARR, and ticket counts\n"
     ]
    }
   ],
   "source": [
    "# Create Combined Sankey diagram\n",
    "# Flow: Size → Plan → Events → Tickets → Active Status → ARR Group\n",
    "\n",
    "# Ensure required columns exist\n",
    "if 'portfolio_group' not in joined_df.columns:\n",
    "    joined_df['portfolio_group'] = pd.cut(\n",
    "        joined_df['portfolio_size'],\n",
    "        bins=[0, 1, 5, 10, float('inf')],\n",
    "        labels=['1 unit', '2-5 units', '6-10 units', '10+ units'],\n",
    "        include_lowest=True\n",
    "    )\n",
    "\n",
    "if 'engagement_level' not in joined_df.columns:\n",
    "    joined_df['engagement_level'] = pd.cut(\n",
    "        joined_df['total_events'],\n",
    "        bins=[-1, 15, 30, float('inf')],\n",
    "        labels=['Low (<15 events)', 'Medium (15-30 events)', 'High (30+ events)']\n",
    "    )\n",
    "\n",
    "if 'active_status' not in joined_df.columns:\n",
    "    joined_df['active_status'] = joined_df['is_active'].map({True: 'Active', False: 'Inactive', 1: 'Active', 0: 'Inactive'})\n",
    "    joined_df['active_status'] = joined_df['active_status'].fillna('Unknown')\n",
    "\n",
    "# Ensure arr_group exists\n",
    "if 'arr_group' not in joined_df.columns:\n",
    "    joined_df['arr_group'] = pd.cut(\n",
    "        joined_df['annual_revenue'],\n",
    "        bins=[0, 5000, 15000, float('inf')],\n",
    "        labels=['Low ARR (<$5k)', 'Mid ARR ($5k-$15k)', 'High ARR ($15k+)']\n",
    "    )\n",
    "\n",
    "# Create arr_group with inactive handling\n",
    "df_with_arr = joined_df.copy()\n",
    "df_with_arr['arr_group'] = df_with_arr['arr_group'].astype(str)\n",
    "df_with_arr.loc[df_with_arr['is_active'] == False, 'arr_group'] = 'Inactive (No ARR)'\n",
    "df_with_arr.loc[df_with_arr['is_active'] == 0, 'arr_group'] = 'Inactive (No ARR)'\n",
    "\n",
    "# Create ticket range groups\n",
    "joined_df['ticket_range'] = pd.cut(\n",
    "    joined_df['support_tickets_last_90d'],\n",
    "    bins=[-1, 0, 1, 4, 10, float('inf')],\n",
    "    labels=['0 tickets', '1 ticket', '2-4 tickets', '5-10 tickets', '11+ tickets'],\n",
    "    include_lowest=True\n",
    ")\n",
    "\n",
    "# Prepare data - convert categoricals to strings and drop rows with missing values\n",
    "df_combined = joined_df.dropna(subset=['portfolio_group', 'plan_type', 'arr_group', 'engagement_level', 'ticket_range', 'active_status']).copy()\n",
    "for col in ['portfolio_group', 'plan_type', 'engagement_level', 'ticket_range', 'active_status']:\n",
    "    df_combined[col] = df_combined[col].astype(str)\n",
    "df_combined['arr_group'] = df_with_arr.loc[df_combined.index, 'arr_group'].astype(str)\n",
    "\n",
    "# Build nodes in order: Size → Plan → Events → Tickets → Active Status → ARR Group\n",
    "node_labels = []\n",
    "\n",
    "# Level 1: Portfolio Groups (Size)\n",
    "portfolio_nodes = sorted([str(x) for x in df_combined['portfolio_group'].unique()])\n",
    "node_labels.extend(portfolio_nodes)\n",
    "\n",
    "# Level 2: Plan Types\n",
    "plan_nodes = sorted([str(x) for x in df_combined['plan_type'].unique()])\n",
    "node_labels.extend(plan_nodes)\n",
    "\n",
    "# Level 3: Engagement Levels (Events)\n",
    "engagement_nodes = sorted([str(x) for x in df_combined['engagement_level'].unique()])\n",
    "node_labels.extend(engagement_nodes)\n",
    "\n",
    "# Level 4: Ticket Ranges\n",
    "ticket_range_nodes = sorted([str(x) for x in df_combined['ticket_range'].unique()])\n",
    "node_labels.extend(ticket_range_nodes)\n",
    "\n",
    "# Level 5: Active Status\n",
    "status_nodes = sorted([str(x) for x in df_combined['active_status'].unique()])\n",
    "node_labels.extend(status_nodes)\n",
    "\n",
    "# Level 6: ARR Groups\n",
    "arr_nodes = sorted([str(x) for x in df_combined['arr_group'].unique()])\n",
    "node_labels.extend(arr_nodes)\n",
    "\n",
    "# Create node index mapping (removes duplicates automatically since dict keys are unique)\n",
    "node_dict = {str(label): idx for idx, label in enumerate(node_labels)}\n",
    "\n",
    "# Build links\n",
    "sources = []\n",
    "targets = []\n",
    "values = []\n",
    "link_labels = []\n",
    "\n",
    "# Flow 1: Portfolio Group (Size) → Plan Type\n",
    "flow1 = df_combined.groupby(['portfolio_group', 'plan_type'], observed=True).agg({\n",
    "    'user_id': 'count',\n",
    "    'annual_revenue': 'sum'\n",
    "}).reset_index()\n",
    "\n",
    "for _, row in flow1.iterrows():\n",
    "    sources.append(node_dict[str(row['portfolio_group'])])\n",
    "    targets.append(node_dict[str(row['plan_type'])])\n",
    "    values.append(row['user_id'])\n",
    "    link_labels.append(f\"{row['user_id']} users, ${row['annual_revenue']:,.0f} ARR\")\n",
    "\n",
    "# Flow 2: Plan Type → Engagement Level (Events)\n",
    "flow2 = df_combined.groupby(['plan_type', 'engagement_level'], observed=True).agg({\n",
    "    'user_id': 'count',\n",
    "    'annual_revenue': 'sum'\n",
    "}).reset_index()\n",
    "\n",
    "for _, row in flow2.iterrows():\n",
    "    sources.append(node_dict[str(row['plan_type'])])\n",
    "    targets.append(node_dict[str(row['engagement_level'])])\n",
    "    values.append(row['user_id'])\n",
    "    link_labels.append(f\"{row['user_id']} users, ${row['annual_revenue']:,.0f} ARR\")\n",
    "\n",
    "# Flow 3: Engagement Level → Ticket Range\n",
    "flow3 = df_combined.groupby(['engagement_level', 'ticket_range'], observed=True).agg({\n",
    "    'user_id': 'count',\n",
    "    'annual_revenue': 'sum',\n",
    "    'support_tickets_last_90d': 'sum'\n",
    "}).reset_index()\n",
    "\n",
    "for _, row in flow3.iterrows():\n",
    "    sources.append(node_dict[str(row['engagement_level'])])\n",
    "    targets.append(node_dict[str(row['ticket_range'])])\n",
    "    values.append(row['user_id'])\n",
    "    link_labels.append(f\"{row['user_id']} users, ${row['annual_revenue']:,.0f} ARR, {row['support_tickets_last_90d']:.0f} tickets\")\n",
    "\n",
    "# Flow 4: Ticket Range → Active Status\n",
    "flow4 = df_combined.groupby(['ticket_range', 'active_status'], observed=True).agg({\n",
    "    'user_id': 'count',\n",
    "    'annual_revenue': 'sum',\n",
    "    'support_tickets_last_90d': 'sum'\n",
    "}).reset_index()\n",
    "\n",
    "for _, row in flow4.iterrows():\n",
    "    sources.append(node_dict[str(row['ticket_range'])])\n",
    "    targets.append(node_dict[str(row['active_status'])])\n",
    "    values.append(row['user_id'])\n",
    "    link_labels.append(f\"{row['user_id']} users, ${row['annual_revenue']:,.0f} ARR, {row['support_tickets_last_90d']:.0f} tickets\")\n",
    "\n",
    "# Flow 5: Active Status → ARR Group\n",
    "flow5 = df_combined.groupby(['active_status', 'arr_group'], observed=True).agg({\n",
    "    'user_id': 'count',\n",
    "    'annual_revenue': 'sum'\n",
    "}).reset_index()\n",
    "\n",
    "for _, row in flow5.iterrows():\n",
    "    sources.append(node_dict[str(row['active_status'])])\n",
    "    targets.append(node_dict[str(row['arr_group'])])\n",
    "    values.append(row['user_id'])\n",
    "    link_labels.append(f\"{row['user_id']} users, ${row['annual_revenue']:,.0f} ARR\")\n",
    "\n",
    "# Create Sankey diagram\n",
    "fig = go.Figure(data=[go.Sankey(\n",
    "    node=dict(\n",
    "        pad=15,\n",
    "        thickness=20,\n",
    "        line=dict(color=\"black\", width=0.5),\n",
    "        label=node_labels,\n",
    "        color=['lightblue' if 'unit' in str(n) else \n",
    "               'lightgreen' if str(n) in ['starter', 'pro', 'enterprise', 'premium'] else\n",
    "               'gold' if 'ARR' in str(n) else\n",
    "               'lightyellow' if 'events' in str(n).lower() or '<15' in str(n) or '15-30' in str(n) or '30+' in str(n) else\n",
    "               'orange' if 'ticket' in str(n).lower() else\n",
    "               'lightcoral' if str(n) == 'Inactive' else\n",
    "               'lightseagreen' if str(n) == 'Active' else\n",
    "               'salmon'\n",
    "               for n in node_labels]\n",
    "    ),\n",
    "    link=dict(\n",
    "        source=sources,\n",
    "        target=targets,\n",
    "        value=values,\n",
    "        label=link_labels\n",
    "    )\n",
    ")])\n",
    "\n",
    "fig.update_layout(\n",
    "    title=\"User Flow: Portfolio Size → Plan Type → Engagement (Events) → Ticket Range → Active Status → ARR Group\",\n",
    "    font=dict(size=10),\n",
    "    height=900\n",
    ")\n",
    "\n",
    "fig.show()\n",
    "\n",
    "print(\"\\n\" + \"=\"*80)\n",
    "print(\"COMBINED SANKEY DIAGRAM LEGEND\")\n",
    "print(\"=\"*80)\n",
    "print(\"Flow shows how customers progress through:\")\n",
    "print(\"  1. Portfolio Size (blue)\")\n",
    "print(\"  2. Plan Type (green)\")\n",
    "print(\"  3. Engagement Level / Events (yellow)\")\n",
    "print(\"  4. Ticket Range (orange)\")\n",
    "print(\"  5. Active Status (teal=Active, coral=Inactive)\")\n",
    "print(\"  6. ARR Group (gold)\")\n",
    "print(\"\\nHover over flows to see customer count, total ARR, and ticket counts\")"
   ]
  },
  {
   "cell_type": "code",
   "execution_count": null,
   "id": "c39079f4",
   "metadata": {},
   "outputs": [
    {
     "data": {
      "application/vnd.plotly.v1+json": {
       "config": {
        "plotlyServerURL": "https://plot.ly"
       },
       "data": [
        {
         "link": {
          "color": [
           "rgba(255, 100, 100, 0.2)",
           "rgba(255, 100, 100, 0.23432767324460763)",
           "rgba(255, 100, 100, 0.21780633318035797)",
           "rgba(255, 100, 100, 0.45920146856356125)",
           "rgba(255, 100, 100, 0.6504818724185406)",
           "rgba(255, 100, 100, 0.2)",
           "rgba(255, 100, 100, 0.2525011473152823)",
           "rgba(255, 100, 100, 0.22937127122533274)",
           "rgba(255, 100, 100, 0.2)",
           "rgba(255, 100, 100, 0.5238182652592933)",
           "rgba(255, 100, 100, 0.8)",
           "rgba(255, 100, 100, 0.4979348324919688)",
           "rgba(255, 100, 100, 0.2)",
           "rgba(255, 100, 100, 0.2)",
           "rgba(255, 100, 100, 0.4905920146856356)",
           "rgba(255, 100, 100, 0.32005507113354753)",
           "rgba(255, 100, 100, 0.2111977971546581)",
           "rgba(255, 100, 100, 0.20660853602569987)",
           "rgba(255, 100, 100, 0.8)",
           "rgba(255, 100, 100, 0.5262046810463515)",
           "rgba(255, 100, 100, 0.7571363010555301)",
           "rgba(255, 100, 100, 0.39128040385497936)"
          ],
          "label": [
           "0 tickets, 285 users, $3,065,953 ARR",
           "187 tickets, 187 users, $1,896,563 ARR",
           "97 tickets, 8 users, $108,643 ARR",
           "1412 tickets, 475 users, $3,871,770 ARR",
           "2454 tickets, 382 users, $3,297,949 ARR",
           "0 tickets, 972 users, $595,361 ARR",
           "286 tickets, 286 users, $161,784 ARR",
           "160 tickets, 71 users, $72,813 ARR",
           "0 tickets, 3638 users, $9,078,365 ARR",
           "1764 tickets, 1764 users, $3,962,506 ARR",
           "4358 tickets, 1636 users, $3,878,177 ARR",
           "1623 tickets, 296 users, $703,112 ARR",
           "0 tickets, 3428 users, $9,712,692 ARR",
           "0 tickets, 1467 users, $3,026,987 ARR",
           "1583 tickets, 1583 users, $4,568,336 ARR",
           "654 tickets, 654 users, $1,452,517 ARR",
           "61 tickets, 5 users, $80,959 ARR",
           "36 tickets, 3 users, $27,683 ARR",
           "4153 tickets, 1525 users, $5,858,310 ARR",
           "1777 tickets, 657 users, $1,964,451 ARR",
           "3035 tickets, 500 users, $3,096,815 ARR",
           "1042 tickets, 178 users, $904,246 ARR"
          ],
          "source": [
           0,
           0,
           0,
           0,
           0,
           1,
           1,
           1,
           2,
           2,
           2,
           2,
           3,
           3,
           4,
           4,
           5,
           5,
           6,
           6,
           7,
           7
          ],
          "target": [
           3,
           4,
           5,
           6,
           7,
           3,
           4,
           6,
           3,
           4,
           6,
           7,
           8,
           9,
           8,
           9,
           8,
           9,
           8,
           9,
           8,
           9
          ],
          "value": [
           0,
           187,
           97,
           1412,
           2454,
           0,
           286,
           160,
           0,
           1764,
           4358,
           1623,
           0,
           0,
           1583,
           654,
           61,
           36,
           4153,
           1777,
           3035,
           1042
          ]
         },
         "node": {
          "color": [
           "lightyellow",
           "lightyellow",
           "lightyellow",
           "orange",
           "orange",
           "orange",
           "orange",
           "orange",
           "lightseagreen",
           "lightcoral"
          ],
          "label": [
           "High (30+ events)",
           "Low (<15 events)",
           "Medium (15-30 events)",
           "0 tickets",
           "1 ticket",
           "11+ tickets",
           "2-4 tickets",
           "5-10 tickets",
           "Active",
           "Inactive"
          ],
          "line": {
           "color": "black",
           "width": 0.5
          },
          "pad": 15,
          "thickness": 30
         },
         "type": "sankey"
        }
       ],
       "layout": {
        "annotations": [
         {
          "font": {
           "size": 11
          },
          "showarrow": false,
          "text": "Total Tickets: 24,682<br>Total Customers: 10,000",
          "x": 0.5,
          "xanchor": "center",
          "xref": "paper",
          "y": -0.1,
          "yanchor": "top",
          "yref": "paper"
         }
        ],
        "font": {
         "size": 12
        },
        "height": 700,
        "template": {
         "data": {
          "bar": [
           {
            "error_x": {
             "color": "#2a3f5f"
            },
            "error_y": {
             "color": "#2a3f5f"
            },
            "marker": {
             "line": {
              "color": "#E5ECF6",
              "width": 0.5
             },
             "pattern": {
              "fillmode": "overlay",
              "size": 10,
              "solidity": 0.2
             }
            },
            "type": "bar"
           }
          ],
          "barpolar": [
           {
            "marker": {
             "line": {
              "color": "#E5ECF6",
              "width": 0.5
             },
             "pattern": {
              "fillmode": "overlay",
              "size": 10,
              "solidity": 0.2
             }
            },
            "type": "barpolar"
           }
          ],
          "carpet": [
           {
            "aaxis": {
             "endlinecolor": "#2a3f5f",
             "gridcolor": "white",
             "linecolor": "white",
             "minorgridcolor": "white",
             "startlinecolor": "#2a3f5f"
            },
            "baxis": {
             "endlinecolor": "#2a3f5f",
             "gridcolor": "white",
             "linecolor": "white",
             "minorgridcolor": "white",
             "startlinecolor": "#2a3f5f"
            },
            "type": "carpet"
           }
          ],
          "choropleth": [
           {
            "colorbar": {
             "outlinewidth": 0,
             "ticks": ""
            },
            "type": "choropleth"
           }
          ],
          "contour": [
           {
            "colorbar": {
             "outlinewidth": 0,
             "ticks": ""
            },
            "colorscale": [
             [
              0,
              "#0d0887"
             ],
             [
              0.1111111111111111,
              "#46039f"
             ],
             [
              0.2222222222222222,
              "#7201a8"
             ],
             [
              0.3333333333333333,
              "#9c179e"
             ],
             [
              0.4444444444444444,
              "#bd3786"
             ],
             [
              0.5555555555555556,
              "#d8576b"
             ],
             [
              0.6666666666666666,
              "#ed7953"
             ],
             [
              0.7777777777777778,
              "#fb9f3a"
             ],
             [
              0.8888888888888888,
              "#fdca26"
             ],
             [
              1,
              "#f0f921"
             ]
            ],
            "type": "contour"
           }
          ],
          "contourcarpet": [
           {
            "colorbar": {
             "outlinewidth": 0,
             "ticks": ""
            },
            "type": "contourcarpet"
           }
          ],
          "heatmap": [
           {
            "colorbar": {
             "outlinewidth": 0,
             "ticks": ""
            },
            "colorscale": [
             [
              0,
              "#0d0887"
             ],
             [
              0.1111111111111111,
              "#46039f"
             ],
             [
              0.2222222222222222,
              "#7201a8"
             ],
             [
              0.3333333333333333,
              "#9c179e"
             ],
             [
              0.4444444444444444,
              "#bd3786"
             ],
             [
              0.5555555555555556,
              "#d8576b"
             ],
             [
              0.6666666666666666,
              "#ed7953"
             ],
             [
              0.7777777777777778,
              "#fb9f3a"
             ],
             [
              0.8888888888888888,
              "#fdca26"
             ],
             [
              1,
              "#f0f921"
             ]
            ],
            "type": "heatmap"
           }
          ],
          "heatmapgl": [
           {
            "colorbar": {
             "outlinewidth": 0,
             "ticks": ""
            },
            "colorscale": [
             [
              0,
              "#0d0887"
             ],
             [
              0.1111111111111111,
              "#46039f"
             ],
             [
              0.2222222222222222,
              "#7201a8"
             ],
             [
              0.3333333333333333,
              "#9c179e"
             ],
             [
              0.4444444444444444,
              "#bd3786"
             ],
             [
              0.5555555555555556,
              "#d8576b"
             ],
             [
              0.6666666666666666,
              "#ed7953"
             ],
             [
              0.7777777777777778,
              "#fb9f3a"
             ],
             [
              0.8888888888888888,
              "#fdca26"
             ],
             [
              1,
              "#f0f921"
             ]
            ],
            "type": "heatmapgl"
           }
          ],
          "histogram": [
           {
            "marker": {
             "pattern": {
              "fillmode": "overlay",
              "size": 10,
              "solidity": 0.2
             }
            },
            "type": "histogram"
           }
          ],
          "histogram2d": [
           {
            "colorbar": {
             "outlinewidth": 0,
             "ticks": ""
            },
            "colorscale": [
             [
              0,
              "#0d0887"
             ],
             [
              0.1111111111111111,
              "#46039f"
             ],
             [
              0.2222222222222222,
              "#7201a8"
             ],
             [
              0.3333333333333333,
              "#9c179e"
             ],
             [
              0.4444444444444444,
              "#bd3786"
             ],
             [
              0.5555555555555556,
              "#d8576b"
             ],
             [
              0.6666666666666666,
              "#ed7953"
             ],
             [
              0.7777777777777778,
              "#fb9f3a"
             ],
             [
              0.8888888888888888,
              "#fdca26"
             ],
             [
              1,
              "#f0f921"
             ]
            ],
            "type": "histogram2d"
           }
          ],
          "histogram2dcontour": [
           {
            "colorbar": {
             "outlinewidth": 0,
             "ticks": ""
            },
            "colorscale": [
             [
              0,
              "#0d0887"
             ],
             [
              0.1111111111111111,
              "#46039f"
             ],
             [
              0.2222222222222222,
              "#7201a8"
             ],
             [
              0.3333333333333333,
              "#9c179e"
             ],
             [
              0.4444444444444444,
              "#bd3786"
             ],
             [
              0.5555555555555556,
              "#d8576b"
             ],
             [
              0.6666666666666666,
              "#ed7953"
             ],
             [
              0.7777777777777778,
              "#fb9f3a"
             ],
             [
              0.8888888888888888,
              "#fdca26"
             ],
             [
              1,
              "#f0f921"
             ]
            ],
            "type": "histogram2dcontour"
           }
          ],
          "mesh3d": [
           {
            "colorbar": {
             "outlinewidth": 0,
             "ticks": ""
            },
            "type": "mesh3d"
           }
          ],
          "parcoords": [
           {
            "line": {
             "colorbar": {
              "outlinewidth": 0,
              "ticks": ""
             }
            },
            "type": "parcoords"
           }
          ],
          "pie": [
           {
            "automargin": true,
            "type": "pie"
           }
          ],
          "scatter": [
           {
            "fillpattern": {
             "fillmode": "overlay",
             "size": 10,
             "solidity": 0.2
            },
            "type": "scatter"
           }
          ],
          "scatter3d": [
           {
            "line": {
             "colorbar": {
              "outlinewidth": 0,
              "ticks": ""
             }
            },
            "marker": {
             "colorbar": {
              "outlinewidth": 0,
              "ticks": ""
             }
            },
            "type": "scatter3d"
           }
          ],
          "scattercarpet": [
           {
            "marker": {
             "colorbar": {
              "outlinewidth": 0,
              "ticks": ""
             }
            },
            "type": "scattercarpet"
           }
          ],
          "scattergeo": [
           {
            "marker": {
             "colorbar": {
              "outlinewidth": 0,
              "ticks": ""
             }
            },
            "type": "scattergeo"
           }
          ],
          "scattergl": [
           {
            "marker": {
             "colorbar": {
              "outlinewidth": 0,
              "ticks": ""
             }
            },
            "type": "scattergl"
           }
          ],
          "scattermapbox": [
           {
            "marker": {
             "colorbar": {
              "outlinewidth": 0,
              "ticks": ""
             }
            },
            "type": "scattermapbox"
           }
          ],
          "scatterpolar": [
           {
            "marker": {
             "colorbar": {
              "outlinewidth": 0,
              "ticks": ""
             }
            },
            "type": "scatterpolar"
           }
          ],
          "scatterpolargl": [
           {
            "marker": {
             "colorbar": {
              "outlinewidth": 0,
              "ticks": ""
             }
            },
            "type": "scatterpolargl"
           }
          ],
          "scatterternary": [
           {
            "marker": {
             "colorbar": {
              "outlinewidth": 0,
              "ticks": ""
             }
            },
            "type": "scatterternary"
           }
          ],
          "surface": [
           {
            "colorbar": {
             "outlinewidth": 0,
             "ticks": ""
            },
            "colorscale": [
             [
              0,
              "#0d0887"
             ],
             [
              0.1111111111111111,
              "#46039f"
             ],
             [
              0.2222222222222222,
              "#7201a8"
             ],
             [
              0.3333333333333333,
              "#9c179e"
             ],
             [
              0.4444444444444444,
              "#bd3786"
             ],
             [
              0.5555555555555556,
              "#d8576b"
             ],
             [
              0.6666666666666666,
              "#ed7953"
             ],
             [
              0.7777777777777778,
              "#fb9f3a"
             ],
             [
              0.8888888888888888,
              "#fdca26"
             ],
             [
              1,
              "#f0f921"
             ]
            ],
            "type": "surface"
           }
          ],
          "table": [
           {
            "cells": {
             "fill": {
              "color": "#EBF0F8"
             },
             "line": {
              "color": "white"
             }
            },
            "header": {
             "fill": {
              "color": "#C8D4E3"
             },
             "line": {
              "color": "white"
             }
            },
            "type": "table"
           }
          ]
         },
         "layout": {
          "annotationdefaults": {
           "arrowcolor": "#2a3f5f",
           "arrowhead": 0,
           "arrowwidth": 1
          },
          "autotypenumbers": "strict",
          "coloraxis": {
           "colorbar": {
            "outlinewidth": 0,
            "ticks": ""
           }
          },
          "colorscale": {
           "diverging": [
            [
             0,
             "#8e0152"
            ],
            [
             0.1,
             "#c51b7d"
            ],
            [
             0.2,
             "#de77ae"
            ],
            [
             0.3,
             "#f1b6da"
            ],
            [
             0.4,
             "#fde0ef"
            ],
            [
             0.5,
             "#f7f7f7"
            ],
            [
             0.6,
             "#e6f5d0"
            ],
            [
             0.7,
             "#b8e186"
            ],
            [
             0.8,
             "#7fbc41"
            ],
            [
             0.9,
             "#4d9221"
            ],
            [
             1,
             "#276419"
            ]
           ],
           "sequential": [
            [
             0,
             "#0d0887"
            ],
            [
             0.1111111111111111,
             "#46039f"
            ],
            [
             0.2222222222222222,
             "#7201a8"
            ],
            [
             0.3333333333333333,
             "#9c179e"
            ],
            [
             0.4444444444444444,
             "#bd3786"
            ],
            [
             0.5555555555555556,
             "#d8576b"
            ],
            [
             0.6666666666666666,
             "#ed7953"
            ],
            [
             0.7777777777777778,
             "#fb9f3a"
            ],
            [
             0.8888888888888888,
             "#fdca26"
            ],
            [
             1,
             "#f0f921"
            ]
           ],
           "sequentialminus": [
            [
             0,
             "#0d0887"
            ],
            [
             0.1111111111111111,
             "#46039f"
            ],
            [
             0.2222222222222222,
             "#7201a8"
            ],
            [
             0.3333333333333333,
             "#9c179e"
            ],
            [
             0.4444444444444444,
             "#bd3786"
            ],
            [
             0.5555555555555556,
             "#d8576b"
            ],
            [
             0.6666666666666666,
             "#ed7953"
            ],
            [
             0.7777777777777778,
             "#fb9f3a"
            ],
            [
             0.8888888888888888,
             "#fdca26"
            ],
            [
             1,
             "#f0f921"
            ]
           ]
          },
          "colorway": [
           "#636efa",
           "#EF553B",
           "#00cc96",
           "#ab63fa",
           "#FFA15A",
           "#19d3f3",
           "#FF6692",
           "#B6E880",
           "#FF97FF",
           "#FECB52"
          ],
          "font": {
           "color": "#2a3f5f"
          },
          "geo": {
           "bgcolor": "white",
           "lakecolor": "white",
           "landcolor": "#E5ECF6",
           "showlakes": true,
           "showland": true,
           "subunitcolor": "white"
          },
          "hoverlabel": {
           "align": "left"
          },
          "hovermode": "closest",
          "mapbox": {
           "style": "light"
          },
          "paper_bgcolor": "white",
          "plot_bgcolor": "#E5ECF6",
          "polar": {
           "angularaxis": {
            "gridcolor": "white",
            "linecolor": "white",
            "ticks": ""
           },
           "bgcolor": "#E5ECF6",
           "radialaxis": {
            "gridcolor": "white",
            "linecolor": "white",
            "ticks": ""
           }
          },
          "scene": {
           "xaxis": {
            "backgroundcolor": "#E5ECF6",
            "gridcolor": "white",
            "gridwidth": 2,
            "linecolor": "white",
            "showbackground": true,
            "ticks": "",
            "zerolinecolor": "white"
           },
           "yaxis": {
            "backgroundcolor": "#E5ECF6",
            "gridcolor": "white",
            "gridwidth": 2,
            "linecolor": "white",
            "showbackground": true,
            "ticks": "",
            "zerolinecolor": "white"
           },
           "zaxis": {
            "backgroundcolor": "#E5ECF6",
            "gridcolor": "white",
            "gridwidth": 2,
            "linecolor": "white",
            "showbackground": true,
            "ticks": "",
            "zerolinecolor": "white"
           }
          },
          "shapedefaults": {
           "line": {
            "color": "#2a3f5f"
           }
          },
          "ternary": {
           "aaxis": {
            "gridcolor": "white",
            "linecolor": "white",
            "ticks": ""
           },
           "baxis": {
            "gridcolor": "white",
            "linecolor": "white",
            "ticks": ""
           },
           "bgcolor": "#E5ECF6",
           "caxis": {
            "gridcolor": "white",
            "linecolor": "white",
            "ticks": ""
           }
          },
          "title": {
           "x": 0.05
          },
          "xaxis": {
           "automargin": true,
           "gridcolor": "white",
           "linecolor": "white",
           "ticks": "",
           "title": {
            "standoff": 15
           },
           "zerolinecolor": "white",
           "zerolinewidth": 2
          },
          "yaxis": {
           "automargin": true,
           "gridcolor": "white",
           "linecolor": "white",
           "ticks": "",
           "title": {
            "standoff": 15
           },
           "zerolinecolor": "white",
           "zerolinewidth": 2
          }
         }
        },
        "title": {
         "text": "Support Ticket Flow: Engagement Level → Ticket Range → Active Status"
        }
       }
      }
     },
     "metadata": {},
     "output_type": "display_data"
    },
    {
     "name": "stdout",
     "output_type": "stream",
     "text": [
      "\n",
      "================================================================================\n",
      "SUPPORT TICKET FLOW ANALYSIS\n",
      "================================================================================\n",
      "Total support tickets (last 90 days): 24,682\n",
      "Average tickets per customer: 2.47\n",
      "\n",
      "Flow shows:\n",
      "  • Engagement Level (yellow) → Ticket Range (orange) → Active Status (green=Active, coral=Inactive)\n",
      "  • Flow thickness = number of support tickets\n",
      "  • Hover to see ticket count, customer count, and ARR\n",
      "\n",
      "================================================================================\n",
      "SUMMARY BY ENGAGEMENT LEVEL:\n",
      "================================================================================\n",
      "                       Total Tickets  Avg per Customer  Customer Count\n",
      "engagement_level                                                      \n",
      "High (30+ events)               4150               3.1            1337\n",
      "Low (<15 events)                 446               0.3            1329\n",
      "Medium (15-30 events)           7745               1.1            7334\n",
      "\n",
      "================================================================================\n",
      "SUMMARY BY TICKET RANGE:\n",
      "================================================================================\n",
      "              Total Tickets  Avg per Customer  Customer Count\n",
      "ticket_range                                                 \n",
      "0 tickets                 0               0.0            4895\n",
      "1 ticket               2237               1.0            2237\n",
      "11+ tickets              97              12.1               8\n",
      "2-4 tickets            5930               2.7            2182\n",
      "5-10 tickets           4077               6.0             678\n",
      "\n",
      "================================================================================\n",
      "SUMMARY BY ACTIVE STATUS:\n",
      "================================================================================\n",
      "               Total Tickets  Avg per Customer  Customer Count\n",
      "active_status                                                 \n",
      "Active                  8832               1.3            7041\n",
      "Inactive                3509               1.2            2959\n"
     ]
    }
   ],
   "source": [
    "# NOTE: This Sankey diagram has been combined with the previous one\n",
    "# See cell above for the combined flow: Size → Plan → ARR Group → Events → Tickets → Active Status\n",
    "\n",
    "# Ensure required columns exist\n",
    "if 'engagement_level' not in joined_df.columns:\n",
    "    joined_df['engagement_level'] = pd.cut(\n",
    "        joined_df['total_events'],\n",
    "        bins=[-1, 15, 30, float('inf')],\n",
    "        labels=['Low (<15 events)', 'Medium (15-30 events)', 'High (30+ events)']\n",
    "    )\n",
    "\n",
    "if 'active_status' not in joined_df.columns:\n",
    "    joined_df['active_status'] = joined_df['is_active'].map({True: 'Active', False: 'Inactive', 1: 'Active', 0: 'Inactive'})\n",
    "    joined_df['active_status'] = joined_df['active_status'].fillna('Unknown')\n",
    "\n",
    "# Create ticket range groups based on support_tickets_last_90d\n",
    "# Ranges: 0, 1, 2-4, 5-10, 11+\n",
    "joined_df['ticket_range'] = pd.cut(\n",
    "    joined_df['support_tickets_last_90d'],\n",
    "    bins=[-1, 0, 1, 4, 10, float('inf')],\n",
    "    labels=['0 tickets', '1 ticket', '2-4 tickets', '5-10 tickets', '11+ tickets'],\n",
    "    include_lowest=True\n",
    ")\n",
    "\n",
    "# Prepare data - convert categoricals to strings\n",
    "df_support = joined_df.dropna(subset=['engagement_level', 'ticket_range', 'active_status', 'support_tickets_last_90d']).copy()\n",
    "for col in ['engagement_level', 'ticket_range', 'active_status']:\n",
    "    df_support[col] = df_support[col].astype(str)\n",
    "\n",
    "# Build nodes\n",
    "node_labels = []\n",
    "\n",
    "# Level 1: Engagement Levels\n",
    "engagement_nodes = sorted([str(x) for x in df_support['engagement_level'].unique()])\n",
    "node_labels.extend(engagement_nodes)\n",
    "\n",
    "# Level 2: Ticket Ranges\n",
    "ticket_range_nodes = sorted([str(x) for x in df_support['ticket_range'].unique()])\n",
    "node_labels.extend(ticket_range_nodes)\n",
    "\n",
    "# Level 3: Active Status\n",
    "status_nodes = sorted([str(x) for x in df_support['active_status'].unique()])\n",
    "node_labels.extend(status_nodes)\n",
    "\n",
    "# Create node index mapping\n",
    "node_dict = {str(label): idx for idx, label in enumerate(node_labels)}\n",
    "\n",
    "# Build links\n",
    "sources = []\n",
    "targets = []\n",
    "values = []\n",
    "link_labels = []\n",
    "\n",
    "# Flow 1: Engagement Level → Ticket Range\n",
    "flow1 = df_support.groupby(['engagement_level', 'ticket_range'], observed=True).agg({\n",
    "    'support_tickets_last_90d': 'sum',\n",
    "    'user_id': 'count',\n",
    "    'annual_revenue': 'sum'\n",
    "}).reset_index()\n",
    "\n",
    "for _, row in flow1.iterrows():\n",
    "    sources.append(node_dict[str(row['engagement_level'])])\n",
    "    targets.append(node_dict[str(row['ticket_range'])])\n",
    "    values.append(row['support_tickets_last_90d'])\n",
    "    link_labels.append(\n",
    "        f\"{row['support_tickets_last_90d']:.0f} tickets, \"\n",
    "        f\"{row['user_id']} users, \"\n",
    "        f\"${row['annual_revenue']:,.0f} ARR\"\n",
    "    )\n",
    "\n",
    "# Flow 2: Ticket Range → Active Status\n",
    "flow2 = df_support.groupby(['ticket_range', 'active_status'], observed=True).agg({\n",
    "    'support_tickets_last_90d': 'sum',\n",
    "    'user_id': 'count',\n",
    "    'annual_revenue': 'sum'\n",
    "}).reset_index()\n",
    "\n",
    "for _, row in flow2.iterrows():\n",
    "    sources.append(node_dict[str(row['ticket_range'])])\n",
    "    targets.append(node_dict[str(row['active_status'])])\n",
    "    values.append(row['support_tickets_last_90d'])\n",
    "    link_labels.append(\n",
    "        f\"{row['support_tickets_last_90d']:.0f} tickets, \"\n",
    "        f\"{row['user_id']} users, \"\n",
    "        f\"${row['annual_revenue']:,.0f} ARR\"\n",
    "    )\n",
    "\n",
    "# Create Sankey diagram\n",
    "fig = go.Figure(data=[go.Sankey(\n",
    "    node=dict(\n",
    "        pad=15,\n",
    "        thickness=30,\n",
    "        line=dict(color=\"black\", width=0.5),\n",
    "        label=node_labels,\n",
    "        color=['lightyellow' if 'events' in str(n) else\n",
    "               'orange' if 'ticket' in str(n) else\n",
    "               'lightcoral' if str(n) == 'Inactive' else\n",
    "               'lightseagreen'\n",
    "               for n in node_labels]\n",
    "    ),\n",
    "    link=dict(\n",
    "        source=sources,\n",
    "        target=targets,\n",
    "        value=values,\n",
    "        label=link_labels,\n",
    "        # Color links based on ticket volume intensity\n",
    "        color=[f'rgba(255, 100, 100, {min(0.8, v/max(values) * 0.8 + 0.2)})' for v in values]\n",
    "    )\n",
    ")])\n",
    "\n",
    "fig.update_layout(\n",
    "    title=\"Support Ticket Flow: Engagement Level → Ticket Range → Active Status\",\n",
    "    font=dict(size=12),\n",
    "    height=700,\n",
    "    annotations=[\n",
    "        dict(\n",
    "            text=f\"Total Tickets: {sum(values):,.0f}<br>\"\n",
    "                 f\"Total Customers: {df_support['user_id'].nunique():,}\",\n",
    "            showarrow=False,\n",
    "            xref=\"paper\", yref=\"paper\",\n",
    "            x=0.5, y=-0.1,\n",
    "            xanchor=\"center\", yanchor=\"top\",\n",
    "            font=dict(size=11)\n",
    "        )\n",
    "    ]\n",
    ")\n",
    "\n",
    "fig.show()\n",
    "\n",
    "print(\"\\n\" + \"=\"*80)\n",
    "print(\"SUPPORT TICKET FLOW ANALYSIS\")\n",
    "print(\"=\"*80)\n",
    "print(f\"Total support tickets (last 90 days): {sum(values):,.0f}\")\n",
    "print(f\"Average tickets per customer: {sum(values) / df_support['user_id'].nunique():.2f}\")\n",
    "print(f\"\\nFlow shows:\")\n",
    "print(\"  • Engagement Level (yellow) → Ticket Range (orange) → Active Status (green=Active, coral=Inactive)\")\n",
    "print(\"  • Flow thickness = number of support tickets\")\n",
    "print(\"  • Hover to see ticket count, customer count, and ARR\")\n",
    "print(\"\\n\" + \"=\"*80)\n",
    "print(\"SUMMARY BY ENGAGEMENT LEVEL:\")\n",
    "print(\"=\"*80)\n",
    "support_by_engagement = df_support.groupby('engagement_level')['support_tickets_last_90d'].agg(['sum', 'mean', 'count']).round(1)\n",
    "support_by_engagement.columns = ['Total Tickets', 'Avg per Customer', 'Customer Count']\n",
    "print(support_by_engagement)\n",
    "print(\"\\n\" + \"=\"*80)\n",
    "print(\"SUMMARY BY TICKET RANGE:\")\n",
    "print(\"=\"*80)\n",
    "support_by_range = df_support.groupby('ticket_range')['support_tickets_last_90d'].agg(['sum', 'mean', 'count']).round(1)\n",
    "support_by_range.columns = ['Total Tickets', 'Avg per Customer', 'Customer Count']\n",
    "support_by_range = support_by_range.sort_index()\n",
    "print(support_by_range)\n",
    "print(\"\\n\" + \"=\"*80)\n",
    "print(\"SUMMARY BY ACTIVE STATUS:\")\n",
    "print(\"=\"*80)\n",
    "support_by_status = df_support.groupby('active_status')['support_tickets_last_90d'].agg(['sum', 'mean', 'count']).round(1)\n",
    "support_by_status.columns = ['Total Tickets', 'Avg per Customer', 'Customer Count']\n",
    "print(support_by_status)\n"
   ]
  },
  {
   "cell_type": "code",
   "execution_count": null,
   "id": "hd252ks18vw",
   "metadata": {},
   "outputs": [
    {
     "name": "stdout",
     "output_type": "stream",
     "text": [
      "====================================================================================================\n",
      "COMPLETE FLOW PATHS: Portfolio Size → Plan Type → Engagement → Active Status\n",
      "====================================================================================================\n"
     ]
    },
    {
     "data": {
      "text/html": [
       "<div>\n",
       "<style scoped>\n",
       "    .dataframe tbody tr th:only-of-type {\n",
       "        vertical-align: middle;\n",
       "    }\n",
       "\n",
       "    .dataframe tbody tr th {\n",
       "        vertical-align: top;\n",
       "    }\n",
       "\n",
       "    .dataframe thead th {\n",
       "        text-align: right;\n",
       "    }\n",
       "</style>\n",
       "<table border=\"1\" class=\"dataframe\">\n",
       "  <thead>\n",
       "    <tr style=\"text-align: right;\">\n",
       "      <th></th>\n",
       "      <th>Portfolio Size</th>\n",
       "      <th>Plan Type</th>\n",
       "      <th>Engagement</th>\n",
       "      <th>Status</th>\n",
       "      <th>Count</th>\n",
       "      <th>Total ARR</th>\n",
       "      <th>%</th>\n",
       "      <th>Avg ARR</th>\n",
       "    </tr>\n",
       "  </thead>\n",
       "  <tbody>\n",
       "    <tr>\n",
       "      <th>58</th>\n",
       "      <td>10+ units</td>\n",
       "      <td>starter</td>\n",
       "      <td>Medium (15-30 events)</td>\n",
       "      <td>Active</td>\n",
       "      <td>1370</td>\n",
       "      <td>587061.18</td>\n",
       "      <td>13.70</td>\n",
       "      <td>429.0</td>\n",
       "    </tr>\n",
       "    <tr>\n",
       "      <th>52</th>\n",
       "      <td>10+ units</td>\n",
       "      <td>pro</td>\n",
       "      <td>Medium (15-30 events)</td>\n",
       "      <td>Active</td>\n",
       "      <td>942</td>\n",
       "      <td>1976751.06</td>\n",
       "      <td>9.42</td>\n",
       "      <td>2098.0</td>\n",
       "    </tr>\n",
       "    <tr>\n",
       "      <th>27</th>\n",
       "      <td>2-5 units</td>\n",
       "      <td>starter</td>\n",
       "      <td>Medium (15-30 events)</td>\n",
       "      <td>Active</td>\n",
       "      <td>793</td>\n",
       "      <td>293856.11</td>\n",
       "      <td>7.93</td>\n",
       "      <td>371.0</td>\n",
       "    </tr>\n",
       "    <tr>\n",
       "      <th>21</th>\n",
       "      <td>2-5 units</td>\n",
       "      <td>pro</td>\n",
       "      <td>Medium (15-30 events)</td>\n",
       "      <td>Active</td>\n",
       "      <td>732</td>\n",
       "      <td>1331559.50</td>\n",
       "      <td>7.32</td>\n",
       "      <td>1819.0</td>\n",
       "    </tr>\n",
       "    <tr>\n",
       "      <th>59</th>\n",
       "      <td>10+ units</td>\n",
       "      <td>starter</td>\n",
       "      <td>Medium (15-30 events)</td>\n",
       "      <td>Inactive</td>\n",
       "      <td>728</td>\n",
       "      <td>314551.58</td>\n",
       "      <td>7.28</td>\n",
       "      <td>432.0</td>\n",
       "    </tr>\n",
       "    <tr>\n",
       "      <th>...</th>\n",
       "      <td>...</td>\n",
       "      <td>...</td>\n",
       "      <td>...</td>\n",
       "      <td>...</td>\n",
       "      <td>...</td>\n",
       "      <td>...</td>\n",
       "      <td>...</td>\n",
       "      <td>...</td>\n",
       "    </tr>\n",
       "    <tr>\n",
       "      <th>0</th>\n",
       "      <td>1 unit</td>\n",
       "      <td>premium</td>\n",
       "      <td>Low (&lt;15 events)</td>\n",
       "      <td>Active</td>\n",
       "      <td>2</td>\n",
       "      <td>22329.40</td>\n",
       "      <td>0.02</td>\n",
       "      <td>11165.0</td>\n",
       "    </tr>\n",
       "    <tr>\n",
       "      <th>10</th>\n",
       "      <td>1 unit</td>\n",
       "      <td>pro</td>\n",
       "      <td>High (30+ events)</td>\n",
       "      <td>Active</td>\n",
       "      <td>1</td>\n",
       "      <td>2440.90</td>\n",
       "      <td>0.01</td>\n",
       "      <td>2441.0</td>\n",
       "    </tr>\n",
       "    <tr>\n",
       "      <th>45</th>\n",
       "      <td>6-10 units</td>\n",
       "      <td>starter</td>\n",
       "      <td>High (30+ events)</td>\n",
       "      <td>Inactive</td>\n",
       "      <td>1</td>\n",
       "      <td>412.52</td>\n",
       "      <td>0.01</td>\n",
       "      <td>413.0</td>\n",
       "    </tr>\n",
       "    <tr>\n",
       "      <th>30</th>\n",
       "      <td>2-5 units</td>\n",
       "      <td>starter</td>\n",
       "      <td>High (30+ events)</td>\n",
       "      <td>Inactive</td>\n",
       "      <td>1</td>\n",
       "      <td>571.80</td>\n",
       "      <td>0.01</td>\n",
       "      <td>572.0</td>\n",
       "    </tr>\n",
       "    <tr>\n",
       "      <th>1</th>\n",
       "      <td>1 unit</td>\n",
       "      <td>premium</td>\n",
       "      <td>Low (&lt;15 events)</td>\n",
       "      <td>Inactive</td>\n",
       "      <td>1</td>\n",
       "      <td>19287.63</td>\n",
       "      <td>0.01</td>\n",
       "      <td>19288.0</td>\n",
       "    </tr>\n",
       "  </tbody>\n",
       "</table>\n",
       "<p>62 rows × 8 columns</p>\n",
       "</div>"
      ],
      "text/plain": [
       "   Portfolio Size Plan Type             Engagement    Status  Count   Total ARR      %  Avg ARR\n",
       "58      10+ units   starter  Medium (15-30 events)    Active   1370   587061.18  13.70    429.0\n",
       "52      10+ units       pro  Medium (15-30 events)    Active    942  1976751.06   9.42   2098.0\n",
       "27      2-5 units   starter  Medium (15-30 events)    Active    793   293856.11   7.93    371.0\n",
       "21      2-5 units       pro  Medium (15-30 events)    Active    732  1331559.50   7.32   1819.0\n",
       "59      10+ units   starter  Medium (15-30 events)  Inactive    728   314551.58   7.28    432.0\n",
       "..            ...       ...                    ...       ...    ...         ...    ...      ...\n",
       "0          1 unit   premium       Low (<15 events)    Active      2    22329.40   0.02  11165.0\n",
       "10         1 unit       pro      High (30+ events)    Active      1     2440.90   0.01   2441.0\n",
       "45     6-10 units   starter      High (30+ events)  Inactive      1      412.52   0.01    413.0\n",
       "30      2-5 units   starter      High (30+ events)  Inactive      1      571.80   0.01    572.0\n",
       "1          1 unit   premium       Low (<15 events)  Inactive      1    19287.63   0.01  19288.0\n",
       "\n",
       "[62 rows x 8 columns]"
      ]
     },
     "metadata": {},
     "output_type": "display_data"
    },
    {
     "name": "stdout",
     "output_type": "stream",
     "text": [
      "\n",
      "====================================================================================================\n",
      "KEY INSIGHTS\n",
      "====================================================================================================\n",
      "\n",
      "Top 3 Customer Segments:\n",
      "  • 10+ units → starter → Medium (15-30 events) → Active\n",
      "    1370 users (13.7%), $587,061 total ARR, $429 avg ARR\n",
      "  • 10+ units → pro → Medium (15-30 events) → Active\n",
      "    942 users (9.42%), $1,976,751 total ARR, $2,098 avg ARR\n",
      "  • 2-5 units → starter → Medium (15-30 events) → Active\n",
      "    793 users (7.93%), $293,856 total ARR, $371 avg ARR\n",
      "\n",
      "Highest ARR Segments:\n",
      "  • 10+ units → premium → High (30+ events) → Active\n",
      "    397 users (3.97%), $6,408,802 total ARR, $16,143 avg ARR\n",
      "  • 2-5 units → premium → Medium (15-30 events) → Active\n",
      "    267 users (2.67%), $3,625,812 total ARR, $13,580 avg ARR\n",
      "  • 10+ units → premium → Medium (15-30 events) → Active\n",
      "    155 users (1.55%), $2,416,356 total ARR, $15,589 avg ARR\n",
      "\n",
      "Inactive Customer Segments: 31 paths\n",
      "Total inactive users: 2959 (29.6%)\n",
      "ARR at risk: $7,375,884\n"
     ]
    }
   ],
   "source": [
    "# Summary table of complete flow paths with count, %, and ARR\n",
    "# Ensure required columns exist before grouping\n",
    "if 'portfolio_group' not in joined_df.columns:\n",
    "    joined_df['portfolio_group'] = pd.cut(\n",
    "        joined_df['portfolio_size'],\n",
    "        bins=[0, 1, 5, 10, float('inf')],\n",
    "        labels=['1 unit', '2-5 units', '6-10 units', '10+ units'],\n",
    "        include_lowest=True\n",
    "    )\n",
    "\n",
    "if 'engagement_level' not in joined_df.columns:\n",
    "    joined_df['engagement_level'] = pd.cut(\n",
    "        joined_df['total_events'],\n",
    "        bins=[-1, 15, 30, float('inf')],\n",
    "        labels=['Low (<15 events)', 'Medium (15-30 events)', 'High (30+ events)']\n",
    "    )\n",
    "\n",
    "if 'active_status' not in joined_df.columns:\n",
    "    joined_df['active_status'] = joined_df['is_active'].map({True: 'Active', False: 'Inactive', 1: 'Active', 0: 'Inactive'})\n",
    "    # Fill any NaN values\n",
    "    joined_df['active_status'] = joined_df['active_status'].fillna('Unknown')\n",
    "\n",
    "complete_flow = joined_df.groupby([\n",
    "    'portfolio_group', \n",
    "    'plan_type', \n",
    "    'engagement_level', \n",
    "    'active_status'\n",
    "], observed=True).agg({\n",
    "    'user_id': 'count',\n",
    "    'annual_revenue': 'sum'\n",
    "}).reset_index()\n",
    "\n",
    "complete_flow.columns = ['Portfolio Size', 'Plan Type', 'Engagement', 'Status', 'Count', 'Total ARR']\n",
    "\n",
    "# Check if dataframe is empty or has zero count\n",
    "if len(complete_flow) == 0:\n",
    "    print(\"Warning: No data found for complete flow paths. Check that all required columns are properly populated.\")\n",
    "    complete_flow['%'] = 0\n",
    "    complete_flow['Avg ARR'] = 0\n",
    "else:\n",
    "    # Calculate percentage safely (avoid division by zero)\n",
    "    total_count = complete_flow['Count'].sum()\n",
    "    if total_count > 0:\n",
    "        complete_flow['%'] = (complete_flow['Count'] / total_count * 100).round(2)\n",
    "    else:\n",
    "        complete_flow['%'] = 0\n",
    "    \n",
    "    # Calculate average ARR safely (avoid division by zero)\n",
    "    complete_flow['Avg ARR'] = (complete_flow['Total ARR'] / complete_flow['Count'].replace(0, 1)).round(0)\n",
    "    # Set Avg ARR to 0 where Count is 0\n",
    "    complete_flow.loc[complete_flow['Count'] == 0, 'Avg ARR'] = 0\n",
    "\n",
    "# Sort by count descending\n",
    "complete_flow = complete_flow.sort_values('Count', ascending=False)\n",
    "\n",
    "print(\"=\"*100)\n",
    "print(\"COMPLETE FLOW PATHS: Portfolio Size → Plan Type → Engagement → Active Status\")\n",
    "print(\"=\"*100)\n",
    "display(complete_flow)\n",
    "\n",
    "# Key insights\n",
    "print(\"\\n\" + \"=\"*100)\n",
    "print(\"KEY INSIGHTS\")\n",
    "print(\"=\"*100)\n",
    "\n",
    "# Largest segments\n",
    "top_3 = complete_flow.head(3)\n",
    "print(\"\\nTop 3 Customer Segments:\")\n",
    "for idx, row in top_3.iterrows():\n",
    "    print(f\"  • {row['Portfolio Size']} → {row['Plan Type']} → {row['Engagement']} → {row['Status']}\")\n",
    "    print(f\"    {row['Count']} users ({row['%']}%), ${row['Total ARR']:,.0f} total ARR, ${row['Avg ARR']:,.0f} avg ARR\")\n",
    "\n",
    "# Highest ARR segments\n",
    "top_arr = complete_flow.nlargest(3, 'Total ARR')\n",
    "print(\"\\nHighest ARR Segments:\")\n",
    "for idx, row in top_arr.iterrows():\n",
    "    print(f\"  • {row['Portfolio Size']} → {row['Plan Type']} → {row['Engagement']} → {row['Status']}\")\n",
    "    print(f\"    {row['Count']} users ({row['%']}%), ${row['Total ARR']:,.0f} total ARR, ${row['Avg ARR']:,.0f} avg ARR\")\n",
    "\n",
    "# Inactive segments\n",
    "inactive_segments = complete_flow[complete_flow['Status'] == 'Inactive']\n",
    "print(f\"\\nInactive Customer Segments: {len(inactive_segments)} paths\")\n",
    "print(f\"Total inactive users: {inactive_segments['Count'].sum()} ({(inactive_segments['Count'].sum()/complete_flow['Count'].sum()*100):.1f}%)\")\n",
    "print(f\"ARR at risk: ${inactive_segments['Total ARR'].sum():,.0f}\")"
   ]
  },
  {
   "cell_type": "markdown",
   "id": "47y0lpey98h",
   "metadata": {},
   "source": [
    "## 7. Event-Specific Sankey Diagrams"
   ]
  },
  {
   "cell_type": "code",
   "execution_count": null,
   "id": "bov0vzgb9de",
   "metadata": {},
   "outputs": [
    {
     "name": "stdout",
     "output_type": "stream",
     "text": [
      "================================================================================\n",
      "EVENT TYPE COLUMNS DETECTED (excluding login)\n",
      "================================================================================\n",
      "Total event types: 10\n",
      "\n",
      "Event types:\n",
      "  • feature_adopted: 4,174 total occurrences, 4174 users have used it\n",
      "  • lease_signed: 24,847 total occurrences, 8876 users have used it\n",
      "  • maintenance_request_created: 37,288 total occurrences, 9495 users have used it\n",
      "  • nps_response_submitted: 8,988 total occurrences, 8988 users have used it\n",
      "  • rent_payment_received: 15,184 total occurrences, 6575 users have used it\n",
      "  • report_generated: 36,479 total occurrences, 9370 users have used it\n",
      "  • subscription_cancelled: 2,959 total occurrences, 2959 users have used it\n",
      "  • support_ticket_created: 12,341 total occurrences, 5105 users have used it\n",
      "  • tenant_added: 34,486 total occurrences, 9662 users have used it\n",
      "  • training_attended: 3,228 total occurrences, 3228 users have used it\n",
      "\n",
      "================================================================================\n",
      "EVENT DIVERSITY DISTRIBUTION\n",
      "================================================================================\n",
      "event_diversity_group\n",
      "0-4 events     443\n",
      "5-7 events    6391\n",
      "7+ events     3166\n",
      "Name: count, dtype: int64\n",
      "\n",
      "Event diversity stats:\n",
      "count    10000.000000\n",
      "mean         6.843200\n",
      "std          1.270974\n",
      "min          1.000000\n",
      "25%          6.000000\n",
      "50%          7.000000\n",
      "75%          8.000000\n",
      "max          9.000000\n",
      "Name: event_diversity, dtype: float64\n",
      "\n",
      "================================================================================\n",
      "ARR GROUP DISTRIBUTION\n",
      "================================================================================\n",
      "arr_group\n",
      "Low ARR (<$5k)        8621\n",
      "Mid ARR ($5k-$15k)     662\n",
      "High ARR ($15k+)       717\n",
      "Name: count, dtype: int64\n"
     ]
    }
   ],
   "source": [
    "# Identify all event type count columns (excluding login)\n",
    "event_count_cols = [col for col in joined_df.columns if col.endswith('_count') and 'login' not in col.lower()]\n",
    "\n",
    "print(\"=\"*80)\n",
    "print(\"EVENT TYPE COLUMNS DETECTED (excluding login)\")\n",
    "print(\"=\"*80)\n",
    "print(f\"Total event types: {len(event_count_cols)}\")\n",
    "print(f\"\\nEvent types:\")\n",
    "for col in event_count_cols:\n",
    "    event_name = col.replace('_count', '')\n",
    "    total = joined_df[col].sum()\n",
    "    users_with_event = (joined_df[col] > 0).sum()\n",
    "    print(f\"  • {event_name}: {total:,} total occurrences, {users_with_event} users have used it\")\n",
    "\n",
    "# Create event diversity metric - count how many different event types each user has used\n",
    "joined_df['event_diversity'] = (joined_df[event_count_cols] > 0).sum(axis=1)\n",
    "\n",
    "# Create event diversity groups: 0-4, 5-7, 7+\n",
    "joined_df['event_diversity_group'] = pd.cut(\n",
    "    joined_df['event_diversity'],\n",
    "    bins=[-1, 4, 7, float('inf')],\n",
    "    labels=['0-4 events', '5-7 events', '7+ events']\n",
    ")\n",
    "\n",
    "print(f\"\\n\" + \"=\"*80)\n",
    "print(\"EVENT DIVERSITY DISTRIBUTION\")\n",
    "print(\"=\"*80)\n",
    "print(joined_df['event_diversity_group'].value_counts().sort_index())\n",
    "print(f\"\\nEvent diversity stats:\")\n",
    "print(joined_df['event_diversity'].describe())\n",
    "\n",
    "# Create ARR groups for revenue categorization\n",
    "joined_df['arr_group'] = pd.cut(\n",
    "    joined_df['annual_revenue'],\n",
    "    bins=[0, 5000, 15000, float('inf')],\n",
    "    labels=['Low ARR (<$5k)', 'Mid ARR ($5k-$15k)', 'High ARR ($15k+)']\n",
    ")\n",
    "\n",
    "print(f\"\\n\" + \"=\"*80)\n",
    "print(\"ARR GROUP DISTRIBUTION\")\n",
    "print(\"=\"*80)\n",
    "print(joined_df['arr_group'].value_counts().sort_index())"
   ]
  },
  {
   "cell_type": "code",
   "execution_count": null,
   "id": "l6p3sq2z0ee",
   "metadata": {},
   "outputs": [
    {
     "name": "stdout",
     "output_type": "stream",
     "text": [
      "Event diversity Sankey function defined!\n"
     ]
    }
   ],
   "source": [
    "# Function to create Sankey diagram showing event diversity\n",
    "def create_event_diversity_sankey():\n",
    "    \"\"\"\n",
    "    Create a Sankey diagram for: Portfolio → Plan → Event Diversity → Active Status → ARR Group\n",
    "    Event diversity shows how many different event types users have adopted\n",
    "    \"\"\"\n",
    "    df_clean = joined_df.copy()\n",
    "    \n",
    "    # Filter to only active users for the final ARR grouping\n",
    "    df_with_arr = df_clean.copy()\n",
    "    # Ensure arr_group exists, create if it doesn't\n",
    "    if 'arr_group' not in df_clean.columns:\n",
    "        df_clean['arr_group'] = pd.cut(\n",
    "            df_clean['annual_revenue'],\n",
    "            bins=[0, 5000, 15000, float('inf')],\n",
    "            labels=['Low ARR (<$5k)', 'Mid ARR ($5k-$15k)', 'High ARR ($15k+)']\n",
    "        )\n",
    "    \n",
    "    df_with_arr['arr_group'] = df_with_arr['arr_group'].astype(str)\n",
    "    df_with_arr.loc[df_with_arr['is_active'] == 0, 'arr_group'] = 'Inactive (No ARR)'\n",
    "    \n",
    "    # Build node labels\n",
    "    node_labels = []\n",
    "    \n",
    "    # Level 1: Portfolio Groups\n",
    "    portfolio_nodes = sorted(df_clean['portfolio_group'].unique().astype(str))\n",
    "    node_labels.extend(portfolio_nodes)\n",
    "    \n",
    "    # Level 2: Plan Types\n",
    "    plan_nodes = sorted(df_clean['plan_type'].unique())\n",
    "    node_labels.extend(plan_nodes)\n",
    "    \n",
    "    # Level 3: Event Diversity Groups\n",
    "    diversity_nodes = sorted([str(x) for x in df_clean['event_diversity_group'].unique()], reverse=True)\n",
    "    node_labels.extend(diversity_nodes)\n",
    "    \n",
    "    # Level 4: Active Status\n",
    "    status_nodes = sorted([str(x) for x in df_clean['active_status'].unique()])\n",
    "    node_labels.extend(status_nodes)\n",
    "    \n",
    "    # Level 5: ARR Groups\n",
    "    arr_nodes = sorted([str(x) for x in df_with_arr['arr_group'].unique()])\n",
    "    node_labels.extend(arr_nodes)\n",
    "    \n",
    "    # Create node index mapping\n",
    "    node_dict = {str(label): idx for idx, label in enumerate(node_labels)}\n",
    "    \n",
    "    # Build links\n",
    "    sources = []\n",
    "    targets = []\n",
    "    values = []\n",
    "    link_labels = []\n",
    "    \n",
    "    # Flow 1: Portfolio → Plan\n",
    "    flow1 = df_clean.groupby(['portfolio_group', 'plan_type']).agg({\n",
    "        'user_id': 'count',\n",
    "        'annual_revenue': 'sum'\n",
    "    }).reset_index()\n",
    "    \n",
    "    for _, row in flow1.iterrows():\n",
    "        sources.append(node_dict[str(row['portfolio_group'])])\n",
    "        targets.append(node_dict[str(row['plan_type'])])\n",
    "        values.append(row['user_id'])\n",
    "        link_labels.append(f\"{row['user_id']} users, ${row['annual_revenue']:,.0f} ARR\")\n",
    "    \n",
    "    # Flow 2: Plan → Event Diversity\n",
    "    flow2 = df_clean.groupby(['plan_type', 'event_diversity_group']).agg({\n",
    "        'user_id': 'count',\n",
    "        'annual_revenue': 'sum'\n",
    "    }).reset_index()\n",
    "    \n",
    "    for _, row in flow2.iterrows():\n",
    "        sources.append(node_dict[str(row['plan_type'])])\n",
    "        targets.append(node_dict[str(row['event_diversity_group'])])\n",
    "        values.append(row['user_id'])\n",
    "        link_labels.append(f\"{row['user_id']} users, ${row['annual_revenue']:,.0f} ARR\")\n",
    "    \n",
    "    # Flow 3: Event Diversity → Active Status\n",
    "    flow3 = df_clean.groupby(['event_diversity_group', 'active_status']).agg({\n",
    "        'user_id': 'count',\n",
    "        'annual_revenue': 'sum'\n",
    "    }).reset_index()\n",
    "    \n",
    "    for _, row in flow3.iterrows():\n",
    "        sources.append(node_dict[str(row['event_diversity_group'])])\n",
    "        targets.append(node_dict[str(row['active_status'])])\n",
    "        values.append(row['user_id'])\n",
    "        link_labels.append(f\"{row['user_id']} users, ${row['annual_revenue']:,.0f} ARR\")\n",
    "    \n",
    "    # Flow 4: Active Status → ARR Group\n",
    "    flow4 = df_with_arr.groupby(['active_status', 'arr_group']).agg({\n",
    "        'user_id': 'count',\n",
    "        'annual_revenue': 'sum'\n",
    "    }).reset_index()\n",
    "    \n",
    "    for _, row in flow4.iterrows():\n",
    "        sources.append(node_dict[str(row['active_status'])])\n",
    "        targets.append(node_dict[str(row['arr_group'])])\n",
    "        values.append(row['user_id'])\n",
    "        link_labels.append(f\"{row['user_id']} users, ${row['annual_revenue']:,.0f} ARR\")\n",
    "    \n",
    "    # Create Sankey diagram\n",
    "    fig = go.Figure(data=[go.Sankey(\n",
    "        node=dict(\n",
    "            pad=15,\n",
    "            thickness=20,\n",
    "            line=dict(color=\"black\", width=0.5),\n",
    "            label=node_labels,\n",
    "            color=['lightblue' if 'unit' in str(n) else \n",
    "                   'lightgreen' if n in ['starter', 'pro', 'enterprise', 'premium'] else\n",
    "                   'gold' if 'events' in str(n) else\n",
    "                   'lightcoral' if n == 'Inactive' else \n",
    "                   'salmon' if 'Inactive' in str(n) else\n",
    "                   'lightseagreen'\n",
    "                   for n in node_labels]\n",
    "        ),\n",
    "        link=dict(\n",
    "            source=sources,\n",
    "            target=targets,\n",
    "            value=values,\n",
    "            label=link_labels\n",
    "        )\n",
    "    )])\n",
    "    \n",
    "    fig.update_layout(\n",
    "        title=f\"User Flow: Portfolio → Plan → Event Diversity → Active Status → ARR\",\n",
    "        font=dict(size=10),\n",
    "        height=900\n",
    "    )\n",
    "    \n",
    "    return fig\n",
    "\n",
    "print(\"Event diversity Sankey function defined!\")"
   ]
  },
  {
   "cell_type": "code",
   "execution_count": null,
   "id": "43hydj5mxkm",
   "metadata": {},
   "outputs": [
    {
     "name": "stdout",
     "output_type": "stream",
     "text": [
      "\n",
      "====================================================================================================\n",
      "EVENT DIVERSITY FLOW ANALYSIS\n",
      "====================================================================================================\n"
     ]
    },
    {
     "name": "stderr",
     "output_type": "stream",
     "text": [
      "/var/folders/dt/ygs29g2d69z6j_kp3w6648340000gn/T/ipykernel_86856/1003795851.py:55: FutureWarning:\n",
      "\n",
      "The default of observed=False is deprecated and will be changed to True in a future version of pandas. Pass observed=False to retain current behavior or observed=True to adopt the future default and silence this warning.\n",
      "\n",
      "/var/folders/dt/ygs29g2d69z6j_kp3w6648340000gn/T/ipykernel_86856/1003795851.py:67: FutureWarning:\n",
      "\n",
      "The default of observed=False is deprecated and will be changed to True in a future version of pandas. Pass observed=False to retain current behavior or observed=True to adopt the future default and silence this warning.\n",
      "\n",
      "/var/folders/dt/ygs29g2d69z6j_kp3w6648340000gn/T/ipykernel_86856/1003795851.py:79: FutureWarning:\n",
      "\n",
      "The default of observed=False is deprecated and will be changed to True in a future version of pandas. Pass observed=False to retain current behavior or observed=True to adopt the future default and silence this warning.\n",
      "\n"
     ]
    },
    {
     "data": {
      "application/vnd.plotly.v1+json": {
       "config": {
        "plotlyServerURL": "https://plot.ly"
       },
       "data": [
        {
         "link": {
          "label": [
           "144 users, $1,953,914 ARR",
           "299 users, $547,381 ARR",
           "470 users, $169,239 ARR",
           "509 users, $6,663,475 ARR",
           "1080 users, $1,970,791 ARR",
           "1766 users, $649,103 ARR",
           "130 users, $1,815,272 ARR",
           "278 users, $526,271 ARR",
           "475 users, $181,316 ARR",
           "724 users, $11,694,116 ARR",
           "1629 users, $3,453,301 ARR",
           "2496 users, $1,068,816 ARR",
           "36 users, $513,337 ARR",
           "723 users, $10,617,063 ARR",
           "748 users, $10,996,377 ARR",
           "110 users, $213,174 ARR",
           "1938 users, $3,778,853 ARR",
           "1238 users, $2,505,717 ARR",
           "297 users, $111,910 ARR",
           "3730 users, $1,483,189 ARR",
           "1180 users, $473,375 ARR",
           "352 users, $766,566 ARR",
           "91 users, $71,855 ARR",
           "4557 users, $12,425,532 ARR",
           "1834 users, $3,453,573 ARR",
           "2132 users, $10,125,014 ARR",
           "1034 users, $3,850,456 ARR",
           "552 users, $11,532,931 ARR",
           "5986 users, $6,769,036 ARR",
           "503 users, $5,015,144 ARR",
           "2959 users, $7,375,884 ARR"
          ],
          "source": [
           0,
           0,
           0,
           2,
           2,
           2,
           3,
           3,
           3,
           1,
           1,
           1,
           4,
           4,
           4,
           5,
           5,
           5,
           6,
           6,
           6,
           9,
           9,
           8,
           8,
           7,
           7,
           10,
           10,
           10,
           11
          ],
          "target": [
           4,
           5,
           6,
           4,
           5,
           6,
           4,
           5,
           6,
           4,
           5,
           6,
           9,
           8,
           7,
           9,
           8,
           7,
           9,
           8,
           7,
           10,
           11,
           10,
           11,
           10,
           11,
           12,
           14,
           15,
           13
          ],
          "value": [
           144,
           299,
           470,
           509,
           1080,
           1766,
           130,
           278,
           475,
           724,
           1629,
           2496,
           36,
           723,
           748,
           110,
           1938,
           1238,
           297,
           3730,
           1180,
           352,
           91,
           4557,
           1834,
           2132,
           1034,
           552,
           5986,
           503,
           2959
          ]
         },
         "node": {
          "color": [
           "lightblue",
           "lightblue",
           "lightblue",
           "lightblue",
           "lightgreen",
           "lightgreen",
           "lightgreen",
           "gold",
           "gold",
           "gold",
           "lightseagreen",
           "lightcoral",
           "lightseagreen",
           "salmon",
           "lightseagreen",
           "lightseagreen"
          ],
          "label": [
           "1 unit",
           "10+ units",
           "2-5 units",
           "6-10 units",
           "premium",
           "pro",
           "starter",
           "7+ events",
           "5-7 events",
           "0-4 events",
           "Active",
           "Inactive",
           "High ARR ($15k+)",
           "Inactive (No ARR)",
           "Low ARR (<$5k)",
           "Mid ARR ($5k-$15k)"
          ],
          "line": {
           "color": "black",
           "width": 0.5
          },
          "pad": 15,
          "thickness": 20
         },
         "type": "sankey"
        }
       ],
       "layout": {
        "font": {
         "size": 10
        },
        "height": 900,
        "template": {
         "data": {
          "bar": [
           {
            "error_x": {
             "color": "#2a3f5f"
            },
            "error_y": {
             "color": "#2a3f5f"
            },
            "marker": {
             "line": {
              "color": "#E5ECF6",
              "width": 0.5
             },
             "pattern": {
              "fillmode": "overlay",
              "size": 10,
              "solidity": 0.2
             }
            },
            "type": "bar"
           }
          ],
          "barpolar": [
           {
            "marker": {
             "line": {
              "color": "#E5ECF6",
              "width": 0.5
             },
             "pattern": {
              "fillmode": "overlay",
              "size": 10,
              "solidity": 0.2
             }
            },
            "type": "barpolar"
           }
          ],
          "carpet": [
           {
            "aaxis": {
             "endlinecolor": "#2a3f5f",
             "gridcolor": "white",
             "linecolor": "white",
             "minorgridcolor": "white",
             "startlinecolor": "#2a3f5f"
            },
            "baxis": {
             "endlinecolor": "#2a3f5f",
             "gridcolor": "white",
             "linecolor": "white",
             "minorgridcolor": "white",
             "startlinecolor": "#2a3f5f"
            },
            "type": "carpet"
           }
          ],
          "choropleth": [
           {
            "colorbar": {
             "outlinewidth": 0,
             "ticks": ""
            },
            "type": "choropleth"
           }
          ],
          "contour": [
           {
            "colorbar": {
             "outlinewidth": 0,
             "ticks": ""
            },
            "colorscale": [
             [
              0,
              "#0d0887"
             ],
             [
              0.1111111111111111,
              "#46039f"
             ],
             [
              0.2222222222222222,
              "#7201a8"
             ],
             [
              0.3333333333333333,
              "#9c179e"
             ],
             [
              0.4444444444444444,
              "#bd3786"
             ],
             [
              0.5555555555555556,
              "#d8576b"
             ],
             [
              0.6666666666666666,
              "#ed7953"
             ],
             [
              0.7777777777777778,
              "#fb9f3a"
             ],
             [
              0.8888888888888888,
              "#fdca26"
             ],
             [
              1,
              "#f0f921"
             ]
            ],
            "type": "contour"
           }
          ],
          "contourcarpet": [
           {
            "colorbar": {
             "outlinewidth": 0,
             "ticks": ""
            },
            "type": "contourcarpet"
           }
          ],
          "heatmap": [
           {
            "colorbar": {
             "outlinewidth": 0,
             "ticks": ""
            },
            "colorscale": [
             [
              0,
              "#0d0887"
             ],
             [
              0.1111111111111111,
              "#46039f"
             ],
             [
              0.2222222222222222,
              "#7201a8"
             ],
             [
              0.3333333333333333,
              "#9c179e"
             ],
             [
              0.4444444444444444,
              "#bd3786"
             ],
             [
              0.5555555555555556,
              "#d8576b"
             ],
             [
              0.6666666666666666,
              "#ed7953"
             ],
             [
              0.7777777777777778,
              "#fb9f3a"
             ],
             [
              0.8888888888888888,
              "#fdca26"
             ],
             [
              1,
              "#f0f921"
             ]
            ],
            "type": "heatmap"
           }
          ],
          "heatmapgl": [
           {
            "colorbar": {
             "outlinewidth": 0,
             "ticks": ""
            },
            "colorscale": [
             [
              0,
              "#0d0887"
             ],
             [
              0.1111111111111111,
              "#46039f"
             ],
             [
              0.2222222222222222,
              "#7201a8"
             ],
             [
              0.3333333333333333,
              "#9c179e"
             ],
             [
              0.4444444444444444,
              "#bd3786"
             ],
             [
              0.5555555555555556,
              "#d8576b"
             ],
             [
              0.6666666666666666,
              "#ed7953"
             ],
             [
              0.7777777777777778,
              "#fb9f3a"
             ],
             [
              0.8888888888888888,
              "#fdca26"
             ],
             [
              1,
              "#f0f921"
             ]
            ],
            "type": "heatmapgl"
           }
          ],
          "histogram": [
           {
            "marker": {
             "pattern": {
              "fillmode": "overlay",
              "size": 10,
              "solidity": 0.2
             }
            },
            "type": "histogram"
           }
          ],
          "histogram2d": [
           {
            "colorbar": {
             "outlinewidth": 0,
             "ticks": ""
            },
            "colorscale": [
             [
              0,
              "#0d0887"
             ],
             [
              0.1111111111111111,
              "#46039f"
             ],
             [
              0.2222222222222222,
              "#7201a8"
             ],
             [
              0.3333333333333333,
              "#9c179e"
             ],
             [
              0.4444444444444444,
              "#bd3786"
             ],
             [
              0.5555555555555556,
              "#d8576b"
             ],
             [
              0.6666666666666666,
              "#ed7953"
             ],
             [
              0.7777777777777778,
              "#fb9f3a"
             ],
             [
              0.8888888888888888,
              "#fdca26"
             ],
             [
              1,
              "#f0f921"
             ]
            ],
            "type": "histogram2d"
           }
          ],
          "histogram2dcontour": [
           {
            "colorbar": {
             "outlinewidth": 0,
             "ticks": ""
            },
            "colorscale": [
             [
              0,
              "#0d0887"
             ],
             [
              0.1111111111111111,
              "#46039f"
             ],
             [
              0.2222222222222222,
              "#7201a8"
             ],
             [
              0.3333333333333333,
              "#9c179e"
             ],
             [
              0.4444444444444444,
              "#bd3786"
             ],
             [
              0.5555555555555556,
              "#d8576b"
             ],
             [
              0.6666666666666666,
              "#ed7953"
             ],
             [
              0.7777777777777778,
              "#fb9f3a"
             ],
             [
              0.8888888888888888,
              "#fdca26"
             ],
             [
              1,
              "#f0f921"
             ]
            ],
            "type": "histogram2dcontour"
           }
          ],
          "mesh3d": [
           {
            "colorbar": {
             "outlinewidth": 0,
             "ticks": ""
            },
            "type": "mesh3d"
           }
          ],
          "parcoords": [
           {
            "line": {
             "colorbar": {
              "outlinewidth": 0,
              "ticks": ""
             }
            },
            "type": "parcoords"
           }
          ],
          "pie": [
           {
            "automargin": true,
            "type": "pie"
           }
          ],
          "scatter": [
           {
            "fillpattern": {
             "fillmode": "overlay",
             "size": 10,
             "solidity": 0.2
            },
            "type": "scatter"
           }
          ],
          "scatter3d": [
           {
            "line": {
             "colorbar": {
              "outlinewidth": 0,
              "ticks": ""
             }
            },
            "marker": {
             "colorbar": {
              "outlinewidth": 0,
              "ticks": ""
             }
            },
            "type": "scatter3d"
           }
          ],
          "scattercarpet": [
           {
            "marker": {
             "colorbar": {
              "outlinewidth": 0,
              "ticks": ""
             }
            },
            "type": "scattercarpet"
           }
          ],
          "scattergeo": [
           {
            "marker": {
             "colorbar": {
              "outlinewidth": 0,
              "ticks": ""
             }
            },
            "type": "scattergeo"
           }
          ],
          "scattergl": [
           {
            "marker": {
             "colorbar": {
              "outlinewidth": 0,
              "ticks": ""
             }
            },
            "type": "scattergl"
           }
          ],
          "scattermapbox": [
           {
            "marker": {
             "colorbar": {
              "outlinewidth": 0,
              "ticks": ""
             }
            },
            "type": "scattermapbox"
           }
          ],
          "scatterpolar": [
           {
            "marker": {
             "colorbar": {
              "outlinewidth": 0,
              "ticks": ""
             }
            },
            "type": "scatterpolar"
           }
          ],
          "scatterpolargl": [
           {
            "marker": {
             "colorbar": {
              "outlinewidth": 0,
              "ticks": ""
             }
            },
            "type": "scatterpolargl"
           }
          ],
          "scatterternary": [
           {
            "marker": {
             "colorbar": {
              "outlinewidth": 0,
              "ticks": ""
             }
            },
            "type": "scatterternary"
           }
          ],
          "surface": [
           {
            "colorbar": {
             "outlinewidth": 0,
             "ticks": ""
            },
            "colorscale": [
             [
              0,
              "#0d0887"
             ],
             [
              0.1111111111111111,
              "#46039f"
             ],
             [
              0.2222222222222222,
              "#7201a8"
             ],
             [
              0.3333333333333333,
              "#9c179e"
             ],
             [
              0.4444444444444444,
              "#bd3786"
             ],
             [
              0.5555555555555556,
              "#d8576b"
             ],
             [
              0.6666666666666666,
              "#ed7953"
             ],
             [
              0.7777777777777778,
              "#fb9f3a"
             ],
             [
              0.8888888888888888,
              "#fdca26"
             ],
             [
              1,
              "#f0f921"
             ]
            ],
            "type": "surface"
           }
          ],
          "table": [
           {
            "cells": {
             "fill": {
              "color": "#EBF0F8"
             },
             "line": {
              "color": "white"
             }
            },
            "header": {
             "fill": {
              "color": "#C8D4E3"
             },
             "line": {
              "color": "white"
             }
            },
            "type": "table"
           }
          ]
         },
         "layout": {
          "annotationdefaults": {
           "arrowcolor": "#2a3f5f",
           "arrowhead": 0,
           "arrowwidth": 1
          },
          "autotypenumbers": "strict",
          "coloraxis": {
           "colorbar": {
            "outlinewidth": 0,
            "ticks": ""
           }
          },
          "colorscale": {
           "diverging": [
            [
             0,
             "#8e0152"
            ],
            [
             0.1,
             "#c51b7d"
            ],
            [
             0.2,
             "#de77ae"
            ],
            [
             0.3,
             "#f1b6da"
            ],
            [
             0.4,
             "#fde0ef"
            ],
            [
             0.5,
             "#f7f7f7"
            ],
            [
             0.6,
             "#e6f5d0"
            ],
            [
             0.7,
             "#b8e186"
            ],
            [
             0.8,
             "#7fbc41"
            ],
            [
             0.9,
             "#4d9221"
            ],
            [
             1,
             "#276419"
            ]
           ],
           "sequential": [
            [
             0,
             "#0d0887"
            ],
            [
             0.1111111111111111,
             "#46039f"
            ],
            [
             0.2222222222222222,
             "#7201a8"
            ],
            [
             0.3333333333333333,
             "#9c179e"
            ],
            [
             0.4444444444444444,
             "#bd3786"
            ],
            [
             0.5555555555555556,
             "#d8576b"
            ],
            [
             0.6666666666666666,
             "#ed7953"
            ],
            [
             0.7777777777777778,
             "#fb9f3a"
            ],
            [
             0.8888888888888888,
             "#fdca26"
            ],
            [
             1,
             "#f0f921"
            ]
           ],
           "sequentialminus": [
            [
             0,
             "#0d0887"
            ],
            [
             0.1111111111111111,
             "#46039f"
            ],
            [
             0.2222222222222222,
             "#7201a8"
            ],
            [
             0.3333333333333333,
             "#9c179e"
            ],
            [
             0.4444444444444444,
             "#bd3786"
            ],
            [
             0.5555555555555556,
             "#d8576b"
            ],
            [
             0.6666666666666666,
             "#ed7953"
            ],
            [
             0.7777777777777778,
             "#fb9f3a"
            ],
            [
             0.8888888888888888,
             "#fdca26"
            ],
            [
             1,
             "#f0f921"
            ]
           ]
          },
          "colorway": [
           "#636efa",
           "#EF553B",
           "#00cc96",
           "#ab63fa",
           "#FFA15A",
           "#19d3f3",
           "#FF6692",
           "#B6E880",
           "#FF97FF",
           "#FECB52"
          ],
          "font": {
           "color": "#2a3f5f"
          },
          "geo": {
           "bgcolor": "white",
           "lakecolor": "white",
           "landcolor": "#E5ECF6",
           "showlakes": true,
           "showland": true,
           "subunitcolor": "white"
          },
          "hoverlabel": {
           "align": "left"
          },
          "hovermode": "closest",
          "mapbox": {
           "style": "light"
          },
          "paper_bgcolor": "white",
          "plot_bgcolor": "#E5ECF6",
          "polar": {
           "angularaxis": {
            "gridcolor": "white",
            "linecolor": "white",
            "ticks": ""
           },
           "bgcolor": "#E5ECF6",
           "radialaxis": {
            "gridcolor": "white",
            "linecolor": "white",
            "ticks": ""
           }
          },
          "scene": {
           "xaxis": {
            "backgroundcolor": "#E5ECF6",
            "gridcolor": "white",
            "gridwidth": 2,
            "linecolor": "white",
            "showbackground": true,
            "ticks": "",
            "zerolinecolor": "white"
           },
           "yaxis": {
            "backgroundcolor": "#E5ECF6",
            "gridcolor": "white",
            "gridwidth": 2,
            "linecolor": "white",
            "showbackground": true,
            "ticks": "",
            "zerolinecolor": "white"
           },
           "zaxis": {
            "backgroundcolor": "#E5ECF6",
            "gridcolor": "white",
            "gridwidth": 2,
            "linecolor": "white",
            "showbackground": true,
            "ticks": "",
            "zerolinecolor": "white"
           }
          },
          "shapedefaults": {
           "line": {
            "color": "#2a3f5f"
           }
          },
          "ternary": {
           "aaxis": {
            "gridcolor": "white",
            "linecolor": "white",
            "ticks": ""
           },
           "baxis": {
            "gridcolor": "white",
            "linecolor": "white",
            "ticks": ""
           },
           "bgcolor": "#E5ECF6",
           "caxis": {
            "gridcolor": "white",
            "linecolor": "white",
            "ticks": ""
           }
          },
          "title": {
           "x": 0.05
          },
          "xaxis": {
           "automargin": true,
           "gridcolor": "white",
           "linecolor": "white",
           "ticks": "",
           "title": {
            "standoff": 15
           },
           "zerolinecolor": "white",
           "zerolinewidth": 2
          },
          "yaxis": {
           "automargin": true,
           "gridcolor": "white",
           "linecolor": "white",
           "ticks": "",
           "title": {
            "standoff": 15
           },
           "zerolinecolor": "white",
           "zerolinewidth": 2
          }
         }
        },
        "title": {
         "text": "User Flow: Portfolio → Plan → Event Diversity → Active Status → ARR"
        }
       }
      }
     },
     "metadata": {},
     "output_type": "display_data"
    },
    {
     "name": "stdout",
     "output_type": "stream",
     "text": [
      "\n",
      "This diagram shows how users flow through:\n",
      "  Portfolio Size → Plan Type → Event Diversity (how many features used) → Active Status → Revenue Tier\n",
      "\n",
      "Event diversity groups:\n",
      "  • 0-4 events: Light users - minimal feature adoption\n",
      "  • 5-7 events: Moderate users - good feature adoption\n",
      "  • 7+ events: Power users - extensive feature adoption\n"
     ]
    }
   ],
   "source": [
    "# Create the event diversity Sankey diagram\n",
    "print(\"\\n\" + \"=\"*100)\n",
    "print(\"EVENT DIVERSITY FLOW ANALYSIS\")\n",
    "print(\"=\"*100)\n",
    "\n",
    "# Create and show the Sankey\n",
    "fig = create_event_diversity_sankey()\n",
    "fig.show()\n",
    "\n",
    "print(\"\\nThis diagram shows how users flow through:\")\n",
    "print(\"  Portfolio Size → Plan Type → Event Diversity (how many features used) → Active Status → Revenue Tier\")\n",
    "print(\"\\nEvent diversity groups:\")\n",
    "print(\"  • 0-4 events: Light users - minimal feature adoption\")\n",
    "print(\"  • 5-7 events: Moderate users - good feature adoption\")\n",
    "print(\"  • 7+ events: Power users - extensive feature adoption\")"
   ]
  },
  {
   "cell_type": "code",
   "execution_count": null,
   "id": "z6mnekyrea",
   "metadata": {},
   "outputs": [
    {
     "name": "stdout",
     "output_type": "stream",
     "text": [
      "====================================================================================================\n",
      "EVENT DIVERSITY IMPACT: How Feature Adoption Drives Value\n",
      "====================================================================================================\n",
      "\n",
      "Event Diversity Performance:\n"
     ]
    },
    {
     "name": "stderr",
     "output_type": "stream",
     "text": [
      "/var/folders/dt/ygs29g2d69z6j_kp3w6648340000gn/T/ipykernel_86856/2655057165.py:6: FutureWarning:\n",
      "\n",
      "The default of observed=False is deprecated and will be changed to True in a future version of pandas. Pass observed=False to retain current behavior or observed=True to adopt the future default and silence this warning.\n",
      "\n"
     ]
    },
    {
     "data": {
      "text/html": [
       "<div>\n",
       "<style scoped>\n",
       "    .dataframe tbody tr th:only-of-type {\n",
       "        vertical-align: middle;\n",
       "    }\n",
       "\n",
       "    .dataframe tbody tr th {\n",
       "        vertical-align: top;\n",
       "    }\n",
       "\n",
       "    .dataframe thead th {\n",
       "        text-align: right;\n",
       "    }\n",
       "</style>\n",
       "<table border=\"1\" class=\"dataframe\">\n",
       "  <thead>\n",
       "    <tr style=\"text-align: right;\">\n",
       "      <th></th>\n",
       "      <th>customer_count</th>\n",
       "      <th>total_arr</th>\n",
       "      <th>avg_arr</th>\n",
       "      <th>active_rate_%</th>\n",
       "      <th>avg_nps</th>\n",
       "      <th>avg_support_tickets</th>\n",
       "      <th>pct_of_customers</th>\n",
       "    </tr>\n",
       "    <tr>\n",
       "      <th>event_diversity_group</th>\n",
       "      <th></th>\n",
       "      <th></th>\n",
       "      <th></th>\n",
       "      <th></th>\n",
       "      <th></th>\n",
       "      <th></th>\n",
       "      <th></th>\n",
       "    </tr>\n",
       "  </thead>\n",
       "  <tbody>\n",
       "    <tr>\n",
       "      <th>0-4 events</th>\n",
       "      <td>443</td>\n",
       "      <td>838420.89</td>\n",
       "      <td>1892.60</td>\n",
       "      <td>79.46</td>\n",
       "      <td>21.18</td>\n",
       "      <td>0.25</td>\n",
       "      <td>4.4</td>\n",
       "    </tr>\n",
       "    <tr>\n",
       "      <th>5-7 events</th>\n",
       "      <td>6391</td>\n",
       "      <td>15879105.37</td>\n",
       "      <td>2484.60</td>\n",
       "      <td>71.30</td>\n",
       "      <td>18.75</td>\n",
       "      <td>0.93</td>\n",
       "      <td>63.9</td>\n",
       "    </tr>\n",
       "    <tr>\n",
       "      <th>7+ events</th>\n",
       "      <td>3166</td>\n",
       "      <td>13975469.58</td>\n",
       "      <td>4414.24</td>\n",
       "      <td>67.34</td>\n",
       "      <td>16.19</td>\n",
       "      <td>1.99</td>\n",
       "      <td>31.7</td>\n",
       "    </tr>\n",
       "  </tbody>\n",
       "</table>\n",
       "</div>"
      ],
      "text/plain": [
       "                       customer_count    total_arr  avg_arr  active_rate_%  avg_nps  avg_support_tickets  pct_of_customers\n",
       "event_diversity_group                                                                                                     \n",
       "0-4 events                        443    838420.89  1892.60          79.46    21.18                 0.25               4.4\n",
       "5-7 events                       6391  15879105.37  2484.60          71.30    18.75                 0.93              63.9\n",
       "7+ events                        3166  13975469.58  4414.24          67.34    16.19                 1.99              31.7"
      ]
     },
     "metadata": {},
     "output_type": "display_data"
    },
    {
     "name": "stdout",
     "output_type": "stream",
     "text": [
      "\n",
      "====================================================================================================\n",
      "KEY INSIGHTS\n",
      "====================================================================================================\n",
      "\n",
      "Power Users (7+ Events) vs Light Users (0-4 Events):\n",
      "  • ARR Lift: $2,522 higher per customer (133.2% increase)\n",
      "  • Active Rate Lift: -12.1% higher\n",
      "  • NPS Difference: -5.0 points\n",
      "\n",
      "Feature adoption opportunity:\n",
      "  • 6391 customers (63.9%) are using 5-7 features\n",
      "  • Average ARR: $2,485\n",
      "  • Potential to upgrade them to power users (7+) for $592 lift per customer\n",
      "\n",
      "Low adoption concern:\n",
      "  • 443 customers (4.4%) are using 0-4 features\n",
      "  • Active rate: 79.5% (vs 67.3% for power users)\n",
      "  • High risk for churn - need feature adoption campaigns\n"
     ]
    }
   ],
   "source": [
    "# Event Diversity Impact Analysis\n",
    "print(\"=\"*100)\n",
    "print(\"EVENT DIVERSITY IMPACT: How Feature Adoption Drives Value\")\n",
    "print(\"=\"*100)\n",
    "\n",
    "diversity_impact = joined_df.groupby('event_diversity_group').agg({\n",
    "    'user_id': 'count',\n",
    "    'annual_revenue': ['sum', 'mean'],\n",
    "    'is_active': lambda x: (x.sum() / len(x) * 100),\n",
    "    'nps_score': 'mean',\n",
    "    'support_tickets_last_90d': 'mean'\n",
    "}).round(2)\n",
    "\n",
    "diversity_impact.columns = ['customer_count', 'total_arr', 'avg_arr', 'active_rate_%', 'avg_nps', 'avg_support_tickets']\n",
    "diversity_impact['pct_of_customers'] = (diversity_impact['customer_count'] / diversity_impact['customer_count'].sum() * 100).round(1)\n",
    "\n",
    "print(\"\\nEvent Diversity Performance:\")\n",
    "display(diversity_impact.sort_index())\n",
    "\n",
    "print(\"\\n\" + \"=\"*100)\n",
    "print(\"KEY INSIGHTS\")\n",
    "print(\"=\"*100)\n",
    "\n",
    "# Compare power users vs light users\n",
    "power_users = diversity_impact.loc['7+ events']\n",
    "light_users = diversity_impact.loc['0-4 events']\n",
    "\n",
    "arr_lift = power_users['avg_arr'] - light_users['avg_arr']\n",
    "active_lift = power_users['active_rate_%'] - light_users['active_rate_%']\n",
    "\n",
    "print(f\"\\nPower Users (7+ Events) vs Light Users (0-4 Events):\")\n",
    "print(f\"  • ARR Lift: ${arr_lift:,.0f} higher per customer ({((power_users['avg_arr'] / light_users['avg_arr'] - 1) * 100):.1f}% increase)\")\n",
    "print(f\"  • Active Rate Lift: {active_lift:.1f}% higher\")\n",
    "print(f\"  • NPS Difference: {power_users['avg_nps'] - light_users['avg_nps']:.1f} points\")\n",
    "\n",
    "print(f\"\\nFeature adoption opportunity:\")\n",
    "moderate = diversity_impact.loc['5-7 events']\n",
    "print(f\"  • {moderate['customer_count']:.0f} customers ({moderate['pct_of_customers']:.1f}%) are using 5-7 features\")\n",
    "print(f\"  • Average ARR: ${moderate['avg_arr']:,.0f}\")\n",
    "print(f\"  • Potential to upgrade them to power users (7+) for ${arr_lift - (power_users['avg_arr'] - moderate['avg_arr']):,.0f} lift per customer\")\n",
    "\n",
    "print(f\"\\nLow adoption concern:\")\n",
    "print(f\"  • {light_users['customer_count']:.0f} customers ({light_users['pct_of_customers']:.1f}%) are using 0-4 features\")\n",
    "print(f\"  • Active rate: {light_users['active_rate_%']:.1f}% (vs {power_users['active_rate_%']:.1f}% for power users)\")\n",
    "print(f\"  • High risk for churn - need feature adoption campaigns\")"
   ]
  }
 ],
 "metadata": {
  "kernelspec": {
   "display_name": "Python 3",
   "language": "python",
   "name": "python3"
  },
  "language_info": {
   "codemirror_mode": {
    "name": "ipython",
    "version": 3
   },
   "file_extension": ".py",
   "mimetype": "text/x-python",
   "name": "python",
   "nbconvert_exporter": "python",
   "pygments_lexer": "ipython3",
   "version": "3.9.0"
  }
 },
 "nbformat": 4,
 "nbformat_minor": 5
}
